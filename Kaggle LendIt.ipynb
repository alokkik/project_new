{
 "cells": [
  {
   "cell_type": "code",
   "execution_count": 1,
   "metadata": {},
   "outputs": [
    {
     "data": {
      "text/plain": [
       "'C:\\\\Users\\\\sohai\\\\Desktop\\\\My Personal\\\\0. Kaggle'"
      ]
     },
     "execution_count": 1,
     "metadata": {},
     "output_type": "execute_result"
    }
   ],
   "source": [
    "#import some necessary librairies\n",
    "\n",
    "import os\n",
    "import pandas as pd\n",
    "import numpy as np\n",
    "import seaborn as sns\n",
    "import matplotlib.pyplot as plt\n",
    "\n",
    "%matplotlib inline\n",
    "\n",
    "color = sns.color_palette()\n",
    "sns.set_style('darkgrid')\n",
    "\n",
    "import warnings\n",
    "warnings.filterwarnings('ignore')\n",
    "\n",
    "pd.set_option('display.float_format', lambda x: '{:.2f}'.format(x)) #Limiting floats output to 3 decimal points\n",
    "os.getcwd()"
   ]
  },
  {
   "cell_type": "code",
   "execution_count": 2,
   "metadata": {},
   "outputs": [
    {
     "name": "stdout",
     "output_type": "stream",
     "text": [
      "C:\\Users\\sohai\\Desktop\\My Personal\\0. Kaggle\n",
      "['.ipynb_checkpoints', 'cibil.csv', 'cibil_data_desc.xlsx', 'Credit Model Risk Analysis v2.pdf', 'Credit Model Risk Analysis.pdf', 'customer_data_for_credit_scoring.csv', 'df.xlsx', 'Doc.docx', 'final customer_data_for_credit_scoring.csv', 'Kaggle LendIt.ipynb', 'kek.xlsx', 'loan_type.csv', 'loan_type_enquiries.csv', 'member_enquiries.csv']\n"
     ]
    }
   ],
   "source": [
    "#Change the working directory\n",
    "%cd \"C:\\\\Users\\\\sohai\\\\Desktop\\\\My Personal\\\\0. Kaggle\"\n",
    "print(os.listdir())"
   ]
  },
  {
   "cell_type": "code",
   "execution_count": 3,
   "metadata": {},
   "outputs": [
    {
     "data": {
      "text/html": [
       "<div>\n",
       "<style scoped>\n",
       "    .dataframe tbody tr th:only-of-type {\n",
       "        vertical-align: middle;\n",
       "    }\n",
       "\n",
       "    .dataframe tbody tr th {\n",
       "        vertical-align: top;\n",
       "    }\n",
       "\n",
       "    .dataframe thead th {\n",
       "        text-align: right;\n",
       "    }\n",
       "</style>\n",
       "<table border=\"1\" class=\"dataframe\">\n",
       "  <thead>\n",
       "    <tr style=\"text-align: right;\">\n",
       "      <th></th>\n",
       "      <th>CIBIL score</th>\n",
       "      <th>Current Loan Delay</th>\n",
       "      <th>Current Loan tenure</th>\n",
       "      <th>Date_of_birth</th>\n",
       "      <th>Final status</th>\n",
       "      <th>First Loan</th>\n",
       "      <th>Funding amount</th>\n",
       "      <th>Funding date</th>\n",
       "      <th>Gender</th>\n",
       "      <th>Highest educational qualifications</th>\n",
       "      <th>Home ownership</th>\n",
       "      <th>Last Loan</th>\n",
       "      <th>Monthly salary</th>\n",
       "      <th>Product/loan type</th>\n",
       "      <th>Purpose of loan</th>\n",
       "      <th>Years Of Experience</th>\n",
       "      <th>user</th>\n",
       "      <th>Funded/Rejected</th>\n",
       "    </tr>\n",
       "  </thead>\n",
       "  <tbody>\n",
       "    <tr>\n",
       "      <th>0</th>\n",
       "      <td>642</td>\n",
       "      <td>NaN</td>\n",
       "      <td>NaN</td>\n",
       "      <td>02-09-1993</td>\n",
       "      <td>NaN</td>\n",
       "      <td>NaN</td>\n",
       "      <td>0</td>\n",
       "      <td>NaN</td>\n",
       "      <td>male</td>\n",
       "      <td>GRADUATE</td>\n",
       "      <td>RENTED</td>\n",
       "      <td>NaN</td>\n",
       "      <td>19100.00</td>\n",
       "      <td>NaN</td>\n",
       "      <td>NaN</td>\n",
       "      <td>4.00</td>\n",
       "      <td>8</td>\n",
       "      <td>Rejected</td>\n",
       "    </tr>\n",
       "    <tr>\n",
       "      <th>1</th>\n",
       "      <td>540</td>\n",
       "      <td>1060days</td>\n",
       "      <td>24days</td>\n",
       "      <td>01-07-1987</td>\n",
       "      <td>DISBURSED</td>\n",
       "      <td>14-11-2017</td>\n",
       "      <td>786531</td>\n",
       "      <td>14-11-2017</td>\n",
       "      <td>male</td>\n",
       "      <td>GRADUATE</td>\n",
       "      <td>OWNED</td>\n",
       "      <td>19-12-2018</td>\n",
       "      <td>33000.00</td>\n",
       "      <td>Payday Loan</td>\n",
       "      <td>Persanal</td>\n",
       "      <td>9.00</td>\n",
       "      <td>11</td>\n",
       "      <td>Funded</td>\n",
       "    </tr>\n",
       "  </tbody>\n",
       "</table>\n",
       "</div>"
      ],
      "text/plain": [
       "   CIBIL score Current Loan Delay Current Loan tenure Date_of_birth  \\\n",
       "0          642                NaN                 NaN    02-09-1993   \n",
       "1          540           1060days              24days    01-07-1987   \n",
       "\n",
       "  Final status  First Loan  Funding amount Funding date Gender  \\\n",
       "0          NaN         NaN               0          NaN   male   \n",
       "1    DISBURSED  14-11-2017          786531   14-11-2017   male   \n",
       "\n",
       "  Highest educational qualifications Home ownership   Last Loan  \\\n",
       "0                           GRADUATE         RENTED         NaN   \n",
       "1                           GRADUATE          OWNED  19-12-2018   \n",
       "\n",
       "   Monthly salary Product/loan type Purpose of loan  Years Of Experience  \\\n",
       "0        19100.00               NaN             NaN                 4.00   \n",
       "1        33000.00       Payday Loan        Persanal                 9.00   \n",
       "\n",
       "   user Funded/Rejected  \n",
       "0     8        Rejected  \n",
       "1    11          Funded  "
      ]
     },
     "execution_count": 3,
     "metadata": {},
     "output_type": "execute_result"
    }
   ],
   "source": [
    "#Now let's import and put the train and test datasets in  pandas dataframe\n",
    "\n",
    "data = pd.read_csv(\"final customer_data_for_credit_scoring.csv\")\n",
    "data.head(2)\n",
    "\n"
   ]
  },
  {
   "cell_type": "code",
   "execution_count": 4,
   "metadata": {},
   "outputs": [
    {
     "data": {
      "text/html": [
       "<div>\n",
       "<style scoped>\n",
       "    .dataframe tbody tr th:only-of-type {\n",
       "        vertical-align: middle;\n",
       "    }\n",
       "\n",
       "    .dataframe tbody tr th {\n",
       "        vertical-align: top;\n",
       "    }\n",
       "\n",
       "    .dataframe thead th {\n",
       "        text-align: right;\n",
       "    }\n",
       "</style>\n",
       "<table border=\"1\" class=\"dataframe\">\n",
       "  <thead>\n",
       "    <tr style=\"text-align: right;\">\n",
       "      <th></th>\n",
       "      <th>accounts_summary__current_loan_balance</th>\n",
       "      <th>accounts_summary__first_loan_date</th>\n",
       "      <th>accounts_summary__last_loan_date</th>\n",
       "      <th>accounts_summary__overdue</th>\n",
       "      <th>accounts_summary__overdue_balance</th>\n",
       "      <th>accounts_summary__sanction_amount</th>\n",
       "      <th>accounts_summary__total_loan</th>\n",
       "      <th>accounts_summary__zero_balance</th>\n",
       "      <th>cibil_date</th>\n",
       "      <th>date_of_birth</th>\n",
       "      <th>enquiries__last_enquiry_date</th>\n",
       "      <th>enquiries__past_12_months</th>\n",
       "      <th>enquiries__past_24_months</th>\n",
       "      <th>enquiries__past_30_days</th>\n",
       "      <th>enquiries__total</th>\n",
       "      <th>gender</th>\n",
       "      <th>id</th>\n",
       "      <th>score</th>\n",
       "      <th>score_name</th>\n",
       "      <th>user</th>\n",
       "    </tr>\n",
       "  </thead>\n",
       "  <tbody>\n",
       "    <tr>\n",
       "      <th>0</th>\n",
       "      <td>152480.00</td>\n",
       "      <td>19-04-2017</td>\n",
       "      <td>09-10-2019</td>\n",
       "      <td>0.00</td>\n",
       "      <td>0.00</td>\n",
       "      <td>509845.00</td>\n",
       "      <td>35.00</td>\n",
       "      <td>29.00</td>\n",
       "      <td>02-01-2020</td>\n",
       "      <td>18-04-1993</td>\n",
       "      <td>01-01-2020</td>\n",
       "      <td>34</td>\n",
       "      <td>18</td>\n",
       "      <td>13</td>\n",
       "      <td>65</td>\n",
       "      <td>MALE</td>\n",
       "      <td>49909</td>\n",
       "      <td>761</td>\n",
       "      <td>CREDITVISION® SCORE</td>\n",
       "      <td>532929.00</td>\n",
       "    </tr>\n",
       "    <tr>\n",
       "      <th>1</th>\n",
       "      <td>65159.00</td>\n",
       "      <td>07-05-2009</td>\n",
       "      <td>14-01-2021</td>\n",
       "      <td>2.00</td>\n",
       "      <td>10342.00</td>\n",
       "      <td>3613477.00</td>\n",
       "      <td>45.00</td>\n",
       "      <td>40.00</td>\n",
       "      <td>09-03-2021</td>\n",
       "      <td>01-06-1980</td>\n",
       "      <td>24-10-2020</td>\n",
       "      <td>9</td>\n",
       "      <td>22</td>\n",
       "      <td>0</td>\n",
       "      <td>56</td>\n",
       "      <td>MALE</td>\n",
       "      <td>49896</td>\n",
       "      <td>695</td>\n",
       "      <td>CREDITVISION® SCORE</td>\n",
       "      <td>324281.00</td>\n",
       "    </tr>\n",
       "  </tbody>\n",
       "</table>\n",
       "</div>"
      ],
      "text/plain": [
       "   accounts_summary__current_loan_balance accounts_summary__first_loan_date  \\\n",
       "0                               152480.00                        19-04-2017   \n",
       "1                                65159.00                        07-05-2009   \n",
       "\n",
       "  accounts_summary__last_loan_date  accounts_summary__overdue  \\\n",
       "0                       09-10-2019                       0.00   \n",
       "1                       14-01-2021                       2.00   \n",
       "\n",
       "   accounts_summary__overdue_balance  accounts_summary__sanction_amount  \\\n",
       "0                               0.00                          509845.00   \n",
       "1                           10342.00                         3613477.00   \n",
       "\n",
       "   accounts_summary__total_loan  accounts_summary__zero_balance  cibil_date  \\\n",
       "0                         35.00                           29.00  02-01-2020   \n",
       "1                         45.00                           40.00  09-03-2021   \n",
       "\n",
       "  date_of_birth enquiries__last_enquiry_date  enquiries__past_12_months  \\\n",
       "0    18-04-1993                   01-01-2020                         34   \n",
       "1    01-06-1980                   24-10-2020                          9   \n",
       "\n",
       "   enquiries__past_24_months  enquiries__past_30_days  enquiries__total  \\\n",
       "0                         18                       13                65   \n",
       "1                         22                        0                56   \n",
       "\n",
       "  gender     id  score           score_name      user  \n",
       "0   MALE  49909    761  CREDITVISION® SCORE 532929.00  \n",
       "1   MALE  49896    695  CREDITVISION® SCORE 324281.00  "
      ]
     },
     "execution_count": 4,
     "metadata": {},
     "output_type": "execute_result"
    }
   ],
   "source": [
    "cibil = pd.read_csv(\"cibil.csv\")\n",
    "cibil.head(2)"
   ]
  },
  {
   "cell_type": "code",
   "execution_count": 5,
   "metadata": {},
   "outputs": [
    {
     "data": {
      "text/html": [
       "<div>\n",
       "<style scoped>\n",
       "    .dataframe tbody tr th:only-of-type {\n",
       "        vertical-align: middle;\n",
       "    }\n",
       "\n",
       "    .dataframe tbody tr th {\n",
       "        vertical-align: top;\n",
       "    }\n",
       "\n",
       "    .dataframe thead th {\n",
       "        text-align: right;\n",
       "    }\n",
       "</style>\n",
       "<table border=\"1\" class=\"dataframe\">\n",
       "  <thead>\n",
       "    <tr style=\"text-align: right;\">\n",
       "      <th></th>\n",
       "      <th>CIBIL score</th>\n",
       "      <th>Current Loan Delay</th>\n",
       "      <th>Current Loan tenure</th>\n",
       "      <th>Date_of_birth</th>\n",
       "      <th>Final status</th>\n",
       "      <th>First Loan</th>\n",
       "      <th>Funding amount</th>\n",
       "      <th>Funding date</th>\n",
       "      <th>Gender</th>\n",
       "      <th>Highest educational qualifications</th>\n",
       "      <th>...</th>\n",
       "      <th>date_of_birth</th>\n",
       "      <th>enquiries__last_enquiry_date</th>\n",
       "      <th>enquiries__past_12_months</th>\n",
       "      <th>enquiries__past_24_months</th>\n",
       "      <th>enquiries__past_30_days</th>\n",
       "      <th>enquiries__total</th>\n",
       "      <th>gender</th>\n",
       "      <th>id</th>\n",
       "      <th>score</th>\n",
       "      <th>score_name</th>\n",
       "    </tr>\n",
       "  </thead>\n",
       "  <tbody>\n",
       "    <tr>\n",
       "      <th>0</th>\n",
       "      <td>642</td>\n",
       "      <td>NaN</td>\n",
       "      <td>NaN</td>\n",
       "      <td>02-09-1993</td>\n",
       "      <td>NaN</td>\n",
       "      <td>NaN</td>\n",
       "      <td>0</td>\n",
       "      <td>NaN</td>\n",
       "      <td>male</td>\n",
       "      <td>GRADUATE</td>\n",
       "      <td>...</td>\n",
       "      <td>02-09-1993</td>\n",
       "      <td>25-12-2019</td>\n",
       "      <td>23</td>\n",
       "      <td>39</td>\n",
       "      <td>5</td>\n",
       "      <td>122</td>\n",
       "      <td>MALE</td>\n",
       "      <td>73224</td>\n",
       "      <td>663</td>\n",
       "      <td>CREDITVISION® SCORE</td>\n",
       "    </tr>\n",
       "    <tr>\n",
       "      <th>1</th>\n",
       "      <td>540</td>\n",
       "      <td>1060days</td>\n",
       "      <td>24days</td>\n",
       "      <td>01-07-1987</td>\n",
       "      <td>DISBURSED</td>\n",
       "      <td>14-11-2017</td>\n",
       "      <td>786531</td>\n",
       "      <td>14-11-2017</td>\n",
       "      <td>male</td>\n",
       "      <td>GRADUATE</td>\n",
       "      <td>...</td>\n",
       "      <td>01-07-1987</td>\n",
       "      <td>11-06-2019</td>\n",
       "      <td>23</td>\n",
       "      <td>23</td>\n",
       "      <td>7</td>\n",
       "      <td>97</td>\n",
       "      <td>MALE</td>\n",
       "      <td>92236</td>\n",
       "      <td>540</td>\n",
       "      <td>PERSONAL LOAN SCORE</td>\n",
       "    </tr>\n",
       "    <tr>\n",
       "      <th>2</th>\n",
       "      <td>747</td>\n",
       "      <td>0days</td>\n",
       "      <td>25days</td>\n",
       "      <td>13-11-1993</td>\n",
       "      <td>FAILED</td>\n",
       "      <td>09-11-2017</td>\n",
       "      <td>352000</td>\n",
       "      <td>09-11-2017</td>\n",
       "      <td>male</td>\n",
       "      <td>POST_GRADUATE</td>\n",
       "      <td>...</td>\n",
       "      <td>13-11-1993</td>\n",
       "      <td>17-06-2021</td>\n",
       "      <td>38</td>\n",
       "      <td>16</td>\n",
       "      <td>0</td>\n",
       "      <td>120</td>\n",
       "      <td>MALE</td>\n",
       "      <td>103008</td>\n",
       "      <td>747</td>\n",
       "      <td>CREDITVISION® SCORE</td>\n",
       "    </tr>\n",
       "  </tbody>\n",
       "</table>\n",
       "<p>3 rows × 37 columns</p>\n",
       "</div>"
      ],
      "text/plain": [
       "   CIBIL score Current Loan Delay Current Loan tenure Date_of_birth  \\\n",
       "0          642                NaN                 NaN    02-09-1993   \n",
       "1          540           1060days              24days    01-07-1987   \n",
       "2          747              0days              25days    13-11-1993   \n",
       "\n",
       "  Final status  First Loan  Funding amount Funding date Gender  \\\n",
       "0          NaN         NaN               0          NaN   male   \n",
       "1    DISBURSED  14-11-2017          786531   14-11-2017   male   \n",
       "2       FAILED  09-11-2017          352000   09-11-2017   male   \n",
       "\n",
       "  Highest educational qualifications  ... date_of_birth  \\\n",
       "0                           GRADUATE  ...    02-09-1993   \n",
       "1                           GRADUATE  ...    01-07-1987   \n",
       "2                      POST_GRADUATE  ...    13-11-1993   \n",
       "\n",
       "  enquiries__last_enquiry_date  enquiries__past_12_months  \\\n",
       "0                   25-12-2019                         23   \n",
       "1                   11-06-2019                         23   \n",
       "2                   17-06-2021                         38   \n",
       "\n",
       "  enquiries__past_24_months enquiries__past_30_days  enquiries__total  gender  \\\n",
       "0                        39                       5               122    MALE   \n",
       "1                        23                       7                97    MALE   \n",
       "2                        16                       0               120    MALE   \n",
       "\n",
       "       id  score           score_name  \n",
       "0   73224    663  CREDITVISION® SCORE  \n",
       "1   92236    540  PERSONAL LOAN SCORE  \n",
       "2  103008    747  CREDITVISION® SCORE  \n",
       "\n",
       "[3 rows x 37 columns]"
      ]
     },
     "execution_count": 5,
     "metadata": {},
     "output_type": "execute_result"
    }
   ],
   "source": [
    "df = data.merge(cibil, on='user', how='left')\n",
    "df.head(3)"
   ]
  },
  {
   "cell_type": "code",
   "execution_count": 6,
   "metadata": {},
   "outputs": [
    {
     "data": {
      "text/plain": [
       "Rejected    32647\n",
       "Funded      32609\n",
       "Name: Funded/Rejected, dtype: int64"
      ]
     },
     "execution_count": 6,
     "metadata": {},
     "output_type": "execute_result"
    }
   ],
   "source": [
    "df['Funded/Rejected'].value_counts()"
   ]
  },
  {
   "cell_type": "code",
   "execution_count": 7,
   "metadata": {},
   "outputs": [
    {
     "data": {
      "text/plain": [
       "(65256, 18)"
      ]
     },
     "execution_count": 7,
     "metadata": {},
     "output_type": "execute_result"
    }
   ],
   "source": [
    "data.shape"
   ]
  },
  {
   "cell_type": "code",
   "execution_count": 8,
   "metadata": {},
   "outputs": [
    {
     "data": {
      "text/plain": [
       "CIBIL score                                   0\n",
       "Current Loan Delay                        19510\n",
       "Current Loan tenure                       19510\n",
       "Date_of_birth                               133\n",
       "Final status                              20530\n",
       "First Loan                                21166\n",
       "Funding amount                                0\n",
       "Funding date                              21166\n",
       "Gender                                      125\n",
       "Highest educational qualifications            0\n",
       "Home ownership                                9\n",
       "Last Loan                                 27270\n",
       "Monthly salary                              940\n",
       "Product/loan type                         19510\n",
       "Purpose of loan                           19652\n",
       "Years Of Experience                         147\n",
       "user                                          0\n",
       "Funded/Rejected                               0\n",
       "accounts_summary__current_loan_balance      469\n",
       "accounts_summary__first_loan_date          2668\n",
       "accounts_summary__last_loan_date           2668\n",
       "accounts_summary__overdue                   469\n",
       "accounts_summary__overdue_balance           469\n",
       "accounts_summary__sanction_amount           469\n",
       "accounts_summary__total_loan                469\n",
       "accounts_summary__zero_balance              469\n",
       "cibil_date                                    0\n",
       "date_of_birth                                 0\n",
       "enquiries__last_enquiry_date                  0\n",
       "enquiries__past_12_months                     0\n",
       "enquiries__past_24_months                     0\n",
       "enquiries__past_30_days                       0\n",
       "enquiries__total                              0\n",
       "gender                                        0\n",
       "id                                            0\n",
       "score                                         0\n",
       "score_name                                    0\n",
       "dtype: int64"
      ]
     },
     "execution_count": 8,
     "metadata": {},
     "output_type": "execute_result"
    }
   ],
   "source": [
    "df.isnull().sum()"
   ]
  },
  {
   "cell_type": "code",
   "execution_count": 9,
   "metadata": {},
   "outputs": [
    {
     "data": {
      "text/plain": [
       "(65256, 18)"
      ]
     },
     "metadata": {},
     "output_type": "display_data"
    },
    {
     "data": {
      "text/plain": [
       "(65278, 20)"
      ]
     },
     "metadata": {},
     "output_type": "display_data"
    },
    {
     "data": {
      "text/plain": [
       "(65256, 37)"
      ]
     },
     "metadata": {},
     "output_type": "display_data"
    }
   ],
   "source": [
    "display(data.shape)\n",
    "display(cibil.shape)\n",
    "display(df.shape)\n"
   ]
  },
  {
   "cell_type": "code",
   "execution_count": 10,
   "metadata": {},
   "outputs": [
    {
     "data": {
      "text/plain": [
       "Index(['CIBIL score', 'Current Loan Delay', 'Current Loan tenure',\n",
       "       'Date_of_birth', 'Final status', 'First Loan', 'Funding amount',\n",
       "       'Funding date', 'Gender', 'Highest educational qualifications',\n",
       "       'Home ownership', 'Last Loan', 'Monthly salary', 'Product/loan type',\n",
       "       'Purpose of loan', 'Years Of Experience', 'user', 'Funded/Rejected',\n",
       "       'accounts_summary__current_loan_balance',\n",
       "       'accounts_summary__first_loan_date', 'accounts_summary__last_loan_date',\n",
       "       'accounts_summary__overdue', 'accounts_summary__overdue_balance',\n",
       "       'accounts_summary__sanction_amount', 'accounts_summary__total_loan',\n",
       "       'accounts_summary__zero_balance', 'cibil_date', 'date_of_birth',\n",
       "       'enquiries__last_enquiry_date', 'enquiries__past_12_months',\n",
       "       'enquiries__past_24_months', 'enquiries__past_30_days',\n",
       "       'enquiries__total', 'gender', 'id', 'score', 'score_name'],\n",
       "      dtype='object')"
      ]
     },
     "execution_count": 10,
     "metadata": {},
     "output_type": "execute_result"
    }
   ],
   "source": [
    "df.columns"
   ]
  },
  {
   "cell_type": "markdown",
   "metadata": {},
   "source": [
    "## 1. Data Pre-processing\n",
    "\n",
    "There are some variables repeating in df like date of birth, cibil, loan date etc. Let's delete the duplicate variables 1st"
   ]
  },
  {
   "cell_type": "code",
   "execution_count": 11,
   "metadata": {},
   "outputs": [
    {
     "data": {
      "text/plain": [
       "Index(['CIBIL score', 'Current Loan Delay', 'Current Loan tenure',\n",
       "       'Date_of_birth', 'Final status', 'First Loan', 'Funding amount',\n",
       "       'Funding date', 'Gender', 'Highest educational qualifications',\n",
       "       'Home ownership', 'Last Loan', 'Monthly salary', 'Product/loan type',\n",
       "       'Purpose of loan', 'Years Of Experience', 'user', 'Funded/Rejected',\n",
       "       'accounts_summary__current_loan_balance', 'accounts_summary__overdue',\n",
       "       'accounts_summary__overdue_balance',\n",
       "       'accounts_summary__sanction_amount', 'accounts_summary__total_loan',\n",
       "       'accounts_summary__zero_balance', 'enquiries__last_enquiry_date',\n",
       "       'enquiries__past_12_months', 'enquiries__past_24_months',\n",
       "       'enquiries__past_30_days', 'enquiries__total'],\n",
       "      dtype='object')"
      ]
     },
     "execution_count": 11,
     "metadata": {},
     "output_type": "execute_result"
    }
   ],
   "source": [
    "df = df.drop(['accounts_summary__first_loan_date', 'accounts_summary__last_loan_date', 'cibil_date', 'date_of_birth',\n",
    "       'gender', 'id', 'score', 'score_name'], axis=1)\n",
    "\n",
    "df.columns"
   ]
  },
  {
   "cell_type": "markdown",
   "metadata": {},
   "source": [
    "#### 1.1 CIBIL Score\n",
    "\n",
    "CIBIL score -1 means its new to the bank user with no credit history. Min value of CIBIL should be 350. 0,1, etc are erroneous values. We would replace these values with -1 as well. CIBIL score lies between 300-900."
   ]
  },
  {
   "cell_type": "code",
   "execution_count": 12,
   "metadata": {},
   "outputs": [
    {
     "data": {
      "text/plain": [
       "count   65256.00\n",
       "mean      676.02\n",
       "std       134.97\n",
       "min        -1.00\n",
       "25%       666.00\n",
       "50%       701.00\n",
       "75%       736.00\n",
       "max       861.00\n",
       "Name: CIBIL score, dtype: float64"
      ]
     },
     "execution_count": 12,
     "metadata": {},
     "output_type": "execute_result"
    }
   ],
   "source": [
    "df['CIBIL score'].describe()"
   ]
  },
  {
   "cell_type": "code",
   "execution_count": 13,
   "metadata": {},
   "outputs": [
    {
     "data": {
      "text/plain": [
       "93      -1\n",
       "176      0\n",
       "228      1\n",
       "317      2\n",
       "218      3\n",
       "365      5\n",
       "374    451\n",
       "373    452\n",
       "366    454\n",
       "347    456\n",
       "dtype: int64"
      ]
     },
     "execution_count": 13,
     "metadata": {},
     "output_type": "execute_result"
    }
   ],
   "source": [
    "pd.Series(df['CIBIL score'].unique()).nsmallest(10)"
   ]
  },
  {
   "cell_type": "code",
   "execution_count": 14,
   "metadata": {},
   "outputs": [
    {
     "data": {
      "text/plain": [
       "93      -1\n",
       "369    451\n",
       "368    452\n",
       "361    454\n",
       "343    456\n",
       "dtype: int64"
      ]
     },
     "execution_count": 14,
     "metadata": {},
     "output_type": "execute_result"
    }
   ],
   "source": [
    "#Replace CIBIL values less than 300 with -1\n",
    "df['CIBIL score'] = np.where((df['CIBIL score'] < 300), -1, df['CIBIL score'])\n",
    "pd.Series(df['CIBIL score'].unique()).nsmallest(5)"
   ]
  },
  {
   "cell_type": "markdown",
   "metadata": {},
   "source": [
    "#### 1.2 Current Loan Delay & Current Loan Tenure\n",
    "\n",
    "We have to remove the text and convert this variable into numeric values.\n",
    "\n",
    "\\D matches any non-digit character so, the code above, is essentially replacing every non-digit character for the empty string."
   ]
  },
  {
   "cell_type": "code",
   "execution_count": 15,
   "metadata": {},
   "outputs": [
    {
     "data": {
      "text/plain": [
       "'22'"
      ]
     },
     "metadata": {},
     "output_type": "display_data"
    },
    {
     "data": {
      "text/plain": [
       "str"
      ]
     },
     "metadata": {},
     "output_type": "display_data"
    },
    {
     "data": {
      "text/plain": [
       "int"
      ]
     },
     "metadata": {},
     "output_type": "display_data"
    }
   ],
   "source": [
    "import re\n",
    "string = \"-22days\"\n",
    "string = re.sub('\\D', '', string)\n",
    "display(string)\n",
    "display(type(string))\n",
    "string = int(string)\n",
    "display(type(string))\n"
   ]
  },
  {
   "cell_type": "code",
   "execution_count": 16,
   "metadata": {},
   "outputs": [
    {
     "data": {
      "text/plain": [
       "'-22'"
      ]
     },
     "metadata": {},
     "output_type": "display_data"
    },
    {
     "data": {
      "text/plain": [
       "str"
      ]
     },
     "metadata": {},
     "output_type": "display_data"
    },
    {
     "data": {
      "text/plain": [
       "int"
      ]
     },
     "metadata": {},
     "output_type": "display_data"
    },
    {
     "data": {
      "text/plain": [
       "-22"
      ]
     },
     "metadata": {},
     "output_type": "display_data"
    }
   ],
   "source": [
    "import re\n",
    "string = \"-22days\"\n",
    "string = string.replace('days', '')\n",
    "display(string)\n",
    "display(type(string))\n",
    "string = int(string)\n",
    "display(type(string))\n",
    "display(string)\n",
    "\n",
    "\n",
    "#loan_data['emp_length_int'] = loan_data['emp_length_int'].str.replace(' year', '')"
   ]
  },
  {
   "cell_type": "code",
   "execution_count": 17,
   "metadata": {},
   "outputs": [
    {
     "data": {
      "text/plain": [
       "0days       18218\n",
       "1days        1502\n",
       "-26days       953\n",
       "-2days        734\n",
       "-25days       655\n",
       "            ...  \n",
       "1460days        1\n",
       "1222days        1\n",
       "1376days        1\n",
       "680days         1\n",
       "1024days        1\n",
       "Name: Current Loan Delay, Length: 922, dtype: int64"
      ]
     },
     "execution_count": 17,
     "metadata": {},
     "output_type": "execute_result"
    }
   ],
   "source": [
    "df['Current Loan Delay'].value_counts()"
   ]
  },
  {
   "cell_type": "code",
   "execution_count": 18,
   "metadata": {},
   "outputs": [
    {
     "data": {
      "text/plain": [
       "count   45746.00\n",
       "mean      118.07\n",
       "std       227.54\n",
       "min       -41.00\n",
       "25%         0.00\n",
       "50%         0.00\n",
       "75%       126.00\n",
       "max      1498.00\n",
       "Name: Current Loan Delay, dtype: float64"
      ]
     },
     "execution_count": 18,
     "metadata": {},
     "output_type": "execute_result"
    }
   ],
   "source": [
    "df['Current Loan Delay'] = df['Current Loan Delay'].str.replace('days', '')\n",
    "df['Current Loan Delay'] = pd.to_numeric(df['Current Loan Delay'])\n",
    "df['Current Loan Delay'].describe()"
   ]
  },
  {
   "cell_type": "code",
   "execution_count": 19,
   "metadata": {},
   "outputs": [
    {
     "data": {
      "text/plain": [
       "730   -41.00\n",
       "922   -40.00\n",
       "918   -39.00\n",
       "653   -38.00\n",
       "445   -37.00\n",
       "739   -36.00\n",
       "205   -35.00\n",
       "540   -34.00\n",
       "635   -33.00\n",
       "325   -32.00\n",
       "dtype: float64"
      ]
     },
     "execution_count": 19,
     "metadata": {},
     "output_type": "execute_result"
    }
   ],
   "source": [
    "# Looks like Years of Experience is \n",
    "pd.Series(df['Current Loan Delay'].unique()).nsmallest(10)\n"
   ]
  },
  {
   "cell_type": "code",
   "execution_count": 20,
   "metadata": {},
   "outputs": [
    {
     "data": {
      "text/plain": [
       "29days     4349\n",
       "30days     4036\n",
       "31days     3361\n",
       "28days     2949\n",
       "27days     1940\n",
       "           ... \n",
       "349days       1\n",
       "208days       1\n",
       "355days       1\n",
       "209days       1\n",
       "60days        1\n",
       "Name: Current Loan tenure, Length: 147, dtype: int64"
      ]
     },
     "execution_count": 20,
     "metadata": {},
     "output_type": "execute_result"
    }
   ],
   "source": [
    "df['Current Loan tenure'].value_counts()"
   ]
  },
  {
   "cell_type": "code",
   "execution_count": 21,
   "metadata": {},
   "outputs": [
    {
     "data": {
      "text/plain": [
       "count   45746.00\n",
       "mean       39.68\n",
       "std        31.24\n",
       "min         0.00\n",
       "25%        26.00\n",
       "50%        30.00\n",
       "75%        38.00\n",
       "max      1107.00\n",
       "Name: Current Loan tenure, dtype: float64"
      ]
     },
     "execution_count": 21,
     "metadata": {},
     "output_type": "execute_result"
    }
   ],
   "source": [
    "df['Current Loan tenure'] = df['Current Loan tenure'].str.replace('days', '')\n",
    "df['Current Loan tenure'] = pd.to_numeric(df['Current Loan tenure'])\n",
    "df['Current Loan tenure'].describe()"
   ]
  },
  {
   "cell_type": "markdown",
   "metadata": {},
   "source": [
    "#### 1.3 Date of Birth"
   ]
  },
  {
   "cell_type": "code",
   "execution_count": 22,
   "metadata": {},
   "outputs": [
    {
     "data": {
      "text/plain": [
       "count   65123.00\n",
       "mean     1988.58\n",
       "std         6.35\n",
       "min      1945.00\n",
       "25%      1985.00\n",
       "50%      1990.00\n",
       "75%      1993.00\n",
       "max      2023.00\n",
       "Name: Year, dtype: float64"
      ]
     },
     "execution_count": 22,
     "metadata": {},
     "output_type": "execute_result"
    }
   ],
   "source": [
    "df['Date_of_birth'] = df['Date_of_birth'].apply(pd.to_datetime)\n",
    "\n",
    "df['Year'] = df['Date_of_birth'].dt.year\n",
    "df['Year'].describe()"
   ]
  },
  {
   "cell_type": "markdown",
   "metadata": {},
   "source": [
    "There are some customers with with date of birth in 2023, 2021 etc, it seems counter-intuitive. May be data is erroneous. Need to dig more\n",
    "\n",
    "There are 165 customers with age less than 21. We either need to delete these cases or replace them with mean age. Let's replace age of these customers with mean age "
   ]
  },
  {
   "cell_type": "code",
   "execution_count": 23,
   "metadata": {},
   "outputs": [
    {
     "data": {
      "text/plain": [
       "165"
      ]
     },
     "metadata": {},
     "output_type": "display_data"
    },
    {
     "data": {
      "text/plain": [
       "count   65123.00\n",
       "mean     1988.55\n",
       "std         6.31\n",
       "min      1945.00\n",
       "25%      1985.00\n",
       "50%      1990.00\n",
       "75%      1993.00\n",
       "max      2000.00\n",
       "Name: Year, dtype: float64"
      ]
     },
     "execution_count": 23,
     "metadata": {},
     "output_type": "execute_result"
    }
   ],
   "source": [
    "#165 customers have age less than 18 or are born after 2000. \n",
    "display(len(df[df['Year'] > 2000]))\n",
    "\n",
    "#Replacing them with medain age\n",
    "df['Year'] = np.where((df['Year'] > 2000), int(df['Year'].median().round()), df['Year'])\n",
    "\n",
    "df['Year'].describe()"
   ]
  },
  {
   "cell_type": "code",
   "execution_count": 24,
   "metadata": {},
   "outputs": [
    {
     "data": {
      "text/plain": [
       "45   2000.00\n",
       "41   1999.00\n",
       "36   1998.00\n",
       "20   1997.00\n",
       "25   1996.00\n",
       "15   1995.00\n",
       "21   1994.00\n",
       "0    1993.00\n",
       "12   1992.00\n",
       "8    1991.00\n",
       "dtype: float64"
      ]
     },
     "execution_count": 24,
     "metadata": {},
     "output_type": "execute_result"
    }
   ],
   "source": [
    "pd.Series(df['Year'].unique()).nlargest(10)"
   ]
  },
  {
   "cell_type": "code",
   "execution_count": 25,
   "metadata": {},
   "outputs": [
    {
     "data": {
      "text/plain": [
       "count   65123.00\n",
       "mean       32.45\n",
       "std         6.31\n",
       "min        21.00\n",
       "25%        28.00\n",
       "50%        31.00\n",
       "75%        36.00\n",
       "max        76.00\n",
       "Name: customer_age, dtype: float64"
      ]
     },
     "metadata": {},
     "output_type": "display_data"
    }
   ],
   "source": [
    "xx= 2021\n",
    "\n",
    "df['customer_age'] = xx - df['Year']\n",
    "#df = df.drop(['Date_of_birth', 'Year'], axis=1)\n",
    "\n",
    "display(df['customer_age'].describe())"
   ]
  },
  {
   "cell_type": "markdown",
   "metadata": {},
   "source": [
    "#### 1.4 Final Status"
   ]
  },
  {
   "cell_type": "code",
   "execution_count": 26,
   "metadata": {},
   "outputs": [
    {
     "data": {
      "text/plain": [
       "DISBURSED         16564\n",
       "PAID              14422\n",
       "FAILED             6897\n",
       "SETTLED            6012\n",
       "BALANCE_AMOUNT      791\n",
       "PASSED               39\n",
       "EXTENDED              1\n",
       "Name: Final status, dtype: int64"
      ]
     },
     "execution_count": 26,
     "metadata": {},
     "output_type": "execute_result"
    }
   ],
   "source": [
    "df['Final status'].value_counts()"
   ]
  },
  {
   "cell_type": "markdown",
   "metadata": {},
   "source": [
    "#### 1.5 First Loan, Funded/Rejected Status\n",
    "We take a reference date as December 2021. THen subtract first loan date from this reference to get number of days. Then convert this number of days into months and round it off to nearest month value. We call this date as mths_since_first_loan. "
   ]
  },
  {
   "cell_type": "code",
   "execution_count": 27,
   "metadata": {},
   "outputs": [
    {
     "data": {
      "text/plain": [
       "27-11-2019    484\n",
       "07-11-2019    411\n",
       "26-02-2020    305\n",
       "15-02-2020    284\n",
       "29-11-2019    275\n",
       "             ... \n",
       "15-05-2017      1\n",
       "20-07-2020      1\n",
       "30-10-2020      1\n",
       "04-12-2017      1\n",
       "15-04-2020      1\n",
       "Name: First Loan, Length: 1166, dtype: int64"
      ]
     },
     "execution_count": 27,
     "metadata": {},
     "output_type": "execute_result"
    }
   ],
   "source": [
    "df['First Loan'].value_counts()"
   ]
  },
  {
   "cell_type": "code",
   "execution_count": 28,
   "metadata": {},
   "outputs": [
    {
     "data": {
      "text/plain": [
       "0             NaT\n",
       "1       1492 days\n",
       "2       1497 days\n",
       "3             NaT\n",
       "4       1476 days\n",
       "           ...   \n",
       "65251         NaT\n",
       "65252         NaT\n",
       "65253         NaT\n",
       "65254     11 days\n",
       "65255         NaT\n",
       "Name: First Loan, Length: 65256, dtype: timedelta64[ns]"
      ]
     },
     "execution_count": 28,
     "metadata": {},
     "output_type": "execute_result"
    }
   ],
   "source": [
    "# COnverting earliest_cr_line from string type into mmm-yy date format and saving it into a variable\n",
    "df['First Loan'] = pd.to_datetime(df['First Loan'], format= '%d-%m-%Y')\n",
    "pd.to_datetime('2021-12-15')- df['First Loan']"
   ]
  },
  {
   "cell_type": "code",
   "execution_count": 29,
   "metadata": {},
   "outputs": [
    {
     "data": {
      "text/plain": [
       "count   44090.00\n",
       "mean       22.32\n",
       "std         9.70\n",
       "min         0.00\n",
       "25%        21.00\n",
       "50%        25.00\n",
       "75%        28.00\n",
       "max        55.00\n",
       "Name: mths_since_first_loan, dtype: float64"
      ]
     },
     "execution_count": 29,
     "metadata": {},
     "output_type": "execute_result"
    }
   ],
   "source": [
    "df['mths_since_first_loan'] = round((pd.to_datetime('2021-12-15')- df['First Loan'])/np.timedelta64(1, 'M'))\n",
    "\n",
    "df['mths_since_first_loan'].describe()"
   ]
  },
  {
   "cell_type": "code",
   "execution_count": 30,
   "metadata": {},
   "outputs": [
    {
     "data": {
      "text/plain": [
       "Rejected    32647\n",
       "Funded      32609\n",
       "Name: Funded/Rejected, dtype: int64"
      ]
     },
     "execution_count": 30,
     "metadata": {},
     "output_type": "execute_result"
    }
   ],
   "source": [
    "df['Funded/Rejected'].value_counts()"
   ]
  },
  {
   "cell_type": "markdown",
   "metadata": {},
   "source": [
    "#### 1.6 Gender\n",
    "We might have to put other category into male category as well later on. Other has quite small count and might be a nuisance."
   ]
  },
  {
   "cell_type": "code",
   "execution_count": 31,
   "metadata": {},
   "outputs": [
    {
     "data": {
      "text/plain": [
       "male      58357\n",
       "female     6671\n",
       "MALE         36\n",
       "Male         33\n",
       "other        18\n",
       "Female        9\n",
       "FEMALE        4\n",
       "MALe          3\n",
       "Name: Gender, dtype: int64"
      ]
     },
     "execution_count": 31,
     "metadata": {},
     "output_type": "execute_result"
    }
   ],
   "source": [
    "df['Gender'].value_counts()"
   ]
  },
  {
   "cell_type": "code",
   "execution_count": 32,
   "metadata": {},
   "outputs": [
    {
     "data": {
      "text/plain": [
       "male      58429\n",
       "female     6684\n",
       "other        18\n",
       "Name: Gender, dtype: int64"
      ]
     },
     "execution_count": 32,
     "metadata": {},
     "output_type": "execute_result"
    }
   ],
   "source": [
    "df['Gender'] = df['Gender'].str.lower()\n",
    "df['Gender'] = df['Gender'].str.strip()\n",
    "df['Gender'].value_counts()"
   ]
  },
  {
   "cell_type": "code",
   "execution_count": 33,
   "metadata": {},
   "outputs": [
    {
     "data": {
      "text/plain": [
       "GRADUATE          28478\n",
       "UNDER_GRADUATE    27635\n",
       "POST_GRADUATE      9143\n",
       "Name: Highest educational qualifications, dtype: int64"
      ]
     },
     "execution_count": 33,
     "metadata": {},
     "output_type": "execute_result"
    }
   ],
   "source": [
    "df['Highest educational qualifications'].value_counts()"
   ]
  },
  {
   "cell_type": "code",
   "execution_count": 34,
   "metadata": {},
   "outputs": [
    {
     "data": {
      "text/plain": [
       "OWNED     54483\n",
       "RENTED    10764\n",
       "Name: Home ownership, dtype: int64"
      ]
     },
     "execution_count": 34,
     "metadata": {},
     "output_type": "execute_result"
    }
   ],
   "source": [
    "df['Home ownership'].value_counts()"
   ]
  },
  {
   "cell_type": "markdown",
   "metadata": {},
   "source": [
    "#### 1.7 Last Loan\n",
    "We take a reference date as December 2021. THen subtract last loan date from this reference to get number of days. Then convert this number of days into months and round it off to nearest month value. We call this date as mths_since_earliest_cr_line. "
   ]
  },
  {
   "cell_type": "code",
   "execution_count": 35,
   "metadata": {},
   "outputs": [
    {
     "data": {
      "text/plain": [
       "0               NaN\n",
       "1        19-12-2018\n",
       "2               NaN\n",
       "3        29-07-2019\n",
       "4        04-10-2021\n",
       "            ...    \n",
       "65251           NaN\n",
       "65252           NaN\n",
       "65253           NaN\n",
       "65254    04-12-2021\n",
       "65255           NaN\n",
       "Name: Last Loan, Length: 65256, dtype: object"
      ]
     },
     "execution_count": 35,
     "metadata": {},
     "output_type": "execute_result"
    }
   ],
   "source": [
    "df['Last Loan']"
   ]
  },
  {
   "cell_type": "code",
   "execution_count": 36,
   "metadata": {},
   "outputs": [
    {
     "data": {
      "text/plain": [
       "count   37986.00\n",
       "mean       14.12\n",
       "std        10.44\n",
       "min         0.00\n",
       "25%         2.00\n",
       "50%        18.00\n",
       "75%        23.00\n",
       "max        51.00\n",
       "Name: mths_since_last_loan, dtype: float64"
      ]
     },
     "execution_count": 36,
     "metadata": {},
     "output_type": "execute_result"
    }
   ],
   "source": [
    "# COnverting earliest_cr_line from string type into mmm-yy date format and saving it into a variable\n",
    "df['Last Loan'] = pd.to_datetime(df['Last Loan'], format= '%d-%m-%Y')\n",
    "\n",
    "df['mths_since_last_loan'] = round((pd.to_datetime('2021-12-15')- df['Last Loan'])/np.timedelta64(1, 'M'))\n",
    "\n",
    "df['mths_since_last_loan'].describe()"
   ]
  },
  {
   "cell_type": "markdown",
   "metadata": {},
   "source": [
    "Since data is pulled on 4th Dec. We delete all cases that are funded after 30th Sep 2021. We would have final actual status of most of the cases in the month of December that were funded before October."
   ]
  },
  {
   "cell_type": "code",
   "execution_count": 37,
   "metadata": {},
   "outputs": [
    {
     "data": {
      "text/html": [
       "<div>\n",
       "<style scoped>\n",
       "    .dataframe tbody tr th:only-of-type {\n",
       "        vertical-align: middle;\n",
       "    }\n",
       "\n",
       "    .dataframe tbody tr th {\n",
       "        vertical-align: top;\n",
       "    }\n",
       "\n",
       "    .dataframe thead th {\n",
       "        text-align: right;\n",
       "    }\n",
       "</style>\n",
       "<table border=\"1\" class=\"dataframe\">\n",
       "  <thead>\n",
       "    <tr style=\"text-align: right;\">\n",
       "      <th></th>\n",
       "      <th>mths_since_last_loan</th>\n",
       "      <th>Last Loan</th>\n",
       "    </tr>\n",
       "  </thead>\n",
       "  <tbody>\n",
       "    <tr>\n",
       "      <th>0</th>\n",
       "      <td>nan</td>\n",
       "      <td>NaT</td>\n",
       "    </tr>\n",
       "    <tr>\n",
       "      <th>1</th>\n",
       "      <td>36.00</td>\n",
       "      <td>2018-12-19</td>\n",
       "    </tr>\n",
       "    <tr>\n",
       "      <th>2</th>\n",
       "      <td>nan</td>\n",
       "      <td>NaT</td>\n",
       "    </tr>\n",
       "    <tr>\n",
       "      <th>3</th>\n",
       "      <td>29.00</td>\n",
       "      <td>2019-07-29</td>\n",
       "    </tr>\n",
       "    <tr>\n",
       "      <th>4</th>\n",
       "      <td>2.00</td>\n",
       "      <td>2021-10-04</td>\n",
       "    </tr>\n",
       "    <tr>\n",
       "      <th>...</th>\n",
       "      <td>...</td>\n",
       "      <td>...</td>\n",
       "    </tr>\n",
       "    <tr>\n",
       "      <th>65251</th>\n",
       "      <td>nan</td>\n",
       "      <td>NaT</td>\n",
       "    </tr>\n",
       "    <tr>\n",
       "      <th>65252</th>\n",
       "      <td>nan</td>\n",
       "      <td>NaT</td>\n",
       "    </tr>\n",
       "    <tr>\n",
       "      <th>65253</th>\n",
       "      <td>nan</td>\n",
       "      <td>NaT</td>\n",
       "    </tr>\n",
       "    <tr>\n",
       "      <th>65254</th>\n",
       "      <td>0.00</td>\n",
       "      <td>2021-12-04</td>\n",
       "    </tr>\n",
       "    <tr>\n",
       "      <th>65255</th>\n",
       "      <td>nan</td>\n",
       "      <td>NaT</td>\n",
       "    </tr>\n",
       "  </tbody>\n",
       "</table>\n",
       "<p>65256 rows × 2 columns</p>\n",
       "</div>"
      ],
      "text/plain": [
       "       mths_since_last_loan  Last Loan\n",
       "0                       nan        NaT\n",
       "1                     36.00 2018-12-19\n",
       "2                       nan        NaT\n",
       "3                     29.00 2019-07-29\n",
       "4                      2.00 2021-10-04\n",
       "...                     ...        ...\n",
       "65251                   nan        NaT\n",
       "65252                   nan        NaT\n",
       "65253                   nan        NaT\n",
       "65254                  0.00 2021-12-04\n",
       "65255                   nan        NaT\n",
       "\n",
       "[65256 rows x 2 columns]"
      ]
     },
     "execution_count": 37,
     "metadata": {},
     "output_type": "execute_result"
    }
   ],
   "source": [
    "df[['mths_since_last_loan', 'Last Loan']]"
   ]
  },
  {
   "cell_type": "markdown",
   "metadata": {},
   "source": [
    "#### 1.8 Monthly Salary\n",
    "If salary is lesser than 10k, we replace it to zero"
   ]
  },
  {
   "cell_type": "code",
   "execution_count": 38,
   "metadata": {},
   "outputs": [
    {
     "data": {
      "text/plain": [
       "count      64316.00\n",
       "mean       32834.62\n",
       "std       192053.20\n",
       "min            1.00\n",
       "25%        18149.50\n",
       "50%        24800.00\n",
       "75%        35415.25\n",
       "max     28200893.00\n",
       "Name: Monthly salary, dtype: float64"
      ]
     },
     "execution_count": 38,
     "metadata": {},
     "output_type": "execute_result"
    }
   ],
   "source": [
    "df['Monthly salary'].describe()"
   ]
  },
  {
   "cell_type": "code",
   "execution_count": 39,
   "metadata": {},
   "outputs": [
    {
     "data": {
      "text/plain": [
       "22336    1.00\n",
       "21443    2.00\n",
       "22328    5.00\n",
       "21960    6.00\n",
       "4394    10.00\n",
       "21244   12.00\n",
       "2634    19.00\n",
       "5240    20.00\n",
       "4634    21.00\n",
       "7376    22.00\n",
       "dtype: float64"
      ]
     },
     "execution_count": 39,
     "metadata": {},
     "output_type": "execute_result"
    }
   ],
   "source": [
    "# Looks like Years of Experience is \n",
    "pd.Series(df['Monthly salary'].unique()).nsmallest(10)\n"
   ]
  },
  {
   "cell_type": "code",
   "execution_count": 40,
   "metadata": {},
   "outputs": [
    {
     "data": {
      "text/plain": [
       "229"
      ]
     },
     "execution_count": 40,
     "metadata": {},
     "output_type": "execute_result"
    }
   ],
   "source": [
    "len(df[df['Monthly salary']<10000])"
   ]
  },
  {
   "cell_type": "code",
   "execution_count": 41,
   "metadata": {},
   "outputs": [
    {
     "data": {
      "text/plain": [
       "count      64316.00\n",
       "mean       32810.30\n",
       "std       192056.82\n",
       "min            0.00\n",
       "25%        18149.50\n",
       "50%        24800.00\n",
       "75%        35415.25\n",
       "max     28200893.00\n",
       "Name: Monthly salary, dtype: float64"
      ]
     },
     "execution_count": 41,
     "metadata": {},
     "output_type": "execute_result"
    }
   ],
   "source": [
    "df['Monthly salary'] = np.where((df['Monthly salary'] < 10000), 0, df['Monthly salary'])\n",
    "df['Monthly salary'].describe()"
   ]
  },
  {
   "cell_type": "code",
   "execution_count": 42,
   "metadata": {},
   "outputs": [
    {
     "data": {
      "text/plain": [
       "Payday Loan             38547\n",
       "EMI Loan For 3 Month     6592\n",
       "EMI Loan For 6            563\n",
       "EMI Loan For 12            33\n",
       "EMI Loan For 24             4\n",
       "EMI Loan For 36             3\n",
       "EMI Loan For 9              3\n",
       "EMI Loan For 18             1\n",
       "Name: Product/loan type, dtype: int64"
      ]
     },
     "execution_count": 42,
     "metadata": {},
     "output_type": "execute_result"
    }
   ],
   "source": [
    "df['Product/loan type'].value_counts()"
   ]
  },
  {
   "cell_type": "code",
   "execution_count": 43,
   "metadata": {},
   "outputs": [
    {
     "data": {
      "text/plain": [
       "Product/loan type\n",
       "EMI Loan For 12           10334058\n",
       "EMI Loan For 18             247000\n",
       "EMI Loan For 24            1560000\n",
       "EMI Loan For 3 Month     474586208\n",
       "EMI Loan For 36            1090000\n",
       "EMI Loan For 6            52399229\n",
       "EMI Loan For 9              510031\n",
       "Payday Loan             1273794061\n",
       "Name: Funding amount, dtype: int64"
      ]
     },
     "metadata": {},
     "output_type": "display_data"
    },
    {
     "data": {
      "text/plain": [
       "Product/loan type\n",
       "EMI Loan For 12            33\n",
       "EMI Loan For 18             1\n",
       "EMI Loan For 24             4\n",
       "EMI Loan For 3 Month     6592\n",
       "EMI Loan For 36             3\n",
       "EMI Loan For 6            563\n",
       "EMI Loan For 9              3\n",
       "Payday Loan             38547\n",
       "Name: Funding amount, dtype: int64"
      ]
     },
     "metadata": {},
     "output_type": "display_data"
    },
    {
     "data": {
      "text/plain": [
       "Product/loan type\n",
       "EMI Loan For 12         0.57\n",
       "EMI Loan For 18         0.01\n",
       "EMI Loan For 24         0.09\n",
       "EMI Loan For 3 Month   26.15\n",
       "EMI Loan For 36         0.06\n",
       "EMI Loan For 6          2.89\n",
       "EMI Loan For 9          0.03\n",
       "Payday Loan            70.20\n",
       "Name: Funding amount, dtype: float64"
      ]
     },
     "metadata": {},
     "output_type": "display_data"
    }
   ],
   "source": [
    "#almost 70% of the loans by amount are from PayDay loan\n",
    "loan_sum = df.groupby(['Product/loan type'])['Funding amount'].sum()\n",
    "\n",
    "display(loan_sum)\n",
    "\n",
    "loan_count = df.groupby(['Product/loan type'])['Funding amount'].count()\n",
    "\n",
    "display(loan_count)\n",
    "\n",
    "\n",
    "display((loan_sum/df['Funding amount'].sum())*100)"
   ]
  },
  {
   "cell_type": "code",
   "execution_count": 44,
   "metadata": {},
   "outputs": [
    {
     "data": {
      "text/plain": [
       "Personal                        0.14\n",
       "Medical                         0.12\n",
       "Emergency expenses              0.12\n",
       "Medical Emergencies             0.06\n",
       "Other                           0.05\n",
       "                                ... \n",
       "Lunch with office tea boys      0.00\n",
       "Prashan                         0.00\n",
       "To adjust medical expenditure   0.00\n",
       "Helth checkup                   0.00\n",
       "Madikal                         0.00\n",
       "Name: Purpose of loan, Length: 3943, dtype: float64"
      ]
     },
     "execution_count": 44,
     "metadata": {},
     "output_type": "execute_result"
    }
   ],
   "source": [
    "# 1st 5 categories have 50% of the items\n",
    "df['Purpose of loan'].value_counts(normalize=True)\n"
   ]
  },
  {
   "cell_type": "markdown",
   "metadata": {},
   "source": [
    "#### 1.9 Years of Experience\n",
    "Years of experience is in thousands and in negative. It's erroneous. We would delete it."
   ]
  },
  {
   "cell_type": "code",
   "execution_count": 45,
   "metadata": {},
   "outputs": [
    {
     "data": {
      "text/plain": [
       "count   65109.00\n",
       "mean        8.22\n",
       "std        75.32\n",
       "min        -3.00\n",
       "25%         3.00\n",
       "50%         6.00\n",
       "75%        10.00\n",
       "max      9000.00\n",
       "Name: Years Of Experience, dtype: float64"
      ]
     },
     "execution_count": 45,
     "metadata": {},
     "output_type": "execute_result"
    }
   ],
   "source": [
    "\n",
    "df['Years Of Experience'].describe()"
   ]
  },
  {
   "cell_type": "code",
   "execution_count": 46,
   "metadata": {},
   "outputs": [
    {
     "data": {
      "text/plain": [
       "228   9000.00\n",
       "185   8000.00\n",
       "240   7819.00\n",
       "237   5611.00\n",
       "229   5000.00\n",
       "241   3500.00\n",
       "219   2060.00\n",
       "239   2050.00\n",
       "203   2019.00\n",
       "212   2018.00\n",
       "dtype: float64"
      ]
     },
     "execution_count": 46,
     "metadata": {},
     "output_type": "execute_result"
    }
   ],
   "source": [
    "# Looks like Years of Experience is \n",
    "pd.Series(df['Years Of Experience'].unique()).nlargest(10)\n"
   ]
  },
  {
   "cell_type": "code",
   "execution_count": 47,
   "metadata": {},
   "outputs": [
    {
     "data": {
      "text/plain": [
       "count       64787.00\n",
       "mean       618261.07\n",
       "std       1673560.09\n",
       "min      -6339930.00\n",
       "25%         49628.00\n",
       "50%        198576.00\n",
       "75%        622561.00\n",
       "max     247165115.00\n",
       "Name: accounts_summary__current_loan_balance, dtype: float64"
      ]
     },
     "execution_count": 47,
     "metadata": {},
     "output_type": "execute_result"
    }
   ],
   "source": [
    "df['accounts_summary__current_loan_balance'].describe()"
   ]
  },
  {
   "cell_type": "code",
   "execution_count": 48,
   "metadata": {},
   "outputs": [
    {
     "data": {
      "text/plain": [
       "137"
      ]
     },
     "metadata": {},
     "output_type": "display_data"
    },
    {
     "data": {
      "text/plain": [
       "35573   -6339930.00\n",
       "53583   -2525897.00\n",
       "16016    -797734.00\n",
       "2947     -713660.00\n",
       "33509    -691390.00\n",
       "dtype: float64"
      ]
     },
     "execution_count": 48,
     "metadata": {},
     "output_type": "execute_result"
    }
   ],
   "source": [
    "# 137 accounts with negative accounts summary loan balance\n",
    "display(len(df[df['accounts_summary__current_loan_balance']<0]))\n",
    "\n",
    "pd.Series(df['accounts_summary__current_loan_balance'].unique()).nsmallest(5)"
   ]
  },
  {
   "cell_type": "code",
   "execution_count": 49,
   "metadata": {},
   "outputs": [
    {
     "data": {
      "text/plain": [
       "0.00     34657\n",
       "1.00     13938\n",
       "2.00      6801\n",
       "3.00      3739\n",
       "4.00      2081\n",
       "5.00      1258\n",
       "6.00       784\n",
       "7.00       528\n",
       "8.00       325\n",
       "9.00       215\n",
       "10.00      137\n",
       "11.00       82\n",
       "12.00       64\n",
       "13.00       48\n",
       "14.00       28\n",
       "16.00       18\n",
       "18.00       16\n",
       "15.00       15\n",
       "17.00       13\n",
       "19.00       10\n",
       "20.00        9\n",
       "21.00        4\n",
       "22.00        4\n",
       "23.00        2\n",
       "24.00        2\n",
       "26.00        2\n",
       "37.00        1\n",
       "33.00        1\n",
       "27.00        1\n",
       "30.00        1\n",
       "43.00        1\n",
       "35.00        1\n",
       "39.00        1\n",
       "Name: accounts_summary__overdue, dtype: int64"
      ]
     },
     "execution_count": 49,
     "metadata": {},
     "output_type": "execute_result"
    }
   ],
   "source": [
    "df['accounts_summary__overdue'].value_counts()"
   ]
  },
  {
   "cell_type": "code",
   "execution_count": 50,
   "metadata": {},
   "outputs": [
    {
     "data": {
      "text/plain": [
       "count      64787.00\n",
       "mean       31002.38\n",
       "std       562009.56\n",
       "min            0.00\n",
       "25%            0.00\n",
       "50%            0.00\n",
       "75%        11454.00\n",
       "max     95437227.00\n",
       "Name: accounts_summary__overdue_balance, dtype: float64"
      ]
     },
     "execution_count": 50,
     "metadata": {},
     "output_type": "execute_result"
    }
   ],
   "source": [
    "df['accounts_summary__overdue_balance'].describe()"
   ]
  },
  {
   "cell_type": "code",
   "execution_count": 51,
   "metadata": {},
   "outputs": [
    {
     "data": {
      "text/plain": [
       "34657"
      ]
     },
     "execution_count": 51,
     "metadata": {},
     "output_type": "execute_result"
    }
   ],
   "source": [
    "#More than half of accounts have accounts summary overdue balance as zero\n",
    "len(df[df['accounts_summary__overdue_balance']==0])"
   ]
  },
  {
   "cell_type": "code",
   "execution_count": 52,
   "metadata": {},
   "outputs": [
    {
     "data": {
      "text/plain": [
       "count       64787.00\n",
       "mean      1360098.02\n",
       "std       4164253.39\n",
       "min             0.00\n",
       "25%        143689.50\n",
       "50%        489314.00\n",
       "75%       1387839.50\n",
       "max     660821835.00\n",
       "Name: accounts_summary__sanction_amount, dtype: float64"
      ]
     },
     "execution_count": 52,
     "metadata": {},
     "output_type": "execute_result"
    }
   ],
   "source": [
    "df['accounts_summary__sanction_amount'].describe()"
   ]
  },
  {
   "cell_type": "code",
   "execution_count": 53,
   "metadata": {},
   "outputs": [
    {
     "data": {
      "text/plain": [
       "2252"
      ]
     },
     "execution_count": 53,
     "metadata": {},
     "output_type": "execute_result"
    }
   ],
   "source": [
    "len(df[df['accounts_summary__sanction_amount']==0])"
   ]
  },
  {
   "cell_type": "code",
   "execution_count": 54,
   "metadata": {},
   "outputs": [
    {
     "data": {
      "text/plain": [
       "4.00      2841\n",
       "3.00      2829\n",
       "2.00      2794\n",
       "5.00      2730\n",
       "1.00      2696\n",
       "          ... \n",
       "259.00       1\n",
       "183.00       1\n",
       "170.00       1\n",
       "165.00       1\n",
       "523.00       1\n",
       "Name: accounts_summary__total_loan, Length: 189, dtype: int64"
      ]
     },
     "execution_count": 54,
     "metadata": {},
     "output_type": "execute_result"
    }
   ],
   "source": [
    "df['accounts_summary__total_loan'].value_counts()"
   ]
  },
  {
   "cell_type": "code",
   "execution_count": 55,
   "metadata": {},
   "outputs": [
    {
     "data": {
      "text/plain": [
       "0.00      7558\n",
       "1.00      5446\n",
       "2.00      4511\n",
       "3.00      4026\n",
       "4.00      3491\n",
       "          ... \n",
       "190.00       1\n",
       "127.00       1\n",
       "182.00       1\n",
       "223.00       1\n",
       "135.00       1\n",
       "Name: accounts_summary__zero_balance, Length: 170, dtype: int64"
      ]
     },
     "execution_count": 55,
     "metadata": {},
     "output_type": "execute_result"
    }
   ],
   "source": [
    "df['accounts_summary__zero_balance'].value_counts()"
   ]
  },
  {
   "cell_type": "code",
   "execution_count": 56,
   "metadata": {},
   "outputs": [
    {
     "data": {
      "text/plain": [
       "0        25-12-2019\n",
       "1        11-06-2019\n",
       "2        17-06-2021\n",
       "3        10-12-2020\n",
       "4        21-09-2021\n",
       "            ...    \n",
       "65251    01-12-2021\n",
       "65252    28-09-2019\n",
       "65253    29-11-2021\n",
       "65254    15-11-2021\n",
       "65255    03-12-2021\n",
       "Name: enquiries__last_enquiry_date, Length: 65256, dtype: object"
      ]
     },
     "execution_count": 56,
     "metadata": {},
     "output_type": "execute_result"
    }
   ],
   "source": [
    "df['enquiries__last_enquiry_date']"
   ]
  },
  {
   "cell_type": "code",
   "execution_count": 57,
   "metadata": {},
   "outputs": [
    {
     "data": {
      "text/plain": [
       "count   65256.00\n",
       "mean       20.64\n",
       "std         9.36\n",
       "min         0.00\n",
       "25%        11.00\n",
       "50%        23.00\n",
       "75%        27.00\n",
       "max       159.00\n",
       "Name: mths_since_last_enquiry, dtype: float64"
      ]
     },
     "execution_count": 57,
     "metadata": {},
     "output_type": "execute_result"
    }
   ],
   "source": [
    "# Converting enquiries__last_enquiry_date from string type into d-m-y date format and saving it into a variable\n",
    "df['enquiries__last_enquiry_date'] = pd.to_datetime(df['enquiries__last_enquiry_date'], format= '%d-%m-%Y')\n",
    "\n",
    "df['mths_since_last_enquiry'] = round((pd.to_datetime('15-12-2021')- df['enquiries__last_enquiry_date'])/np.timedelta64(1, 'M'))\n",
    "\n",
    "df['mths_since_last_enquiry'].describe()"
   ]
  },
  {
   "cell_type": "code",
   "execution_count": 58,
   "metadata": {},
   "outputs": [
    {
     "data": {
      "text/plain": [
       "0        23\n",
       "1        23\n",
       "2        38\n",
       "3         9\n",
       "4        10\n",
       "         ..\n",
       "65251     4\n",
       "65252     0\n",
       "65253     0\n",
       "65254     9\n",
       "65255     0\n",
       "Name: enquiries__past_12_months, Length: 65256, dtype: int64"
      ]
     },
     "execution_count": 58,
     "metadata": {},
     "output_type": "execute_result"
    }
   ],
   "source": [
    "df['enquiries__past_12_months']"
   ]
  },
  {
   "cell_type": "code",
   "execution_count": 59,
   "metadata": {},
   "outputs": [
    {
     "data": {
      "text/plain": [
       "count   65256.00\n",
       "mean        4.44\n",
       "std         4.20\n",
       "min         0.00\n",
       "25%         1.00\n",
       "50%         3.00\n",
       "75%         6.00\n",
       "max        59.00\n",
       "Name: enquiries__past_30_days, dtype: float64"
      ]
     },
     "execution_count": 59,
     "metadata": {},
     "output_type": "execute_result"
    }
   ],
   "source": [
    "df['enquiries__past_30_days'].describe()"
   ]
  },
  {
   "cell_type": "markdown",
   "metadata": {},
   "source": [
    "### Comparing PayDay and EMI\n",
    "Convert the product type into EMI and Payday."
   ]
  },
  {
   "cell_type": "code",
   "execution_count": 60,
   "metadata": {},
   "outputs": [],
   "source": [
    "\n",
    "#df['Binary_product'] = np.where((df['Product/loan type'] == 'Payday Loan'), 'Payday', 'EMI')\n",
    "#df['Binary_product'].value_counts()"
   ]
  },
  {
   "cell_type": "code",
   "execution_count": 61,
   "metadata": {},
   "outputs": [
    {
     "data": {
      "text/plain": [
       "Payday    58057\n",
       "EMI        7199\n",
       "Name: Binary_product, dtype: int64"
      ]
     },
     "execution_count": 61,
     "metadata": {},
     "output_type": "execute_result"
    }
   ],
   "source": [
    "\n",
    "\n",
    "# Here we take PayDay & EMI binary. Cases with missing Product/Loan Type would go into PayDay. We'd delete them\n",
    "df['Binary_product'] = np.where(df['Product/loan type'].isin(['EMI Loan For 3 Month', 'EMI Loan For 6',\n",
    "                                    'EMI Loan For 12', 'EMI Loan For 24', 'EMI Loan For 36', 'EMI Loan For 9',\n",
    "                                    'EMI Loan For 18']),'EMI', 'Payday')\n",
    "\n",
    "df['Binary_product'].value_counts()"
   ]
  },
  {
   "cell_type": "code",
   "execution_count": 62,
   "metadata": {},
   "outputs": [
    {
     "data": {
      "text/plain": [
       "Payday Loan             38547\n",
       "EMI Loan For 3 Month     6592\n",
       "EMI Loan For 6            563\n",
       "EMI Loan For 12            33\n",
       "EMI Loan For 24             4\n",
       "EMI Loan For 36             3\n",
       "EMI Loan For 9              3\n",
       "EMI Loan For 18             1\n",
       "Name: Product/loan type, dtype: int64"
      ]
     },
     "execution_count": 62,
     "metadata": {},
     "output_type": "execute_result"
    }
   ],
   "source": [
    "df['Product/loan type'].value_counts()"
   ]
  },
  {
   "cell_type": "code",
   "execution_count": 63,
   "metadata": {},
   "outputs": [
    {
     "data": {
      "text/plain": [
       "Binary_product\n",
       "EMI      75111.34\n",
       "Payday   21940.40\n",
       "Name: Funding amount, dtype: float64"
      ]
     },
     "metadata": {},
     "output_type": "display_data"
    },
    {
     "data": {
      "text/plain": [
       "Binary_product\n",
       "EMI       39352\n",
       "Payday     6000\n",
       "Name: Funding amount, dtype: int64"
      ]
     },
     "metadata": {},
     "output_type": "display_data"
    }
   ],
   "source": [
    "display(df.groupby(['Binary_product'])['Funding amount'].mean())\n",
    "\n",
    "display(df.groupby(['Binary_product'])['Funding amount'].median())\n"
   ]
  },
  {
   "cell_type": "code",
   "execution_count": 64,
   "metadata": {},
   "outputs": [
    {
     "data": {
      "text/plain": [
       "DISBURSED         16564\n",
       "PAID              14422\n",
       "FAILED             6897\n",
       "SETTLED            6012\n",
       "BALANCE_AMOUNT      791\n",
       "PASSED               39\n",
       "EXTENDED              1\n",
       "Name: Final status, dtype: int64"
      ]
     },
     "execution_count": 64,
     "metadata": {},
     "output_type": "execute_result"
    }
   ],
   "source": [
    "df['Final status'].value_counts()"
   ]
  },
  {
   "cell_type": "markdown",
   "metadata": {},
   "source": [
    "## Data Preparation\n",
    "\n",
    "    1. We delete all the rows that have final status as failed\n",
    "    2. We create separate dataset for rejected cases for reject inference\n",
    "    3. We create separate dataset for EMI and PayDay Loans\n",
    "    4. We delete all the funded cases in EMI Loans that are funded after 30th Sep 2021\n",
    "    5. We delete all the funded cases in PayDay Loans that are funded after 30th Nov 2021\n",
    "\n",
    "Since Final status with missing label is rejected cases and we have no way to figure out if these application for EMI or PayDay. We would use this rejected data for reject inference in both EMI and PayDay Loans"
   ]
  },
  {
   "cell_type": "code",
   "execution_count": 65,
   "metadata": {},
   "outputs": [],
   "source": [
    "df1 = df[df['Final status'] != 'FAILED']\n",
    "df_rejected = df1[df1['Final status'].isnull()].copy()\n",
    "df1 = df1[~df1['Final status'].isnull()] # Deleting the Final Status having missing values\n",
    "\n",
    "df_payday = df1[df1['Binary_product']== 'Payday']\n",
    "df_EMI = df1[df1['Binary_product']== 'EMI']"
   ]
  },
  {
   "cell_type": "code",
   "execution_count": 71,
   "metadata": {},
   "outputs": [
    {
     "data": {
      "text/plain": [
       "(30967, 35)"
      ]
     },
     "metadata": {},
     "output_type": "display_data"
    },
    {
     "data": {
      "text/plain": [
       "(6862, 35)"
      ]
     },
     "metadata": {},
     "output_type": "display_data"
    },
    {
     "data": {
      "text/plain": [
       "(20530, 35)"
      ]
     },
     "metadata": {},
     "output_type": "display_data"
    }
   ],
   "source": [
    "display(df_payday.shape)\n",
    "display(df_EMI.shape)\n",
    "display(df_rejected.shape)\n"
   ]
  },
  {
   "cell_type": "code",
   "execution_count": 79,
   "metadata": {},
   "outputs": [
    {
     "data": {
      "text/plain": [
       "CIBIL score                                   0\n",
       "Current Loan Delay                        19510\n",
       "Current Loan tenure                       19510\n",
       "Date_of_birth                               123\n",
       "Final status                              20530\n",
       "First Loan                                19560\n",
       "Funding amount                                0\n",
       "Funding date                              19560\n",
       "Gender                                      107\n",
       "Highest educational qualifications            0\n",
       "Home ownership                                7\n",
       "Last Loan                                 20530\n",
       "Monthly salary                              518\n",
       "Product/loan type                         19510\n",
       "Purpose of loan                           19521\n",
       "Years Of Experience                         127\n",
       "user                                          0\n",
       "Funded/Rejected                               0\n",
       "accounts_summary__current_loan_balance      404\n",
       "accounts_summary__overdue                   404\n",
       "accounts_summary__overdue_balance           404\n",
       "accounts_summary__sanction_amount           404\n",
       "accounts_summary__total_loan                404\n",
       "accounts_summary__zero_balance              404\n",
       "enquiries__last_enquiry_date                  0\n",
       "enquiries__past_12_months                     0\n",
       "enquiries__past_24_months                     0\n",
       "enquiries__past_30_days                       0\n",
       "enquiries__total                              0\n",
       "Year                                        123\n",
       "customer_age                                123\n",
       "mths_since_first_loan                     19560\n",
       "mths_since_last_loan                      20530\n",
       "mths_since_last_enquiry                       0\n",
       "Binary_product                                0\n",
       "dtype: int64"
      ]
     },
     "execution_count": 79,
     "metadata": {},
     "output_type": "execute_result"
    }
   ],
   "source": [
    "df_rejected.isnull().sum()"
   ]
  },
  {
   "cell_type": "code",
   "execution_count": 77,
   "metadata": {},
   "outputs": [
    {
     "data": {
      "text/html": [
       "<div>\n",
       "<style scoped>\n",
       "    .dataframe tbody tr th:only-of-type {\n",
       "        vertical-align: middle;\n",
       "    }\n",
       "\n",
       "    .dataframe tbody tr th {\n",
       "        vertical-align: top;\n",
       "    }\n",
       "\n",
       "    .dataframe thead th {\n",
       "        text-align: right;\n",
       "    }\n",
       "</style>\n",
       "<table border=\"1\" class=\"dataframe\">\n",
       "  <thead>\n",
       "    <tr style=\"text-align: right;\">\n",
       "      <th></th>\n",
       "      <th>CIBIL score</th>\n",
       "      <th>Current Loan Delay</th>\n",
       "      <th>Current Loan tenure</th>\n",
       "      <th>Date_of_birth</th>\n",
       "      <th>Final status</th>\n",
       "      <th>First Loan</th>\n",
       "      <th>Funding amount</th>\n",
       "      <th>Funding date</th>\n",
       "      <th>Gender</th>\n",
       "      <th>Highest educational qualifications</th>\n",
       "      <th>...</th>\n",
       "      <th>enquiries__past_12_months</th>\n",
       "      <th>enquiries__past_24_months</th>\n",
       "      <th>enquiries__past_30_days</th>\n",
       "      <th>enquiries__total</th>\n",
       "      <th>Year</th>\n",
       "      <th>customer_age</th>\n",
       "      <th>mths_since_first_loan</th>\n",
       "      <th>mths_since_last_loan</th>\n",
       "      <th>mths_since_last_enquiry</th>\n",
       "      <th>Binary_product</th>\n",
       "    </tr>\n",
       "  </thead>\n",
       "  <tbody>\n",
       "    <tr>\n",
       "      <th>11699</th>\n",
       "      <td>740</td>\n",
       "      <td>-31.00</td>\n",
       "      <td>34.00</td>\n",
       "      <td>1992-12-03</td>\n",
       "      <td>DISBURSED</td>\n",
       "      <td>2021-12-04</td>\n",
       "      <td>5000</td>\n",
       "      <td>04-12-2021</td>\n",
       "      <td>male</td>\n",
       "      <td>UNDER_GRADUATE</td>\n",
       "      <td>...</td>\n",
       "      <td>20</td>\n",
       "      <td>16</td>\n",
       "      <td>5</td>\n",
       "      <td>77</td>\n",
       "      <td>1992.00</td>\n",
       "      <td>29.00</td>\n",
       "      <td>0.00</td>\n",
       "      <td>0.00</td>\n",
       "      <td>1.00</td>\n",
       "      <td>Payday</td>\n",
       "    </tr>\n",
       "    <tr>\n",
       "      <th>12800</th>\n",
       "      <td>686</td>\n",
       "      <td>-25.00</td>\n",
       "      <td>29.00</td>\n",
       "      <td>1985-04-17</td>\n",
       "      <td>DISBURSED</td>\n",
       "      <td>2021-12-03</td>\n",
       "      <td>8000</td>\n",
       "      <td>03-12-2021</td>\n",
       "      <td>male</td>\n",
       "      <td>UNDER_GRADUATE</td>\n",
       "      <td>...</td>\n",
       "      <td>10</td>\n",
       "      <td>18</td>\n",
       "      <td>6</td>\n",
       "      <td>118</td>\n",
       "      <td>1985.00</td>\n",
       "      <td>36.00</td>\n",
       "      <td>0.00</td>\n",
       "      <td>0.00</td>\n",
       "      <td>0.00</td>\n",
       "      <td>Payday</td>\n",
       "    </tr>\n",
       "    <tr>\n",
       "      <th>15734</th>\n",
       "      <td>699</td>\n",
       "      <td>-25.00</td>\n",
       "      <td>31.00</td>\n",
       "      <td>1998-09-25</td>\n",
       "      <td>DISBURSED</td>\n",
       "      <td>2021-12-01</td>\n",
       "      <td>7000</td>\n",
       "      <td>01-12-2021</td>\n",
       "      <td>male</td>\n",
       "      <td>UNDER_GRADUATE</td>\n",
       "      <td>...</td>\n",
       "      <td>13</td>\n",
       "      <td>4</td>\n",
       "      <td>18</td>\n",
       "      <td>35</td>\n",
       "      <td>1998.00</td>\n",
       "      <td>23.00</td>\n",
       "      <td>0.00</td>\n",
       "      <td>0.00</td>\n",
       "      <td>0.00</td>\n",
       "      <td>Payday</td>\n",
       "    </tr>\n",
       "    <tr>\n",
       "      <th>42112</th>\n",
       "      <td>786</td>\n",
       "      <td>-35.00</td>\n",
       "      <td>40.00</td>\n",
       "      <td>1991-08-21</td>\n",
       "      <td>DISBURSED</td>\n",
       "      <td>2021-12-02</td>\n",
       "      <td>9000</td>\n",
       "      <td>02-12-2021</td>\n",
       "      <td>female</td>\n",
       "      <td>GRADUATE</td>\n",
       "      <td>...</td>\n",
       "      <td>4</td>\n",
       "      <td>0</td>\n",
       "      <td>4</td>\n",
       "      <td>9</td>\n",
       "      <td>1991.00</td>\n",
       "      <td>30.00</td>\n",
       "      <td>0.00</td>\n",
       "      <td>0.00</td>\n",
       "      <td>24.00</td>\n",
       "      <td>Payday</td>\n",
       "    </tr>\n",
       "    <tr>\n",
       "      <th>43450</th>\n",
       "      <td>743</td>\n",
       "      <td>-31.00</td>\n",
       "      <td>38.00</td>\n",
       "      <td>1992-03-12</td>\n",
       "      <td>DISBURSED</td>\n",
       "      <td>2021-11-30</td>\n",
       "      <td>8000</td>\n",
       "      <td>30-11-2021</td>\n",
       "      <td>male</td>\n",
       "      <td>GRADUATE</td>\n",
       "      <td>...</td>\n",
       "      <td>1</td>\n",
       "      <td>3</td>\n",
       "      <td>1</td>\n",
       "      <td>10</td>\n",
       "      <td>1992.00</td>\n",
       "      <td>29.00</td>\n",
       "      <td>0.00</td>\n",
       "      <td>0.00</td>\n",
       "      <td>23.00</td>\n",
       "      <td>Payday</td>\n",
       "    </tr>\n",
       "    <tr>\n",
       "      <th>...</th>\n",
       "      <td>...</td>\n",
       "      <td>...</td>\n",
       "      <td>...</td>\n",
       "      <td>...</td>\n",
       "      <td>...</td>\n",
       "      <td>...</td>\n",
       "      <td>...</td>\n",
       "      <td>...</td>\n",
       "      <td>...</td>\n",
       "      <td>...</td>\n",
       "      <td>...</td>\n",
       "      <td>...</td>\n",
       "      <td>...</td>\n",
       "      <td>...</td>\n",
       "      <td>...</td>\n",
       "      <td>...</td>\n",
       "      <td>...</td>\n",
       "      <td>...</td>\n",
       "      <td>...</td>\n",
       "      <td>...</td>\n",
       "      <td>...</td>\n",
       "    </tr>\n",
       "    <tr>\n",
       "      <th>65077</th>\n",
       "      <td>731</td>\n",
       "      <td>-25.00</td>\n",
       "      <td>28.00</td>\n",
       "      <td>1996-12-08</td>\n",
       "      <td>DISBURSED</td>\n",
       "      <td>2021-12-04</td>\n",
       "      <td>3000</td>\n",
       "      <td>04-12-2021</td>\n",
       "      <td>male</td>\n",
       "      <td>UNDER_GRADUATE</td>\n",
       "      <td>...</td>\n",
       "      <td>5</td>\n",
       "      <td>7</td>\n",
       "      <td>3</td>\n",
       "      <td>10</td>\n",
       "      <td>1996.00</td>\n",
       "      <td>25.00</td>\n",
       "      <td>0.00</td>\n",
       "      <td>0.00</td>\n",
       "      <td>1.00</td>\n",
       "      <td>Payday</td>\n",
       "    </tr>\n",
       "    <tr>\n",
       "      <th>65124</th>\n",
       "      <td>738</td>\n",
       "      <td>-31.00</td>\n",
       "      <td>34.00</td>\n",
       "      <td>1990-03-27</td>\n",
       "      <td>DISBURSED</td>\n",
       "      <td>2021-12-04</td>\n",
       "      <td>10000</td>\n",
       "      <td>04-12-2021</td>\n",
       "      <td>male</td>\n",
       "      <td>UNDER_GRADUATE</td>\n",
       "      <td>...</td>\n",
       "      <td>5</td>\n",
       "      <td>9</td>\n",
       "      <td>6</td>\n",
       "      <td>10</td>\n",
       "      <td>1990.00</td>\n",
       "      <td>31.00</td>\n",
       "      <td>0.00</td>\n",
       "      <td>0.00</td>\n",
       "      <td>0.00</td>\n",
       "      <td>Payday</td>\n",
       "    </tr>\n",
       "    <tr>\n",
       "      <th>65156</th>\n",
       "      <td>786</td>\n",
       "      <td>-31.00</td>\n",
       "      <td>34.00</td>\n",
       "      <td>1994-02-24</td>\n",
       "      <td>DISBURSED</td>\n",
       "      <td>2021-12-04</td>\n",
       "      <td>4000</td>\n",
       "      <td>04-12-2021</td>\n",
       "      <td>male</td>\n",
       "      <td>UNDER_GRADUATE</td>\n",
       "      <td>...</td>\n",
       "      <td>0</td>\n",
       "      <td>0</td>\n",
       "      <td>0</td>\n",
       "      <td>0</td>\n",
       "      <td>1994.00</td>\n",
       "      <td>27.00</td>\n",
       "      <td>0.00</td>\n",
       "      <td>0.00</td>\n",
       "      <td>4.00</td>\n",
       "      <td>Payday</td>\n",
       "    </tr>\n",
       "    <tr>\n",
       "      <th>65161</th>\n",
       "      <td>746</td>\n",
       "      <td>-31.00</td>\n",
       "      <td>35.00</td>\n",
       "      <td>1991-10-01</td>\n",
       "      <td>DISBURSED</td>\n",
       "      <td>2021-12-03</td>\n",
       "      <td>2000</td>\n",
       "      <td>03-12-2021</td>\n",
       "      <td>male</td>\n",
       "      <td>UNDER_GRADUATE</td>\n",
       "      <td>...</td>\n",
       "      <td>19</td>\n",
       "      <td>3</td>\n",
       "      <td>7</td>\n",
       "      <td>29</td>\n",
       "      <td>1991.00</td>\n",
       "      <td>30.00</td>\n",
       "      <td>0.00</td>\n",
       "      <td>0.00</td>\n",
       "      <td>0.00</td>\n",
       "      <td>Payday</td>\n",
       "    </tr>\n",
       "    <tr>\n",
       "      <th>65254</th>\n",
       "      <td>729</td>\n",
       "      <td>-36.00</td>\n",
       "      <td>39.00</td>\n",
       "      <td>1978-06-24</td>\n",
       "      <td>DISBURSED</td>\n",
       "      <td>2021-12-04</td>\n",
       "      <td>8000</td>\n",
       "      <td>04-12-2021</td>\n",
       "      <td>male</td>\n",
       "      <td>UNDER_GRADUATE</td>\n",
       "      <td>...</td>\n",
       "      <td>9</td>\n",
       "      <td>5</td>\n",
       "      <td>2</td>\n",
       "      <td>38</td>\n",
       "      <td>1978.00</td>\n",
       "      <td>43.00</td>\n",
       "      <td>0.00</td>\n",
       "      <td>0.00</td>\n",
       "      <td>1.00</td>\n",
       "      <td>Payday</td>\n",
       "    </tr>\n",
       "  </tbody>\n",
       "</table>\n",
       "<p>110 rows × 35 columns</p>\n",
       "</div>"
      ],
      "text/plain": [
       "       CIBIL score  Current Loan Delay  Current Loan tenure Date_of_birth  \\\n",
       "11699          740              -31.00                34.00    1992-12-03   \n",
       "12800          686              -25.00                29.00    1985-04-17   \n",
       "15734          699              -25.00                31.00    1998-09-25   \n",
       "42112          786              -35.00                40.00    1991-08-21   \n",
       "43450          743              -31.00                38.00    1992-03-12   \n",
       "...            ...                 ...                  ...           ...   \n",
       "65077          731              -25.00                28.00    1996-12-08   \n",
       "65124          738              -31.00                34.00    1990-03-27   \n",
       "65156          786              -31.00                34.00    1994-02-24   \n",
       "65161          746              -31.00                35.00    1991-10-01   \n",
       "65254          729              -36.00                39.00    1978-06-24   \n",
       "\n",
       "      Final status First Loan  Funding amount Funding date  Gender  \\\n",
       "11699    DISBURSED 2021-12-04            5000   04-12-2021    male   \n",
       "12800    DISBURSED 2021-12-03            8000   03-12-2021    male   \n",
       "15734    DISBURSED 2021-12-01            7000   01-12-2021    male   \n",
       "42112    DISBURSED 2021-12-02            9000   02-12-2021  female   \n",
       "43450    DISBURSED 2021-11-30            8000   30-11-2021    male   \n",
       "...            ...        ...             ...          ...     ...   \n",
       "65077    DISBURSED 2021-12-04            3000   04-12-2021    male   \n",
       "65124    DISBURSED 2021-12-04           10000   04-12-2021    male   \n",
       "65156    DISBURSED 2021-12-04            4000   04-12-2021    male   \n",
       "65161    DISBURSED 2021-12-03            2000   03-12-2021    male   \n",
       "65254    DISBURSED 2021-12-04            8000   04-12-2021    male   \n",
       "\n",
       "      Highest educational qualifications  ... enquiries__past_12_months  \\\n",
       "11699                     UNDER_GRADUATE  ...                        20   \n",
       "12800                     UNDER_GRADUATE  ...                        10   \n",
       "15734                     UNDER_GRADUATE  ...                        13   \n",
       "42112                           GRADUATE  ...                         4   \n",
       "43450                           GRADUATE  ...                         1   \n",
       "...                                  ...  ...                       ...   \n",
       "65077                     UNDER_GRADUATE  ...                         5   \n",
       "65124                     UNDER_GRADUATE  ...                         5   \n",
       "65156                     UNDER_GRADUATE  ...                         0   \n",
       "65161                     UNDER_GRADUATE  ...                        19   \n",
       "65254                     UNDER_GRADUATE  ...                         9   \n",
       "\n",
       "      enquiries__past_24_months  enquiries__past_30_days enquiries__total  \\\n",
       "11699                        16                        5               77   \n",
       "12800                        18                        6              118   \n",
       "15734                         4                       18               35   \n",
       "42112                         0                        4                9   \n",
       "43450                         3                        1               10   \n",
       "...                         ...                      ...              ...   \n",
       "65077                         7                        3               10   \n",
       "65124                         9                        6               10   \n",
       "65156                         0                        0                0   \n",
       "65161                         3                        7               29   \n",
       "65254                         5                        2               38   \n",
       "\n",
       "         Year  customer_age  mths_since_first_loan mths_since_last_loan  \\\n",
       "11699 1992.00         29.00                   0.00                 0.00   \n",
       "12800 1985.00         36.00                   0.00                 0.00   \n",
       "15734 1998.00         23.00                   0.00                 0.00   \n",
       "42112 1991.00         30.00                   0.00                 0.00   \n",
       "43450 1992.00         29.00                   0.00                 0.00   \n",
       "...       ...           ...                    ...                  ...   \n",
       "65077 1996.00         25.00                   0.00                 0.00   \n",
       "65124 1990.00         31.00                   0.00                 0.00   \n",
       "65156 1994.00         27.00                   0.00                 0.00   \n",
       "65161 1991.00         30.00                   0.00                 0.00   \n",
       "65254 1978.00         43.00                   0.00                 0.00   \n",
       "\n",
       "       mths_since_last_enquiry  Binary_product  \n",
       "11699                     1.00          Payday  \n",
       "12800                     0.00          Payday  \n",
       "15734                     0.00          Payday  \n",
       "42112                    24.00          Payday  \n",
       "43450                    23.00          Payday  \n",
       "...                        ...             ...  \n",
       "65077                     1.00          Payday  \n",
       "65124                     0.00          Payday  \n",
       "65156                     4.00          Payday  \n",
       "65161                     0.00          Payday  \n",
       "65254                     1.00          Payday  \n",
       "\n",
       "[110 rows x 35 columns]"
      ]
     },
     "execution_count": 77,
     "metadata": {},
     "output_type": "execute_result"
    }
   ],
   "source": [
    "df_payday[df_payday['mths_since_first_loan']==0]"
   ]
  },
  {
   "cell_type": "code",
   "execution_count": 73,
   "metadata": {},
   "outputs": [
    {
     "data": {
      "text/html": [
       "<div>\n",
       "<style scoped>\n",
       "    .dataframe tbody tr th:only-of-type {\n",
       "        vertical-align: middle;\n",
       "    }\n",
       "\n",
       "    .dataframe tbody tr th {\n",
       "        vertical-align: top;\n",
       "    }\n",
       "\n",
       "    .dataframe thead th {\n",
       "        text-align: right;\n",
       "    }\n",
       "</style>\n",
       "<table border=\"1\" class=\"dataframe\">\n",
       "  <thead>\n",
       "    <tr style=\"text-align: right;\">\n",
       "      <th></th>\n",
       "      <th>CIBIL score</th>\n",
       "      <th>Current Loan Delay</th>\n",
       "      <th>Current Loan tenure</th>\n",
       "      <th>Date_of_birth</th>\n",
       "      <th>Final status</th>\n",
       "      <th>First Loan</th>\n",
       "      <th>Funding amount</th>\n",
       "      <th>Funding date</th>\n",
       "      <th>Gender</th>\n",
       "      <th>Highest educational qualifications</th>\n",
       "      <th>...</th>\n",
       "      <th>enquiries__past_12_months</th>\n",
       "      <th>enquiries__past_24_months</th>\n",
       "      <th>enquiries__past_30_days</th>\n",
       "      <th>enquiries__total</th>\n",
       "      <th>Year</th>\n",
       "      <th>customer_age</th>\n",
       "      <th>mths_since_first_loan</th>\n",
       "      <th>mths_since_last_loan</th>\n",
       "      <th>mths_since_last_enquiry</th>\n",
       "      <th>Binary_product</th>\n",
       "    </tr>\n",
       "  </thead>\n",
       "  <tbody>\n",
       "    <tr>\n",
       "      <th>1</th>\n",
       "      <td>540</td>\n",
       "      <td>1060.00</td>\n",
       "      <td>24.00</td>\n",
       "      <td>1987-01-07</td>\n",
       "      <td>DISBURSED</td>\n",
       "      <td>2017-11-14</td>\n",
       "      <td>786531</td>\n",
       "      <td>14-11-2017</td>\n",
       "      <td>male</td>\n",
       "      <td>GRADUATE</td>\n",
       "      <td>...</td>\n",
       "      <td>23</td>\n",
       "      <td>23</td>\n",
       "      <td>7</td>\n",
       "      <td>97</td>\n",
       "      <td>1987.00</td>\n",
       "      <td>34.00</td>\n",
       "      <td>49.00</td>\n",
       "      <td>36.00</td>\n",
       "      <td>30.00</td>\n",
       "      <td>Payday</td>\n",
       "    </tr>\n",
       "    <tr>\n",
       "      <th>2</th>\n",
       "      <td>747</td>\n",
       "      <td>0.00</td>\n",
       "      <td>25.00</td>\n",
       "      <td>1993-11-13</td>\n",
       "      <td>FAILED</td>\n",
       "      <td>2017-11-09</td>\n",
       "      <td>352000</td>\n",
       "      <td>09-11-2017</td>\n",
       "      <td>male</td>\n",
       "      <td>POST_GRADUATE</td>\n",
       "      <td>...</td>\n",
       "      <td>38</td>\n",
       "      <td>16</td>\n",
       "      <td>0</td>\n",
       "      <td>120</td>\n",
       "      <td>1993.00</td>\n",
       "      <td>28.00</td>\n",
       "      <td>49.00</td>\n",
       "      <td>nan</td>\n",
       "      <td>6.00</td>\n",
       "      <td>Payday</td>\n",
       "    </tr>\n",
       "    <tr>\n",
       "      <th>3</th>\n",
       "      <td>706</td>\n",
       "      <td>5.00</td>\n",
       "      <td>29.00</td>\n",
       "      <td>1982-05-11</td>\n",
       "      <td>PAID</td>\n",
       "      <td>NaT</td>\n",
       "      <td>417000</td>\n",
       "      <td>NaN</td>\n",
       "      <td>male</td>\n",
       "      <td>GRADUATE</td>\n",
       "      <td>...</td>\n",
       "      <td>9</td>\n",
       "      <td>16</td>\n",
       "      <td>1</td>\n",
       "      <td>175</td>\n",
       "      <td>1982.00</td>\n",
       "      <td>39.00</td>\n",
       "      <td>nan</td>\n",
       "      <td>29.00</td>\n",
       "      <td>12.00</td>\n",
       "      <td>Payday</td>\n",
       "    </tr>\n",
       "    <tr>\n",
       "      <th>4</th>\n",
       "      <td>721</td>\n",
       "      <td>0.00</td>\n",
       "      <td>179.00</td>\n",
       "      <td>1988-01-07</td>\n",
       "      <td>DISBURSED</td>\n",
       "      <td>2017-11-30</td>\n",
       "      <td>2489500</td>\n",
       "      <td>30-11-2017</td>\n",
       "      <td>male</td>\n",
       "      <td>GRADUATE</td>\n",
       "      <td>...</td>\n",
       "      <td>10</td>\n",
       "      <td>22</td>\n",
       "      <td>1</td>\n",
       "      <td>37</td>\n",
       "      <td>1988.00</td>\n",
       "      <td>33.00</td>\n",
       "      <td>48.00</td>\n",
       "      <td>2.00</td>\n",
       "      <td>3.00</td>\n",
       "      <td>EMI</td>\n",
       "    </tr>\n",
       "    <tr>\n",
       "      <th>5</th>\n",
       "      <td>714</td>\n",
       "      <td>0.00</td>\n",
       "      <td>29.00</td>\n",
       "      <td>1983-02-26</td>\n",
       "      <td>FAILED</td>\n",
       "      <td>2017-08-11</td>\n",
       "      <td>995000</td>\n",
       "      <td>11-08-2017</td>\n",
       "      <td>male</td>\n",
       "      <td>POST_GRADUATE</td>\n",
       "      <td>...</td>\n",
       "      <td>71</td>\n",
       "      <td>47</td>\n",
       "      <td>0</td>\n",
       "      <td>326</td>\n",
       "      <td>1983.00</td>\n",
       "      <td>38.00</td>\n",
       "      <td>52.00</td>\n",
       "      <td>nan</td>\n",
       "      <td>21.00</td>\n",
       "      <td>Payday</td>\n",
       "    </tr>\n",
       "    <tr>\n",
       "      <th>...</th>\n",
       "      <td>...</td>\n",
       "      <td>...</td>\n",
       "      <td>...</td>\n",
       "      <td>...</td>\n",
       "      <td>...</td>\n",
       "      <td>...</td>\n",
       "      <td>...</td>\n",
       "      <td>...</td>\n",
       "      <td>...</td>\n",
       "      <td>...</td>\n",
       "      <td>...</td>\n",
       "      <td>...</td>\n",
       "      <td>...</td>\n",
       "      <td>...</td>\n",
       "      <td>...</td>\n",
       "      <td>...</td>\n",
       "      <td>...</td>\n",
       "      <td>...</td>\n",
       "      <td>...</td>\n",
       "      <td>...</td>\n",
       "      <td>...</td>\n",
       "    </tr>\n",
       "    <tr>\n",
       "      <th>65077</th>\n",
       "      <td>731</td>\n",
       "      <td>-25.00</td>\n",
       "      <td>28.00</td>\n",
       "      <td>1996-12-08</td>\n",
       "      <td>DISBURSED</td>\n",
       "      <td>2021-12-04</td>\n",
       "      <td>3000</td>\n",
       "      <td>04-12-2021</td>\n",
       "      <td>male</td>\n",
       "      <td>UNDER_GRADUATE</td>\n",
       "      <td>...</td>\n",
       "      <td>5</td>\n",
       "      <td>7</td>\n",
       "      <td>3</td>\n",
       "      <td>10</td>\n",
       "      <td>1996.00</td>\n",
       "      <td>25.00</td>\n",
       "      <td>0.00</td>\n",
       "      <td>0.00</td>\n",
       "      <td>1.00</td>\n",
       "      <td>Payday</td>\n",
       "    </tr>\n",
       "    <tr>\n",
       "      <th>65124</th>\n",
       "      <td>738</td>\n",
       "      <td>-31.00</td>\n",
       "      <td>34.00</td>\n",
       "      <td>1990-03-27</td>\n",
       "      <td>DISBURSED</td>\n",
       "      <td>2021-12-04</td>\n",
       "      <td>10000</td>\n",
       "      <td>04-12-2021</td>\n",
       "      <td>male</td>\n",
       "      <td>UNDER_GRADUATE</td>\n",
       "      <td>...</td>\n",
       "      <td>5</td>\n",
       "      <td>9</td>\n",
       "      <td>6</td>\n",
       "      <td>10</td>\n",
       "      <td>1990.00</td>\n",
       "      <td>31.00</td>\n",
       "      <td>0.00</td>\n",
       "      <td>0.00</td>\n",
       "      <td>0.00</td>\n",
       "      <td>Payday</td>\n",
       "    </tr>\n",
       "    <tr>\n",
       "      <th>65156</th>\n",
       "      <td>786</td>\n",
       "      <td>-31.00</td>\n",
       "      <td>34.00</td>\n",
       "      <td>1994-02-24</td>\n",
       "      <td>DISBURSED</td>\n",
       "      <td>2021-12-04</td>\n",
       "      <td>4000</td>\n",
       "      <td>04-12-2021</td>\n",
       "      <td>male</td>\n",
       "      <td>UNDER_GRADUATE</td>\n",
       "      <td>...</td>\n",
       "      <td>0</td>\n",
       "      <td>0</td>\n",
       "      <td>0</td>\n",
       "      <td>0</td>\n",
       "      <td>1994.00</td>\n",
       "      <td>27.00</td>\n",
       "      <td>0.00</td>\n",
       "      <td>0.00</td>\n",
       "      <td>4.00</td>\n",
       "      <td>Payday</td>\n",
       "    </tr>\n",
       "    <tr>\n",
       "      <th>65161</th>\n",
       "      <td>746</td>\n",
       "      <td>-31.00</td>\n",
       "      <td>35.00</td>\n",
       "      <td>1991-10-01</td>\n",
       "      <td>DISBURSED</td>\n",
       "      <td>2021-12-03</td>\n",
       "      <td>2000</td>\n",
       "      <td>03-12-2021</td>\n",
       "      <td>male</td>\n",
       "      <td>UNDER_GRADUATE</td>\n",
       "      <td>...</td>\n",
       "      <td>19</td>\n",
       "      <td>3</td>\n",
       "      <td>7</td>\n",
       "      <td>29</td>\n",
       "      <td>1991.00</td>\n",
       "      <td>30.00</td>\n",
       "      <td>0.00</td>\n",
       "      <td>0.00</td>\n",
       "      <td>0.00</td>\n",
       "      <td>Payday</td>\n",
       "    </tr>\n",
       "    <tr>\n",
       "      <th>65254</th>\n",
       "      <td>729</td>\n",
       "      <td>-36.00</td>\n",
       "      <td>39.00</td>\n",
       "      <td>1978-06-24</td>\n",
       "      <td>DISBURSED</td>\n",
       "      <td>2021-12-04</td>\n",
       "      <td>8000</td>\n",
       "      <td>04-12-2021</td>\n",
       "      <td>male</td>\n",
       "      <td>UNDER_GRADUATE</td>\n",
       "      <td>...</td>\n",
       "      <td>9</td>\n",
       "      <td>5</td>\n",
       "      <td>2</td>\n",
       "      <td>38</td>\n",
       "      <td>1978.00</td>\n",
       "      <td>43.00</td>\n",
       "      <td>0.00</td>\n",
       "      <td>0.00</td>\n",
       "      <td>1.00</td>\n",
       "      <td>Payday</td>\n",
       "    </tr>\n",
       "  </tbody>\n",
       "</table>\n",
       "<p>44726 rows × 35 columns</p>\n",
       "</div>"
      ],
      "text/plain": [
       "       CIBIL score  Current Loan Delay  Current Loan tenure Date_of_birth  \\\n",
       "1              540             1060.00                24.00    1987-01-07   \n",
       "2              747                0.00                25.00    1993-11-13   \n",
       "3              706                5.00                29.00    1982-05-11   \n",
       "4              721                0.00               179.00    1988-01-07   \n",
       "5              714                0.00                29.00    1983-02-26   \n",
       "...            ...                 ...                  ...           ...   \n",
       "65077          731              -25.00                28.00    1996-12-08   \n",
       "65124          738              -31.00                34.00    1990-03-27   \n",
       "65156          786              -31.00                34.00    1994-02-24   \n",
       "65161          746              -31.00                35.00    1991-10-01   \n",
       "65254          729              -36.00                39.00    1978-06-24   \n",
       "\n",
       "      Final status First Loan  Funding amount Funding date Gender  \\\n",
       "1        DISBURSED 2017-11-14          786531   14-11-2017   male   \n",
       "2           FAILED 2017-11-09          352000   09-11-2017   male   \n",
       "3             PAID        NaT          417000          NaN   male   \n",
       "4        DISBURSED 2017-11-30         2489500   30-11-2017   male   \n",
       "5           FAILED 2017-08-11          995000   11-08-2017   male   \n",
       "...            ...        ...             ...          ...    ...   \n",
       "65077    DISBURSED 2021-12-04            3000   04-12-2021   male   \n",
       "65124    DISBURSED 2021-12-04           10000   04-12-2021   male   \n",
       "65156    DISBURSED 2021-12-04            4000   04-12-2021   male   \n",
       "65161    DISBURSED 2021-12-03            2000   03-12-2021   male   \n",
       "65254    DISBURSED 2021-12-04            8000   04-12-2021   male   \n",
       "\n",
       "      Highest educational qualifications  ... enquiries__past_12_months  \\\n",
       "1                               GRADUATE  ...                        23   \n",
       "2                          POST_GRADUATE  ...                        38   \n",
       "3                               GRADUATE  ...                         9   \n",
       "4                               GRADUATE  ...                        10   \n",
       "5                          POST_GRADUATE  ...                        71   \n",
       "...                                  ...  ...                       ...   \n",
       "65077                     UNDER_GRADUATE  ...                         5   \n",
       "65124                     UNDER_GRADUATE  ...                         5   \n",
       "65156                     UNDER_GRADUATE  ...                         0   \n",
       "65161                     UNDER_GRADUATE  ...                        19   \n",
       "65254                     UNDER_GRADUATE  ...                         9   \n",
       "\n",
       "      enquiries__past_24_months  enquiries__past_30_days enquiries__total  \\\n",
       "1                            23                        7               97   \n",
       "2                            16                        0              120   \n",
       "3                            16                        1              175   \n",
       "4                            22                        1               37   \n",
       "5                            47                        0              326   \n",
       "...                         ...                      ...              ...   \n",
       "65077                         7                        3               10   \n",
       "65124                         9                        6               10   \n",
       "65156                         0                        0                0   \n",
       "65161                         3                        7               29   \n",
       "65254                         5                        2               38   \n",
       "\n",
       "         Year  customer_age  mths_since_first_loan mths_since_last_loan  \\\n",
       "1     1987.00         34.00                  49.00                36.00   \n",
       "2     1993.00         28.00                  49.00                  nan   \n",
       "3     1982.00         39.00                    nan                29.00   \n",
       "4     1988.00         33.00                  48.00                 2.00   \n",
       "5     1983.00         38.00                  52.00                  nan   \n",
       "...       ...           ...                    ...                  ...   \n",
       "65077 1996.00         25.00                   0.00                 0.00   \n",
       "65124 1990.00         31.00                   0.00                 0.00   \n",
       "65156 1994.00         27.00                   0.00                 0.00   \n",
       "65161 1991.00         30.00                   0.00                 0.00   \n",
       "65254 1978.00         43.00                   0.00                 0.00   \n",
       "\n",
       "       mths_since_last_enquiry  Binary_product  \n",
       "1                        30.00          Payday  \n",
       "2                         6.00          Payday  \n",
       "3                        12.00          Payday  \n",
       "4                         3.00             EMI  \n",
       "5                        21.00          Payday  \n",
       "...                        ...             ...  \n",
       "65077                     1.00          Payday  \n",
       "65124                     0.00          Payday  \n",
       "65156                     4.00          Payday  \n",
       "65161                     0.00          Payday  \n",
       "65254                     1.00          Payday  \n",
       "\n",
       "[44726 rows x 35 columns]"
      ]
     },
     "execution_count": 73,
     "metadata": {},
     "output_type": "execute_result"
    }
   ],
   "source": [
    "df[df['Final status'].notnull()]"
   ]
  },
  {
   "cell_type": "code",
   "execution_count": null,
   "metadata": {},
   "outputs": [],
   "source": []
  },
  {
   "cell_type": "code",
   "execution_count": null,
   "metadata": {},
   "outputs": [],
   "source": []
  },
  {
   "cell_type": "code",
   "execution_count": null,
   "metadata": {},
   "outputs": [],
   "source": []
  },
  {
   "cell_type": "code",
   "execution_count": null,
   "metadata": {},
   "outputs": [],
   "source": []
  },
  {
   "cell_type": "code",
   "execution_count": 70,
   "metadata": {},
   "outputs": [
    {
     "data": {
      "text/plain": [
       "Index(['CIBIL score', 'Current Loan Delay', 'Current Loan tenure',\n",
       "       'Date_of_birth', 'Final status', 'First Loan', 'Funding amount',\n",
       "       'Funding date', 'Gender', 'Highest educational qualifications',\n",
       "       'Home ownership', 'Last Loan', 'Monthly salary', 'Product/loan type',\n",
       "       'Purpose of loan', 'Years Of Experience', 'user', 'Funded/Rejected',\n",
       "       'accounts_summary__current_loan_balance', 'accounts_summary__overdue',\n",
       "       'accounts_summary__overdue_balance',\n",
       "       'accounts_summary__sanction_amount', 'accounts_summary__total_loan',\n",
       "       'accounts_summary__zero_balance', 'enquiries__last_enquiry_date',\n",
       "       'enquiries__past_12_months', 'enquiries__past_24_months',\n",
       "       'enquiries__past_30_days', 'enquiries__total', 'Year', 'customer_age',\n",
       "       'mths_since_first_loan', 'mths_since_last_loan',\n",
       "       'mths_since_last_enquiry', 'Binary_product'],\n",
       "      dtype='object')"
      ]
     },
     "execution_count": 70,
     "metadata": {},
     "output_type": "execute_result"
    }
   ],
   "source": [
    "#df = df.drop(['Date_of_birth','First Loan', 'first_loan_date', 'Last Loan','last_loan_date','Purpose of loan',\n",
    "     #         'enquiries__last_enquiry_date'], axis = 1)\n",
    "df.columns"
   ]
  },
  {
   "cell_type": "code",
   "execution_count": null,
   "metadata": {},
   "outputs": [],
   "source": []
  },
  {
   "cell_type": "code",
   "execution_count": null,
   "metadata": {},
   "outputs": [],
   "source": []
  },
  {
   "cell_type": "code",
   "execution_count": null,
   "metadata": {},
   "outputs": [],
   "source": []
  }
 ],
 "metadata": {
  "kernelspec": {
   "display_name": "Python 3",
   "language": "python",
   "name": "python3"
  },
  "language_info": {
   "codemirror_mode": {
    "name": "ipython",
    "version": 3
   },
   "file_extension": ".py",
   "mimetype": "text/x-python",
   "name": "python",
   "nbconvert_exporter": "python",
   "pygments_lexer": "ipython3",
   "version": "3.7.6"
  }
 },
 "nbformat": 4,
 "nbformat_minor": 4
}
