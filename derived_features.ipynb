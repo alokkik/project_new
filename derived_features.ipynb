{
 "cells": [
  {
   "cell_type": "code",
   "execution_count": 7,
   "id": "2d00c296",
   "metadata": {},
   "outputs": [],
   "source": [
    "# number of overdues 6, 12 months\n",
    "# overdue amount past 6, 12 months\n",
    "# total sanction amount of ongoing loans\n",
    "# highest sanction amount of ongoing loans\n",
    "# total number of ongoing loans\n",
    "# total emi amount of current ongoing loans\n",
    "# number of settlements past 6, 12 months\n",
    "# total current balance of ongoing loans"
   ]
  },
  {
   "cell_type": "code",
   "execution_count": 76,
   "id": "454ddaf7",
   "metadata": {},
   "outputs": [],
   "source": [
    "import os\n",
    "import numpy as np\n",
    "import pandas as pd\n",
    "import datetime\n",
    "from datetime import datetime as dt\n",
    "\n",
    "#path = r\"C://Users/Alok169231/Downloads/project_new/project_new-master/\""
   ]
  },
  {
   "cell_type": "code",
   "execution_count": 77,
   "id": "13847931",
   "metadata": {},
   "outputs": [],
   "source": [
    "tempdf = pd.read_csv(\"loan_type_sec_unsec.csv\")"
   ]
  },
  {
   "cell_type": "code",
   "execution_count": 78,
   "id": "5b65ac8f",
   "metadata": {},
   "outputs": [],
   "source": [
    "df = tempdf.copy()\n",
    "df = df[df['cibil__user'].notnull()]\n",
    "df['cibil__user'] = df['cibil__user'].astype(int).astype(object)\n",
    "\n",
    "# overdue logic\n",
    "last_day = dt(2021,9,30)\n",
    "date_in_past = last_day - datetime.timedelta(days=365)\n",
    "df.closed_date = pd.to_datetime(df.closed_date)\n",
    "\n",
    "def overdue(row, date_in_past): # date_in_past can be anytime in past i.e. 6, 12, 18, 24, 30, 36 months or even more.\n",
    "    try:\n",
    "        if pd.isnull(row.closed_date) or (row.closed_date >= date_in_past):\n",
    "            if row.overdue !=0:\n",
    "                return 1\n",
    "    except:\n",
    "        print(\"Exception Raised !\")\n",
    "    return 0\n",
    "\n",
    "df['overdue_12month'] = df.apply(lambda row: overdue(row, date_in_past), axis=1)\n",
    "df = df.groupby('cibil__user').apply(lambda row: pd.Series(dict(\n",
    "    overdue_amount_ongoing = row[row.overdue_12month == 1].overdue.sum(),\n",
    "    overdue_number_ongoing = row[row.overdue_12month == 1].overdue_12month.sum(),\n",
    "    funded_amount_ongoing = row[pd.isnull(row.closed_date)].sanctioned.sum(),\n",
    "    highest_fundamt_ongoing = row[pd.isnull(row.closed_date)].sanctioned.max(),\n",
    "    total_loans_ongoing = row[pd.isnull(row.closed_date)&(row.current_balance>0)].cibil__user.count(),\n",
    "    total_emi_ongoing = row[pd.isnull(row.closed_date)].emi_amount.sum(),\n",
    "    total_current_due_ongoing = row[pd.isnull(row.closed_date)].current_balance.sum(),\n",
    "    settle_12month = row[pd.isnull(row.closed_date)|(row.closed_date>=date_in_past)].settled.sum()\n",
    ")))"
   ]
  },
  {
   "cell_type": "code",
   "execution_count": 81,
   "id": "253a7e95",
   "metadata": {},
   "outputs": [],
   "source": [
    "df = df.reset_index()"
   ]
  },
  {
   "cell_type": "code",
   "execution_count": 83,
   "id": "a12ccf9d",
   "metadata": {},
   "outputs": [],
   "source": [
    "df.to_csv(\"loan_type_derived_feature.csv\",index=False)"
   ]
  },
  {
   "cell_type": "code",
   "execution_count": null,
   "id": "b9514458",
   "metadata": {},
   "outputs": [],
   "source": []
  }
 ],
 "metadata": {
  "kernelspec": {
   "display_name": "Python 3 (ipykernel)",
   "language": "python",
   "name": "python3"
  },
  "language_info": {
   "codemirror_mode": {
    "name": "ipython",
    "version": 3
   },
   "file_extension": ".py",
   "mimetype": "text/x-python",
   "name": "python",
   "nbconvert_exporter": "python",
   "pygments_lexer": "ipython3",
   "version": "3.9.7"
  }
 },
 "nbformat": 4,
 "nbformat_minor": 5
}
