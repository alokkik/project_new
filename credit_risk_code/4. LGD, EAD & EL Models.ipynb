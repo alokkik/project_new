{
 "cells": [
  {
   "cell_type": "markdown",
   "metadata": {},
   "source": [
    "\n",
    " ## Introduction\n",
    " \n",
    "LGD is the percentage of the exposure that was lost after the borrower defaulted. It is percent of exposure that is not recovered. It means :\n",
    "\n",
    "    LGD = 1 - recovery rate\n",
    "\n",
    "EAD is the amount of exposure at the moment borrower defaulted. It's the max amount a bank may lose when borrower defaults. \n",
    "    \n",
    "    EAD = Total Amount Funded * Credit Conversion Factor\n",
    "\n",
    "Credit Conversion Factor (CCF) is the proportion of total exposure at the moment of default. 'Total recovered principal' reflects the total payments made on the princiapl of the loan. CCF is the proportion of the original amount of the loan that is still outstanding when the borrower defaulted.\n",
    "    \n",
    "    CCF = (Credit Amount - Recovered Principle)/Credit Amount\n",
    "\n",
    "Dependent Variables in\n",
    "\n",
    "    Recovery rate is dependent variable in LGD models. \n",
    "    CCF is dependent variable in EAD models. \n",
    "    Both Recovery rate and CCF have range between 0-1.\n",
    "\n",
    "LGD and EAD are calculated only for defaulted cases and not for non-default cases.\n",
    "\n",
    "    EAD = CCF * Funded Amount\n",
    "    EL = PD * LGD * EAD\n",
    "\n"
   ]
  },
  {
   "cell_type": "markdown",
   "metadata": {},
   "source": [
    "# LGD, EAD & EL Models\n",
    "\n",
    "Topics Covered Here\n",
    "    1. Loading the Libraries & Dataset\n",
    "    2. Data Summary\n",
    "    3. Data Visualization\n",
    "    4. Missing Value Treatment\n",
    "    5. Dependent Variables\n",
    "    6. Explore Dependent Variables Visually\n",
    "    7. LGD Model\n",
    "        A- Stage1- Logistic Regression\n",
    "        B- Stage2- Linear Regression\n",
    "        C- Combining Both Steps\n",
    "    8. EAD Model\n",
    "\n",
    "\n"
   ]
  },
  {
   "cell_type": "markdown",
   "metadata": {},
   "source": [
    "## 1. Loading the Libraries & Dataset"
   ]
  },
  {
   "cell_type": "code",
   "execution_count": 1,
   "metadata": {},
   "outputs": [
    {
     "data": {
      "text/plain": [
       "'C:\\\\Users\\\\sohai\\\\Desktop\\\\My Personal\\\\1. FinTech\\\\Stephanie\\\\Credit Risk'"
      ]
     },
     "execution_count": 1,
     "metadata": {},
     "output_type": "execute_result"
    },
    {
     "data": {
      "text/plain": [
       "<Figure size 864x576 with 0 Axes>"
      ]
     },
     "metadata": {},
     "output_type": "display_data"
    }
   ],
   "source": [
    "#import some necessary librairies\n",
    "\n",
    "import os\n",
    "import pandas as pd\n",
    "import numpy as np\n",
    "import seaborn as sns\n",
    "import matplotlib.pyplot as plt\n",
    "\n",
    "%matplotlib inline\n",
    "\n",
    "color = sns.color_palette()\n",
    "sns.set_style('darkgrid')\n",
    "plt.figure(figsize=(12,8))\n",
    "\n",
    "import warnings\n",
    "warnings.filterwarnings('ignore')\n",
    "\n",
    "pd.set_option('display.float_format', lambda x: '{:.2f}'.format(x)) #Limiting floats output to 3 decimal points\n",
    "os.getcwd()"
   ]
  },
  {
   "cell_type": "code",
   "execution_count": 2,
   "metadata": {},
   "outputs": [
    {
     "name": "stdout",
     "output_type": "stream",
     "text": [
      "C:\\Users\\sohai\\Desktop\\My Personal\\1. FinTech\\Stephanie\\Credit Risk\n",
      "['.ipynb_checkpoints', '3.A- Binning of Variables.ipynb', '3.B- PD & Scorecard Model.ipynb', '3.C- Population Stability Index.ipynb', '4. LGD, EAD & EL Models.ipynb', 'German binned_data.xlsx', 'German Credit Data.xlsx', 'German Credit Final CRM.xlsx', 'lgd_model_stage_2.sav', 'pd_model.sav', 'reg_lgd.sav', 'scorecard values.xlsx', 'Test Set Score.csv']\n"
     ]
    }
   ],
   "source": [
    "#Change the working directory\n",
    "%cd \"C:\\Users\\sohai\\Desktop\\My Personal\\1. FinTech\\Stephanie\\Credit Risk\"\n",
    "print(os.listdir())"
   ]
  },
  {
   "cell_type": "code",
   "execution_count": 3,
   "metadata": {},
   "outputs": [],
   "source": [
    "#Now let's import and put the train and test datasets in  pandas dataframe\n",
    "\n",
    "#df = pd.read_excel(\"German Credit Data.xlsx\", sheet_name= 'input', date_parser=True)\n",
    "#df.head(3)"
   ]
  },
  {
   "cell_type": "code",
   "execution_count": 4,
   "metadata": {},
   "outputs": [
    {
     "data": {
      "text/html": [
       "<div>\n",
       "<style scoped>\n",
       "    .dataframe tbody tr th:only-of-type {\n",
       "        vertical-align: middle;\n",
       "    }\n",
       "\n",
       "    .dataframe tbody tr th {\n",
       "        vertical-align: top;\n",
       "    }\n",
       "\n",
       "    .dataframe thead th {\n",
       "        text-align: right;\n",
       "    }\n",
       "</style>\n",
       "<table border=\"1\" class=\"dataframe\">\n",
       "  <thead>\n",
       "    <tr style=\"text-align: right;\">\n",
       "      <th></th>\n",
       "      <th>Age</th>\n",
       "      <th>Sex</th>\n",
       "      <th>Job</th>\n",
       "      <th>Housing</th>\n",
       "      <th>Saving accounts</th>\n",
       "      <th>Checking account</th>\n",
       "      <th>Duration</th>\n",
       "      <th>Purpose</th>\n",
       "      <th>Risk</th>\n",
       "      <th>Credit amount</th>\n",
       "      <th>Recovered_Principle</th>\n",
       "      <th>Recoveries</th>\n",
       "    </tr>\n",
       "  </thead>\n",
       "  <tbody>\n",
       "    <tr>\n",
       "      <th>0</th>\n",
       "      <td>67</td>\n",
       "      <td>male</td>\n",
       "      <td>2</td>\n",
       "      <td>own</td>\n",
       "      <td>NaN</td>\n",
       "      <td>little</td>\n",
       "      <td>6</td>\n",
       "      <td>radio/TV</td>\n",
       "      <td>good</td>\n",
       "      <td>17000</td>\n",
       "      <td>17000.00</td>\n",
       "      <td>0.00</td>\n",
       "    </tr>\n",
       "    <tr>\n",
       "      <th>1</th>\n",
       "      <td>22</td>\n",
       "      <td>female</td>\n",
       "      <td>2</td>\n",
       "      <td>own</td>\n",
       "      <td>little</td>\n",
       "      <td>moderate</td>\n",
       "      <td>48</td>\n",
       "      <td>radio/TV</td>\n",
       "      <td>bad</td>\n",
       "      <td>11000</td>\n",
       "      <td>9942.67</td>\n",
       "      <td>0.00</td>\n",
       "    </tr>\n",
       "    <tr>\n",
       "      <th>2</th>\n",
       "      <td>49</td>\n",
       "      <td>male</td>\n",
       "      <td>1</td>\n",
       "      <td>own</td>\n",
       "      <td>little</td>\n",
       "      <td>NaN</td>\n",
       "      <td>12</td>\n",
       "      <td>education</td>\n",
       "      <td>good</td>\n",
       "      <td>32200</td>\n",
       "      <td>32200.00</td>\n",
       "      <td>0.00</td>\n",
       "    </tr>\n",
       "    <tr>\n",
       "      <th>3</th>\n",
       "      <td>45</td>\n",
       "      <td>male</td>\n",
       "      <td>2</td>\n",
       "      <td>free</td>\n",
       "      <td>little</td>\n",
       "      <td>little</td>\n",
       "      <td>42</td>\n",
       "      <td>furniture/equipment</td>\n",
       "      <td>good</td>\n",
       "      <td>12000</td>\n",
       "      <td>12000.00</td>\n",
       "      <td>0.00</td>\n",
       "    </tr>\n",
       "  </tbody>\n",
       "</table>\n",
       "</div>"
      ],
      "text/plain": [
       "   Age     Sex  Job Housing Saving accounts Checking account  Duration  \\\n",
       "0   67    male    2     own             NaN           little         6   \n",
       "1   22  female    2     own          little         moderate        48   \n",
       "2   49    male    1     own          little              NaN        12   \n",
       "3   45    male    2    free          little           little        42   \n",
       "\n",
       "               Purpose  Risk  Credit amount  Recovered_Principle  Recoveries  \n",
       "0             radio/TV  good          17000             17000.00        0.00  \n",
       "1             radio/TV   bad          11000              9942.67        0.00  \n",
       "2            education  good          32200             32200.00        0.00  \n",
       "3  furniture/equipment  good          12000             12000.00        0.00  "
      ]
     },
     "execution_count": 4,
     "metadata": {},
     "output_type": "execute_result"
    }
   ],
   "source": [
    "df = 'https://raw.githubusercontent.com/TheJuniorLebowski/Data/master/German%20Credit%20Data.csv'\n",
    "\n",
    "\n",
    "# Since it has both CRM training data and PSI data, we only need CRM training data.\n",
    "df = pd.read_csv(df)\n",
    "df = df[df['type']== 'CRM Data']\n",
    "df = df.drop(['type'], axis=1)\n",
    "df.head(4)"
   ]
  },
  {
   "cell_type": "markdown",
   "metadata": {},
   "source": [
    "Variables Description\n",
    "\n",
    "    1. Age (numeric)\n",
    "    2. Sex (text: male, female)\n",
    "    3. Job (numeric: 0 - unskilled and non-resident, 1 - unskilled and resident, 2 - skilled, 3 - highly skilled)\n",
    "    4. Housing (text: own, rent, or free)\n",
    "    5. Saving accounts (text - little, moderate, quite rich, rich)\n",
    "    6. Checking account (numeric, in DM - Deutsch Mark)\n",
    "    7. Duration (numeric, in month)\n",
    "    8. Purpose (text: car, furniture/equipment, radio/TV, domestic appliances, repairs, education, business, vacation/others)\n",
    "    9. Risk (good or bad. bad means default. Dependent Variable)\n",
    "    10. Credit amount (numeric, in DM)\n",
    "    11. Recovered Principle- Amount of Princeiple recovred from bad cases\n",
    "    12. Recoveries- Total recoveries made from bad cases\n",
    "    \n",
    "\n"
   ]
  },
  {
   "cell_type": "markdown",
   "metadata": {},
   "source": [
    "## 2. Data Summary"
   ]
  },
  {
   "cell_type": "markdown",
   "metadata": {},
   "source": [
    "As we can see below, summary is shown only for numeric variables"
   ]
  },
  {
   "cell_type": "code",
   "execution_count": 5,
   "metadata": {},
   "outputs": [
    {
     "data": {
      "text/html": [
       "<div>\n",
       "<style scoped>\n",
       "    .dataframe tbody tr th:only-of-type {\n",
       "        vertical-align: middle;\n",
       "    }\n",
       "\n",
       "    .dataframe tbody tr th {\n",
       "        vertical-align: top;\n",
       "    }\n",
       "\n",
       "    .dataframe thead th {\n",
       "        text-align: right;\n",
       "    }\n",
       "</style>\n",
       "<table border=\"1\" class=\"dataframe\">\n",
       "  <thead>\n",
       "    <tr style=\"text-align: right;\">\n",
       "      <th></th>\n",
       "      <th>count</th>\n",
       "      <th>mean</th>\n",
       "      <th>std</th>\n",
       "      <th>min</th>\n",
       "      <th>25%</th>\n",
       "      <th>50%</th>\n",
       "      <th>75%</th>\n",
       "      <th>max</th>\n",
       "    </tr>\n",
       "  </thead>\n",
       "  <tbody>\n",
       "    <tr>\n",
       "      <th>Age</th>\n",
       "      <td>901.00</td>\n",
       "      <td>35.55</td>\n",
       "      <td>11.46</td>\n",
       "      <td>19.00</td>\n",
       "      <td>27.00</td>\n",
       "      <td>33.00</td>\n",
       "      <td>42.00</td>\n",
       "      <td>75.00</td>\n",
       "    </tr>\n",
       "    <tr>\n",
       "      <th>Job</th>\n",
       "      <td>901.00</td>\n",
       "      <td>1.90</td>\n",
       "      <td>0.65</td>\n",
       "      <td>0.00</td>\n",
       "      <td>2.00</td>\n",
       "      <td>2.00</td>\n",
       "      <td>2.00</td>\n",
       "      <td>3.00</td>\n",
       "    </tr>\n",
       "    <tr>\n",
       "      <th>Duration</th>\n",
       "      <td>901.00</td>\n",
       "      <td>20.72</td>\n",
       "      <td>12.01</td>\n",
       "      <td>4.00</td>\n",
       "      <td>12.00</td>\n",
       "      <td>18.00</td>\n",
       "      <td>24.00</td>\n",
       "      <td>72.00</td>\n",
       "    </tr>\n",
       "    <tr>\n",
       "      <th>Credit amount</th>\n",
       "      <td>901.00</td>\n",
       "      <td>14001.05</td>\n",
       "      <td>8391.89</td>\n",
       "      <td>1000.00</td>\n",
       "      <td>7200.00</td>\n",
       "      <td>12000.00</td>\n",
       "      <td>20000.00</td>\n",
       "      <td>35000.00</td>\n",
       "    </tr>\n",
       "    <tr>\n",
       "      <th>Recovered_Principle</th>\n",
       "      <td>901.00</td>\n",
       "      <td>9971.30</td>\n",
       "      <td>9698.99</td>\n",
       "      <td>0.00</td>\n",
       "      <td>708.24</td>\n",
       "      <td>8000.00</td>\n",
       "      <td>15450.00</td>\n",
       "      <td>35000.00</td>\n",
       "    </tr>\n",
       "    <tr>\n",
       "      <th>Recoveries</th>\n",
       "      <td>901.00</td>\n",
       "      <td>511.83</td>\n",
       "      <td>1162.37</td>\n",
       "      <td>0.00</td>\n",
       "      <td>0.00</td>\n",
       "      <td>0.00</td>\n",
       "      <td>0.00</td>\n",
       "      <td>5201.51</td>\n",
       "    </tr>\n",
       "  </tbody>\n",
       "</table>\n",
       "</div>"
      ],
      "text/plain": [
       "                     count     mean     std     min     25%      50%      75%  \\\n",
       "Age                 901.00    35.55   11.46   19.00   27.00    33.00    42.00   \n",
       "Job                 901.00     1.90    0.65    0.00    2.00     2.00     2.00   \n",
       "Duration            901.00    20.72   12.01    4.00   12.00    18.00    24.00   \n",
       "Credit amount       901.00 14001.05 8391.89 1000.00 7200.00 12000.00 20000.00   \n",
       "Recovered_Principle 901.00  9971.30 9698.99    0.00  708.24  8000.00 15450.00   \n",
       "Recoveries          901.00   511.83 1162.37    0.00    0.00     0.00     0.00   \n",
       "\n",
       "                         max  \n",
       "Age                    75.00  \n",
       "Job                     3.00  \n",
       "Duration               72.00  \n",
       "Credit amount       35000.00  \n",
       "Recovered_Principle 35000.00  \n",
       "Recoveries           5201.51  "
      ]
     },
     "execution_count": 5,
     "metadata": {},
     "output_type": "execute_result"
    }
   ],
   "source": [
    "# Summary of numerica variables\n",
    "df.describe().T"
   ]
  },
  {
   "cell_type": "code",
   "execution_count": 6,
   "metadata": {},
   "outputs": [
    {
     "data": {
      "text/plain": [
       "(901, 12)"
      ]
     },
     "execution_count": 6,
     "metadata": {},
     "output_type": "execute_result"
    }
   ],
   "source": [
    "df.shape"
   ]
  },
  {
   "cell_type": "markdown",
   "metadata": {},
   "source": [
    "There are numeric as well categorical variables. We would have to convert the categorical variables into numeric using one hot encoding to train the model. We do this later on. Let's analyze the data 1st"
   ]
  },
  {
   "cell_type": "code",
   "execution_count": 7,
   "metadata": {},
   "outputs": [
    {
     "name": "stdout",
     "output_type": "stream",
     "text": [
      "<class 'pandas.core.frame.DataFrame'>\n",
      "Int64Index: 901 entries, 0 to 900\n",
      "Data columns (total 12 columns):\n",
      " #   Column               Non-Null Count  Dtype  \n",
      "---  ------               --------------  -----  \n",
      " 0   Age                  901 non-null    int64  \n",
      " 1   Sex                  901 non-null    object \n",
      " 2   Job                  901 non-null    int64  \n",
      " 3   Housing              901 non-null    object \n",
      " 4   Saving accounts      738 non-null    object \n",
      " 5   Checking account     545 non-null    object \n",
      " 6   Duration             901 non-null    int64  \n",
      " 7   Purpose              901 non-null    object \n",
      " 8   Risk                 901 non-null    object \n",
      " 9   Credit amount        901 non-null    int64  \n",
      " 10  Recovered_Principle  901 non-null    float64\n",
      " 11  Recoveries           901 non-null    float64\n",
      "dtypes: float64(2), int64(4), object(6)\n",
      "memory usage: 91.5+ KB\n"
     ]
    }
   ],
   "source": [
    "df.info()"
   ]
  },
  {
   "cell_type": "markdown",
   "metadata": {},
   "source": [
    "## 3. Data Visualization"
   ]
  },
  {
   "cell_type": "markdown",
   "metadata": {},
   "source": [
    "Correlation is defined as linear relationship between two random variables. It's fine an independent and dependent having significant. \n",
    "\n",
    "Correlation between independent variables (aka multi-collinearity) is problematic because it undermines the statistical significance of an independent variable. Other things being equal, the larger the standard error of a regression coefficient, the less likely it is that this coefficient will be statistically significant. \n",
    "\n",
    "We can remove features with significant correlation. In this notebook, we remove the unnecessary and variables with high correlation in feature selection step"
   ]
  },
  {
   "cell_type": "code",
   "execution_count": 8,
   "metadata": {},
   "outputs": [
    {
     "data": {
      "image/png": "[encoded data removed]",
      "text/plain": [
       "<Figure size 864x576 with 2 Axes>"
      ]
     },
     "metadata": {},
     "output_type": "display_data"
    }
   ],
   "source": [
    "# Correlation matrix\n",
    "plt.figure(figsize=(12,8))\n",
    "cmap = sns.diverging_palette(230, 20, as_cmap=True)\n",
    "sns.heatmap(df.corr(),annot=True,fmt='.2f',cmap=cmap ) \n",
    "plt.show()"
   ]
  },
  {
   "cell_type": "code",
   "execution_count": 9,
   "metadata": {},
   "outputs": [
    {
     "data": {
      "text/html": [
       "<div>\n",
       "<style scoped>\n",
       "    .dataframe tbody tr th:only-of-type {\n",
       "        vertical-align: middle;\n",
       "    }\n",
       "\n",
       "    .dataframe tbody tr th {\n",
       "        vertical-align: top;\n",
       "    }\n",
       "\n",
       "    .dataframe thead th {\n",
       "        text-align: right;\n",
       "    }\n",
       "</style>\n",
       "<table border=\"1\" class=\"dataframe\">\n",
       "  <thead>\n",
       "    <tr style=\"text-align: right;\">\n",
       "      <th></th>\n",
       "      <th>Age</th>\n",
       "      <th>Job</th>\n",
       "      <th>Duration</th>\n",
       "      <th>Credit amount</th>\n",
       "      <th>Recovered_Principle</th>\n",
       "      <th>Recoveries</th>\n",
       "    </tr>\n",
       "  </thead>\n",
       "  <tbody>\n",
       "    <tr>\n",
       "      <th>Age</th>\n",
       "      <td>1.00</td>\n",
       "      <td>0.01</td>\n",
       "      <td>-0.03</td>\n",
       "      <td>0.11</td>\n",
       "      <td>0.11</td>\n",
       "      <td>-0.04</td>\n",
       "    </tr>\n",
       "    <tr>\n",
       "      <th>Job</th>\n",
       "      <td>0.01</td>\n",
       "      <td>1.00</td>\n",
       "      <td>0.21</td>\n",
       "      <td>0.02</td>\n",
       "      <td>-0.03</td>\n",
       "      <td>0.08</td>\n",
       "    </tr>\n",
       "    <tr>\n",
       "      <th>Duration</th>\n",
       "      <td>-0.03</td>\n",
       "      <td>0.21</td>\n",
       "      <td>1.00</td>\n",
       "      <td>0.01</td>\n",
       "      <td>-0.14</td>\n",
       "      <td>0.17</td>\n",
       "    </tr>\n",
       "    <tr>\n",
       "      <th>Credit amount</th>\n",
       "      <td>0.11</td>\n",
       "      <td>0.02</td>\n",
       "      <td>0.01</td>\n",
       "      <td>1.00</td>\n",
       "      <td>0.69</td>\n",
       "      <td>0.16</td>\n",
       "    </tr>\n",
       "    <tr>\n",
       "      <th>Recovered_Principle</th>\n",
       "      <td>0.11</td>\n",
       "      <td>-0.03</td>\n",
       "      <td>-0.14</td>\n",
       "      <td>0.69</td>\n",
       "      <td>1.00</td>\n",
       "      <td>-0.43</td>\n",
       "    </tr>\n",
       "    <tr>\n",
       "      <th>Recoveries</th>\n",
       "      <td>-0.04</td>\n",
       "      <td>0.08</td>\n",
       "      <td>0.17</td>\n",
       "      <td>0.16</td>\n",
       "      <td>-0.43</td>\n",
       "      <td>1.00</td>\n",
       "    </tr>\n",
       "  </tbody>\n",
       "</table>\n",
       "</div>"
      ],
      "text/plain": [
       "                      Age   Job  Duration  Credit amount  Recovered_Principle  \\\n",
       "Age                  1.00  0.01     -0.03           0.11                 0.11   \n",
       "Job                  0.01  1.00      0.21           0.02                -0.03   \n",
       "Duration            -0.03  0.21      1.00           0.01                -0.14   \n",
       "Credit amount        0.11  0.02      0.01           1.00                 0.69   \n",
       "Recovered_Principle  0.11 -0.03     -0.14           0.69                 1.00   \n",
       "Recoveries          -0.04  0.08      0.17           0.16                -0.43   \n",
       "\n",
       "                     Recoveries  \n",
       "Age                       -0.04  \n",
       "Job                        0.08  \n",
       "Duration                   0.17  \n",
       "Credit amount              0.16  \n",
       "Recovered_Principle       -0.43  \n",
       "Recoveries                 1.00  "
      ]
     },
     "execution_count": 9,
     "metadata": {},
     "output_type": "execute_result"
    }
   ],
   "source": [
    "# Correlation values\n",
    "df.corr()"
   ]
  },
  {
   "cell_type": "markdown",
   "metadata": {},
   "source": [
    "\n",
    "\n",
    "LGD and EAD can be get only for borrowers that defaulted. Hence, it wouldnt be a good idea to keep all the borrowers in the dataset.\n",
    "\n",
    "It's not a good idea to keep all the defaulted borrowers for LGD and EAD calculation. THis is because, after a borrower has defaulted, she can still make the payment. Therefore, when building LGD & EAD models, it's a good practice to build models with data from borrowers that have had enough time to repay part of the remaining debt\n",
    "\n",
    "In our dataset, these are only the accounts that were written-off, their loan status is 'charged-off' and 'Does not meet the credit policy. Status:Charged-off'\n"
   ]
  },
  {
   "cell_type": "code",
   "execution_count": 10,
   "metadata": {},
   "outputs": [
    {
     "data": {
      "text/html": [
       "<div>\n",
       "<style scoped>\n",
       "    .dataframe tbody tr th:only-of-type {\n",
       "        vertical-align: middle;\n",
       "    }\n",
       "\n",
       "    .dataframe tbody tr th {\n",
       "        vertical-align: top;\n",
       "    }\n",
       "\n",
       "    .dataframe thead th {\n",
       "        text-align: right;\n",
       "    }\n",
       "</style>\n",
       "<table border=\"1\" class=\"dataframe\">\n",
       "  <thead>\n",
       "    <tr style=\"text-align: right;\">\n",
       "      <th></th>\n",
       "      <th>Age</th>\n",
       "      <th>Sex</th>\n",
       "      <th>Job</th>\n",
       "      <th>Housing</th>\n",
       "      <th>Saving accounts</th>\n",
       "      <th>Checking account</th>\n",
       "      <th>Duration</th>\n",
       "      <th>Purpose</th>\n",
       "      <th>Risk</th>\n",
       "      <th>Credit amount</th>\n",
       "      <th>Recovered_Principle</th>\n",
       "      <th>Recoveries</th>\n",
       "    </tr>\n",
       "  </thead>\n",
       "  <tbody>\n",
       "    <tr>\n",
       "      <th>1</th>\n",
       "      <td>22</td>\n",
       "      <td>female</td>\n",
       "      <td>2</td>\n",
       "      <td>own</td>\n",
       "      <td>little</td>\n",
       "      <td>moderate</td>\n",
       "      <td>48</td>\n",
       "      <td>radio/TV</td>\n",
       "      <td>bad</td>\n",
       "      <td>11000</td>\n",
       "      <td>9942.67</td>\n",
       "      <td>0.00</td>\n",
       "    </tr>\n",
       "    <tr>\n",
       "      <th>4</th>\n",
       "      <td>53</td>\n",
       "      <td>male</td>\n",
       "      <td>2</td>\n",
       "      <td>free</td>\n",
       "      <td>little</td>\n",
       "      <td>little</td>\n",
       "      <td>24</td>\n",
       "      <td>car</td>\n",
       "      <td>bad</td>\n",
       "      <td>7000</td>\n",
       "      <td>167.56</td>\n",
       "      <td>0.00</td>\n",
       "    </tr>\n",
       "    <tr>\n",
       "      <th>9</th>\n",
       "      <td>28</td>\n",
       "      <td>male</td>\n",
       "      <td>3</td>\n",
       "      <td>own</td>\n",
       "      <td>little</td>\n",
       "      <td>moderate</td>\n",
       "      <td>30</td>\n",
       "      <td>car</td>\n",
       "      <td>bad</td>\n",
       "      <td>10000</td>\n",
       "      <td>235.76</td>\n",
       "      <td>0.00</td>\n",
       "    </tr>\n",
       "  </tbody>\n",
       "</table>\n",
       "</div>"
      ],
      "text/plain": [
       "   Age     Sex  Job Housing Saving accounts Checking account  Duration  \\\n",
       "1   22  female    2     own          little         moderate        48   \n",
       "4   53    male    2    free          little           little        24   \n",
       "9   28    male    3     own          little         moderate        30   \n",
       "\n",
       "    Purpose Risk  Credit amount  Recovered_Principle  Recoveries  \n",
       "1  radio/TV  bad          11000              9942.67        0.00  \n",
       "4       car  bad           7000               167.56        0.00  \n",
       "9       car  bad          10000               235.76        0.00  "
      ]
     },
     "execution_count": 10,
     "metadata": {},
     "output_type": "execute_result"
    }
   ],
   "source": [
    "# Here we take only the accounts that were charged-off (written-off)\n",
    "df1 = df[df['Risk'].isin(['bad'])]\n",
    "df1.head(3)"
   ]
  },
  {
   "cell_type": "markdown",
   "metadata": {},
   "source": [
    "## 4. Missing Value Treatment\n",
    "\n",
    "    1. We delete any variable which has more than 20% of the observations as missing value. We already did this \n",
    "    2. We replace the missing value of a numeric variable with its median values\n",
    "    3. We replace the missing value of a categorical variable with its modal values\n",
    "\n",
    "    "
   ]
  },
  {
   "cell_type": "code",
   "execution_count": 11,
   "metadata": {},
   "outputs": [
    {
     "data": {
      "text/html": [
       "<div>\n",
       "<style scoped>\n",
       "    .dataframe tbody tr th:only-of-type {\n",
       "        vertical-align: middle;\n",
       "    }\n",
       "\n",
       "    .dataframe tbody tr th {\n",
       "        vertical-align: top;\n",
       "    }\n",
       "\n",
       "    .dataframe thead th {\n",
       "        text-align: right;\n",
       "    }\n",
       "</style>\n",
       "<table border=\"1\" class=\"dataframe\">\n",
       "  <thead>\n",
       "    <tr style=\"text-align: right;\">\n",
       "      <th></th>\n",
       "      <th>Total Missing</th>\n",
       "      <th>Percent Missing</th>\n",
       "    </tr>\n",
       "  </thead>\n",
       "  <tbody>\n",
       "    <tr>\n",
       "      <th>Checking account</th>\n",
       "      <td>356</td>\n",
       "      <td>0.40</td>\n",
       "    </tr>\n",
       "    <tr>\n",
       "      <th>Saving accounts</th>\n",
       "      <td>163</td>\n",
       "      <td>0.18</td>\n",
       "    </tr>\n",
       "    <tr>\n",
       "      <th>Recoveries</th>\n",
       "      <td>0</td>\n",
       "      <td>0.00</td>\n",
       "    </tr>\n",
       "    <tr>\n",
       "      <th>Recovered_Principle</th>\n",
       "      <td>0</td>\n",
       "      <td>0.00</td>\n",
       "    </tr>\n",
       "    <tr>\n",
       "      <th>Credit amount</th>\n",
       "      <td>0</td>\n",
       "      <td>0.00</td>\n",
       "    </tr>\n",
       "    <tr>\n",
       "      <th>Risk</th>\n",
       "      <td>0</td>\n",
       "      <td>0.00</td>\n",
       "    </tr>\n",
       "    <tr>\n",
       "      <th>Purpose</th>\n",
       "      <td>0</td>\n",
       "      <td>0.00</td>\n",
       "    </tr>\n",
       "    <tr>\n",
       "      <th>Duration</th>\n",
       "      <td>0</td>\n",
       "      <td>0.00</td>\n",
       "    </tr>\n",
       "    <tr>\n",
       "      <th>Housing</th>\n",
       "      <td>0</td>\n",
       "      <td>0.00</td>\n",
       "    </tr>\n",
       "    <tr>\n",
       "      <th>Job</th>\n",
       "      <td>0</td>\n",
       "      <td>0.00</td>\n",
       "    </tr>\n",
       "    <tr>\n",
       "      <th>Sex</th>\n",
       "      <td>0</td>\n",
       "      <td>0.00</td>\n",
       "    </tr>\n",
       "    <tr>\n",
       "      <th>Age</th>\n",
       "      <td>0</td>\n",
       "      <td>0.00</td>\n",
       "    </tr>\n",
       "  </tbody>\n",
       "</table>\n",
       "</div>"
      ],
      "text/plain": [
       "                     Total Missing  Percent Missing\n",
       "Checking account               356             0.40\n",
       "Saving accounts                163             0.18\n",
       "Recoveries                       0             0.00\n",
       "Recovered_Principle              0             0.00\n",
       "Credit amount                    0             0.00\n",
       "Risk                             0             0.00\n",
       "Purpose                          0             0.00\n",
       "Duration                         0             0.00\n",
       "Housing                          0             0.00\n",
       "Job                              0             0.00\n",
       "Sex                              0             0.00\n",
       "Age                              0             0.00"
      ]
     },
     "execution_count": 11,
     "metadata": {},
     "output_type": "execute_result"
    }
   ],
   "source": [
    "#missing data\n",
    "total = df.isnull().sum().sort_values(ascending=False)\n",
    "percent = (df.isnull().sum()/df.isnull().count()).sort_values(ascending=False)\n",
    "missing_data = pd.concat([total, percent], axis=1, keys=['Total Missing', 'Percent Missing'])\n",
    "missing_data.head(20)"
   ]
  },
  {
   "cell_type": "code",
   "execution_count": 12,
   "metadata": {},
   "outputs": [],
   "source": [
    "# Delete any variable that has more than 20% of the data as missing. We already did this above\n",
    "#df = df.dropna(thresh=0.8*len(df), axis=1)\n",
    "#df.isnull().sum()"
   ]
  },
  {
   "cell_type": "code",
   "execution_count": 13,
   "metadata": {},
   "outputs": [
    {
     "data": {
      "text/plain": [
       "Age                      0\n",
       "Sex                      0\n",
       "Job                      0\n",
       "Housing                  0\n",
       "Saving accounts        163\n",
       "Checking account       356\n",
       "Duration                 0\n",
       "Purpose                  0\n",
       "Risk                     0\n",
       "Credit amount            0\n",
       "Recovered_Principle      0\n",
       "Recoveries               0\n",
       "dtype: int64"
      ]
     },
     "execution_count": 13,
     "metadata": {},
     "output_type": "execute_result"
    }
   ],
   "source": [
    "# Replace missing values with median in numeric variables\n",
    "for col in df.select_dtypes(include=np.number):\n",
    "    df[col] = df[col].fillna(df[col].median())\n",
    "    \n",
    "\n",
    "df.isnull().sum()"
   ]
  },
  {
   "cell_type": "code",
   "execution_count": 14,
   "metadata": {},
   "outputs": [
    {
     "data": {
      "text/plain": [
       "Age                    0\n",
       "Sex                    0\n",
       "Job                    0\n",
       "Housing                0\n",
       "Saving accounts        0\n",
       "Checking account       0\n",
       "Duration               0\n",
       "Purpose                0\n",
       "Risk                   0\n",
       "Credit amount          0\n",
       "Recovered_Principle    0\n",
       "Recoveries             0\n",
       "dtype: int64"
      ]
     },
     "execution_count": 14,
     "metadata": {},
     "output_type": "execute_result"
    }
   ],
   "source": [
    "# Replace missing values with mode for categorical variables\n",
    "df.fillna(df.select_dtypes(include='object').mode().iloc[0], inplace=True)\n",
    "    \n",
    "\n",
    "df.isnull().sum()"
   ]
  },
  {
   "cell_type": "markdown",
   "metadata": {},
   "source": [
    "\n",
    "## 5. Dependent Variables\n",
    "\n",
    "We need recovery rate. Let's assume that when borrower default the total funded amount was lost. We also have a recoveries column. We divide recoveries by funded amount and get recovery rate. Recovery rate is our dependent variables for LGD model\n"
   ]
  },
  {
   "cell_type": "code",
   "execution_count": 15,
   "metadata": {},
   "outputs": [
    {
     "data": {
      "text/html": [
       "<div>\n",
       "<style scoped>\n",
       "    .dataframe tbody tr th:only-of-type {\n",
       "        vertical-align: middle;\n",
       "    }\n",
       "\n",
       "    .dataframe tbody tr th {\n",
       "        vertical-align: top;\n",
       "    }\n",
       "\n",
       "    .dataframe thead th {\n",
       "        text-align: right;\n",
       "    }\n",
       "</style>\n",
       "<table border=\"1\" class=\"dataframe\">\n",
       "  <thead>\n",
       "    <tr style=\"text-align: right;\">\n",
       "      <th></th>\n",
       "      <th>Age</th>\n",
       "      <th>Sex</th>\n",
       "      <th>Job</th>\n",
       "      <th>Housing</th>\n",
       "      <th>Saving accounts</th>\n",
       "      <th>Checking account</th>\n",
       "      <th>Duration</th>\n",
       "      <th>Purpose</th>\n",
       "      <th>Risk</th>\n",
       "      <th>Credit amount</th>\n",
       "      <th>Recovered_Principle</th>\n",
       "      <th>Recoveries</th>\n",
       "      <th>recovery_rate</th>\n",
       "    </tr>\n",
       "  </thead>\n",
       "  <tbody>\n",
       "    <tr>\n",
       "      <th>1</th>\n",
       "      <td>22</td>\n",
       "      <td>female</td>\n",
       "      <td>2</td>\n",
       "      <td>own</td>\n",
       "      <td>little</td>\n",
       "      <td>moderate</td>\n",
       "      <td>48</td>\n",
       "      <td>radio/TV</td>\n",
       "      <td>bad</td>\n",
       "      <td>11000</td>\n",
       "      <td>9942.67</td>\n",
       "      <td>0.00</td>\n",
       "      <td>0.00</td>\n",
       "    </tr>\n",
       "    <tr>\n",
       "      <th>4</th>\n",
       "      <td>53</td>\n",
       "      <td>male</td>\n",
       "      <td>2</td>\n",
       "      <td>free</td>\n",
       "      <td>little</td>\n",
       "      <td>little</td>\n",
       "      <td>24</td>\n",
       "      <td>car</td>\n",
       "      <td>bad</td>\n",
       "      <td>7000</td>\n",
       "      <td>167.56</td>\n",
       "      <td>0.00</td>\n",
       "      <td>0.00</td>\n",
       "    </tr>\n",
       "    <tr>\n",
       "      <th>9</th>\n",
       "      <td>28</td>\n",
       "      <td>male</td>\n",
       "      <td>3</td>\n",
       "      <td>own</td>\n",
       "      <td>little</td>\n",
       "      <td>moderate</td>\n",
       "      <td>30</td>\n",
       "      <td>car</td>\n",
       "      <td>bad</td>\n",
       "      <td>10000</td>\n",
       "      <td>235.76</td>\n",
       "      <td>0.00</td>\n",
       "      <td>0.00</td>\n",
       "    </tr>\n",
       "  </tbody>\n",
       "</table>\n",
       "</div>"
      ],
      "text/plain": [
       "   Age     Sex  Job Housing Saving accounts Checking account  Duration  \\\n",
       "1   22  female    2     own          little         moderate        48   \n",
       "4   53    male    2    free          little           little        24   \n",
       "9   28    male    3     own          little         moderate        30   \n",
       "\n",
       "    Purpose Risk  Credit amount  Recovered_Principle  Recoveries  \\\n",
       "1  radio/TV  bad          11000              9942.67        0.00   \n",
       "4       car  bad           7000               167.56        0.00   \n",
       "9       car  bad          10000               235.76        0.00   \n",
       "\n",
       "   recovery_rate  \n",
       "1           0.00  \n",
       "4           0.00  \n",
       "9           0.00  "
      ]
     },
     "execution_count": 15,
     "metadata": {},
     "output_type": "execute_result"
    }
   ],
   "source": [
    "df1['recovery_rate'] = df1['Recoveries'] / df1['Credit amount']\n",
    "# We calculate the dependent variable for the LGD model: recovery rate.\n",
    "# It is the ratio of recoveries and funded amount.\n",
    "df1.head(3)\n"
   ]
  },
  {
   "cell_type": "code",
   "execution_count": 16,
   "metadata": {},
   "outputs": [
    {
     "data": {
      "text/plain": [
       "count   269.00\n",
       "mean      0.13\n",
       "std       0.10\n",
       "min       0.00\n",
       "25%       0.00\n",
       "50%       0.17\n",
       "75%       0.18\n",
       "max       0.96\n",
       "Name: recovery_rate, dtype: float64"
      ]
     },
     "execution_count": 16,
     "metadata": {},
     "output_type": "execute_result"
    }
   ],
   "source": [
    "df1['recovery_rate'].describe()\n",
    "# Shows some descriptive statisics for the values of a column.\n",
    "\n"
   ]
  },
  {
   "cell_type": "markdown",
   "metadata": {},
   "source": [
    "Above we see min recovery rate is negative. Max recovery rate is 1.17. This is not possible and seems recoveries might have been incorrectly recorded. Recovery rate at max could be 1 or 100%. Any recovery rate that is greater than 1 would be truncated to 1 and where it isnt, keep the existing values. Any recovery that is lesser than 0 would be truncated to 0 and where it isnt, keep the existing values."
   ]
  },
  {
   "cell_type": "code",
   "execution_count": 17,
   "metadata": {},
   "outputs": [
    {
     "data": {
      "text/plain": [
       "count   269.00\n",
       "mean      0.13\n",
       "std       0.10\n",
       "min       0.00\n",
       "25%       0.00\n",
       "50%       0.17\n",
       "75%       0.18\n",
       "max       0.96\n",
       "Name: recovery_rate, dtype: float64"
      ]
     },
     "execution_count": 17,
     "metadata": {},
     "output_type": "execute_result"
    }
   ],
   "source": [
    "df1['recovery_rate'] = np.where(df1['recovery_rate'] > 1, 1, df1['recovery_rate'])\n",
    "df1['recovery_rate'] = np.where(df1['recovery_rate'] < 0, 0, df1['recovery_rate'])\n",
    "# We set recovery rates that are greater than 1 to 1 and recovery rates that are less than 0 to 0.\n",
    "df1['recovery_rate'].describe()"
   ]
  },
  {
   "cell_type": "markdown",
   "metadata": {},
   "source": [
    "Below, if all is paid, CCF would be zero. if non is paid, then CCF would be 1. We calculate the dependent variable for the EAD model: credit conversion factor. It is the ratio of the difference of the amount used at the moment of default to the total funded amount."
   ]
  },
  {
   "cell_type": "code",
   "execution_count": 18,
   "metadata": {},
   "outputs": [
    {
     "data": {
      "text/plain": [
       "count   269.00\n",
       "mean      0.96\n",
       "std       0.06\n",
       "min       0.10\n",
       "25%       0.95\n",
       "50%       0.97\n",
       "75%       0.99\n",
       "max       1.00\n",
       "Name: CCF, dtype: float64"
      ]
     },
     "execution_count": 18,
     "metadata": {},
     "output_type": "execute_result"
    }
   ],
   "source": [
    "df1['CCF'] = (df1['Credit amount'] - df1['Recovered_Principle']) / df1['Credit amount']\n",
    "df1['CCF'].describe()"
   ]
  },
  {
   "cell_type": "code",
   "execution_count": 19,
   "metadata": {},
   "outputs": [
    {
     "data": {
      "text/plain": [
       "count   269.00\n",
       "mean      0.96\n",
       "std       0.06\n",
       "min       0.10\n",
       "25%       0.95\n",
       "50%       0.97\n",
       "75%       0.99\n",
       "max       1.00\n",
       "Name: CCF, dtype: float64"
      ]
     },
     "execution_count": 19,
     "metadata": {},
     "output_type": "execute_result"
    }
   ],
   "source": [
    "df1['CCF'] = np.where(df1['CCF'] > 1, 1, df1['CCF'])\n",
    "df1['CCF'].describe()"
   ]
  },
  {
   "cell_type": "markdown",
   "metadata": {},
   "source": [
    "## 6. Explore Dependent Variables Visually"
   ]
  },
  {
   "cell_type": "code",
   "execution_count": 20,
   "metadata": {},
   "outputs": [
    {
     "data": {
      "image/png": "[encoded data removed]",
      "text/plain": [
       "<Figure size 432x288 with 1 Axes>"
      ]
     },
     "metadata": {},
     "output_type": "display_data"
    },
    {
     "data": {
      "text/plain": [
       "<Figure size 1296x720 with 0 Axes>"
      ]
     },
     "metadata": {},
     "output_type": "display_data"
    }
   ],
   "source": [
    "plt.hist(df1['recovery_rate'], bins = 100)\n",
    "plt.figure(figsize=(18,10))\n",
    "plt.show()\n",
    "# We plot a histogram of a variable with 100 bins."
   ]
  },
  {
   "cell_type": "markdown",
   "metadata": {},
   "source": [
    "As we can see in below or above graph, amongst defaulted borrowers, half have the recovery rate of 0 and other half have greater than zero. Now, it makes even more sense to model LGD in two steps- 1st predict whether recovery rate is zero. 2nd- if it's not zero, predict the amount lost/recovered"
   ]
  },
  {
   "cell_type": "code",
   "execution_count": 21,
   "metadata": {},
   "outputs": [
    {
     "data": {
      "image/png": "[encoded data removed]",
      "text/plain": [
       "<Figure size 432x288 with 1 Axes>"
      ]
     },
     "metadata": {},
     "output_type": "display_data"
    },
    {
     "data": {
      "text/plain": [
       "<Figure size 1296x720 with 0 Axes>"
      ]
     },
     "metadata": {},
     "output_type": "display_data"
    }
   ],
   "source": [
    "plt.hist(df1['recovery_rate'], bins = 50)\n",
    "plt.figure(figsize=(18,10))\n",
    "plt.show()"
   ]
  },
  {
   "cell_type": "code",
   "execution_count": 22,
   "metadata": {},
   "outputs": [
    {
     "data": {
      "image/png": "[encoded data removed]",
      "text/plain": [
       "<Figure size 432x288 with 1 Axes>"
      ]
     },
     "metadata": {},
     "output_type": "display_data"
    },
    {
     "data": {
      "text/plain": [
       "<Figure size 1296x720 with 0 Axes>"
      ]
     },
     "metadata": {},
     "output_type": "display_data"
    }
   ],
   "source": [
    "plt.hist(df1['CCF'], bins = 50)\n",
    "plt.figure(figsize=(18,10))\n",
    "plt.show()"
   ]
  },
  {
   "cell_type": "markdown",
   "metadata": {},
   "source": [
    "\n",
    "\n",
    "Below we create a binary variables recovery_rate_0_1 which would be zero if the recovery rate is zero and 1 otherwise.\n"
   ]
  },
  {
   "cell_type": "code",
   "execution_count": 23,
   "metadata": {},
   "outputs": [
    {
     "data": {
      "text/plain": [
       "1    191\n",
       "0     78\n",
       "Name: recovery_rate_flag, dtype: int64"
      ]
     },
     "execution_count": 23,
     "metadata": {},
     "output_type": "execute_result"
    }
   ],
   "source": [
    "df1['recovery_rate_flag'] = np.where(df1['recovery_rate'] == 0, 0, 1)\n",
    "# We create a new variable which is 0 if recovery rate is 0 and 1 otherwise.\n",
    "\n",
    "\n",
    "df1['recovery_rate_flag'].value_counts()"
   ]
  },
  {
   "cell_type": "markdown",
   "metadata": {},
   "source": [
    "\n",
    "## 7. LGD Model\n",
    "\n",
    "Generally, beta regression is used for LGD. Beta regression is used if outcomes are strictly greater than zero and strictly lower than 1. However, python doesnt have a library to support beta regression. So, we do LGD in python in two parts\n",
    "\n",
    "    Stage 1- predict whether recovery rate is zero or greater than zero- logistic regression\n",
    "    Stage 2- If recovery rate is not zero then how much is loss given default value- linear regression\n",
    "\n",
    "\n",
    "### Splitting Data"
   ]
  },
  {
   "cell_type": "code",
   "execution_count": 24,
   "metadata": {},
   "outputs": [],
   "source": [
    "from sklearn.model_selection import train_test_split"
   ]
  },
  {
   "cell_type": "code",
   "execution_count": 25,
   "metadata": {},
   "outputs": [
    {
     "data": {
      "text/html": [
       "<div>\n",
       "<style scoped>\n",
       "    .dataframe tbody tr th:only-of-type {\n",
       "        vertical-align: middle;\n",
       "    }\n",
       "\n",
       "    .dataframe tbody tr th {\n",
       "        vertical-align: top;\n",
       "    }\n",
       "\n",
       "    .dataframe thead th {\n",
       "        text-align: right;\n",
       "    }\n",
       "</style>\n",
       "<table border=\"1\" class=\"dataframe\">\n",
       "  <thead>\n",
       "    <tr style=\"text-align: right;\">\n",
       "      <th></th>\n",
       "      <th>Age</th>\n",
       "      <th>Sex</th>\n",
       "      <th>Housing</th>\n",
       "      <th>Saving accounts</th>\n",
       "      <th>Checking account</th>\n",
       "      <th>Duration</th>\n",
       "      <th>recovery_rate_flag</th>\n",
       "    </tr>\n",
       "  </thead>\n",
       "  <tbody>\n",
       "    <tr>\n",
       "      <th>1</th>\n",
       "      <td>22</td>\n",
       "      <td>female</td>\n",
       "      <td>own</td>\n",
       "      <td>little</td>\n",
       "      <td>moderate</td>\n",
       "      <td>48</td>\n",
       "      <td>0</td>\n",
       "    </tr>\n",
       "    <tr>\n",
       "      <th>4</th>\n",
       "      <td>53</td>\n",
       "      <td>male</td>\n",
       "      <td>free</td>\n",
       "      <td>little</td>\n",
       "      <td>little</td>\n",
       "      <td>24</td>\n",
       "      <td>0</td>\n",
       "    </tr>\n",
       "    <tr>\n",
       "      <th>9</th>\n",
       "      <td>28</td>\n",
       "      <td>male</td>\n",
       "      <td>own</td>\n",
       "      <td>little</td>\n",
       "      <td>moderate</td>\n",
       "      <td>30</td>\n",
       "      <td>0</td>\n",
       "    </tr>\n",
       "  </tbody>\n",
       "</table>\n",
       "</div>"
      ],
      "text/plain": [
       "   Age     Sex Housing Saving accounts Checking account  Duration  \\\n",
       "1   22  female     own          little         moderate        48   \n",
       "4   53    male    free          little           little        24   \n",
       "9   28    male     own          little         moderate        30   \n",
       "\n",
       "   recovery_rate_flag  \n",
       "1                   0  \n",
       "4                   0  \n",
       "9                   0  "
      ]
     },
     "execution_count": 25,
     "metadata": {},
     "output_type": "execute_result"
    }
   ],
   "source": [
    "lgd_df = df1.drop(['Job','Risk', 'Recovered_Principle', 'Credit amount', 'Recoveries','Purpose',\n",
    "                   'recovery_rate', 'CCF'], axis=1)\n",
    "\n",
    "\n",
    "lgd_df.head(3)"
   ]
  },
  {
   "cell_type": "code",
   "execution_count": 26,
   "metadata": {},
   "outputs": [
    {
     "data": {
      "text/html": [
       "<div>\n",
       "<style scoped>\n",
       "    .dataframe tbody tr th:only-of-type {\n",
       "        vertical-align: middle;\n",
       "    }\n",
       "\n",
       "    .dataframe tbody tr th {\n",
       "        vertical-align: top;\n",
       "    }\n",
       "\n",
       "    .dataframe thead th {\n",
       "        text-align: right;\n",
       "    }\n",
       "</style>\n",
       "<table border=\"1\" class=\"dataframe\">\n",
       "  <thead>\n",
       "    <tr style=\"text-align: right;\">\n",
       "      <th></th>\n",
       "      <th>Age</th>\n",
       "      <th>Duration</th>\n",
       "      <th>recovery_rate_flag</th>\n",
       "      <th>Sex_female</th>\n",
       "      <th>Sex_male</th>\n",
       "      <th>Housing_free</th>\n",
       "      <th>Housing_own</th>\n",
       "      <th>Housing_rent</th>\n",
       "      <th>Saving accounts_little</th>\n",
       "      <th>Saving accounts_moderate</th>\n",
       "      <th>Saving accounts_quite rich</th>\n",
       "      <th>Saving accounts_rich</th>\n",
       "      <th>Checking account_little</th>\n",
       "      <th>Checking account_moderate</th>\n",
       "      <th>Checking account_rich</th>\n",
       "    </tr>\n",
       "  </thead>\n",
       "  <tbody>\n",
       "    <tr>\n",
       "      <th>1</th>\n",
       "      <td>22</td>\n",
       "      <td>48</td>\n",
       "      <td>0</td>\n",
       "      <td>1</td>\n",
       "      <td>0</td>\n",
       "      <td>0</td>\n",
       "      <td>1</td>\n",
       "      <td>0</td>\n",
       "      <td>1</td>\n",
       "      <td>0</td>\n",
       "      <td>0</td>\n",
       "      <td>0</td>\n",
       "      <td>0</td>\n",
       "      <td>1</td>\n",
       "      <td>0</td>\n",
       "    </tr>\n",
       "    <tr>\n",
       "      <th>4</th>\n",
       "      <td>53</td>\n",
       "      <td>24</td>\n",
       "      <td>0</td>\n",
       "      <td>0</td>\n",
       "      <td>1</td>\n",
       "      <td>1</td>\n",
       "      <td>0</td>\n",
       "      <td>0</td>\n",
       "      <td>1</td>\n",
       "      <td>0</td>\n",
       "      <td>0</td>\n",
       "      <td>0</td>\n",
       "      <td>1</td>\n",
       "      <td>0</td>\n",
       "      <td>0</td>\n",
       "    </tr>\n",
       "    <tr>\n",
       "      <th>9</th>\n",
       "      <td>28</td>\n",
       "      <td>30</td>\n",
       "      <td>0</td>\n",
       "      <td>0</td>\n",
       "      <td>1</td>\n",
       "      <td>0</td>\n",
       "      <td>1</td>\n",
       "      <td>0</td>\n",
       "      <td>1</td>\n",
       "      <td>0</td>\n",
       "      <td>0</td>\n",
       "      <td>0</td>\n",
       "      <td>0</td>\n",
       "      <td>1</td>\n",
       "      <td>0</td>\n",
       "    </tr>\n",
       "  </tbody>\n",
       "</table>\n",
       "</div>"
      ],
      "text/plain": [
       "   Age  Duration  recovery_rate_flag  Sex_female  Sex_male  Housing_free  \\\n",
       "1   22        48                   0           1         0             0   \n",
       "4   53        24                   0           0         1             1   \n",
       "9   28        30                   0           0         1             0   \n",
       "\n",
       "   Housing_own  Housing_rent  Saving accounts_little  \\\n",
       "1            1             0                       1   \n",
       "4            0             0                       1   \n",
       "9            1             0                       1   \n",
       "\n",
       "   Saving accounts_moderate  Saving accounts_quite rich  Saving accounts_rich  \\\n",
       "1                         0                           0                     0   \n",
       "4                         0                           0                     0   \n",
       "9                         0                           0                     0   \n",
       "\n",
       "   Checking account_little  Checking account_moderate  Checking account_rich  \n",
       "1                        0                          1                      0  \n",
       "4                        1                          0                      0  \n",
       "9                        0                          1                      0  "
      ]
     },
     "execution_count": 26,
     "metadata": {},
     "output_type": "execute_result"
    }
   ],
   "source": [
    "lgd_df = pd.get_dummies(lgd_df, columns=['Sex', 'Housing', 'Saving accounts', 'Checking account' ])\n",
    "lgd_df.head(3)"
   ]
  },
  {
   "cell_type": "code",
   "execution_count": 27,
   "metadata": {},
   "outputs": [],
   "source": [
    "ref_categories_lgd = ['Sex_female', 'Housing_free', 'Saving accounts_little',  'Checking account_little']\n"
   ]
  },
  {
   "cell_type": "code",
   "execution_count": 28,
   "metadata": {},
   "outputs": [
    {
     "name": "stdout",
     "output_type": "stream",
     "text": [
      "(269, 14)\n"
     ]
    }
   ],
   "source": [
    "Y = lgd_df.loc[:, 'recovery_rate_flag']\n",
    "lgd_df = lgd_df.drop(['recovery_rate_flag'], axis=1)\n",
    "X = lgd_df\n",
    "print(X.shape)"
   ]
  },
  {
   "cell_type": "code",
   "execution_count": 29,
   "metadata": {},
   "outputs": [
    {
     "name": "stdout",
     "output_type": "stream",
     "text": [
      "X_train : (215, 14)\n",
      "X_test : (54, 14)\n",
      "y_train : (215,)\n",
      "y_test : (54,)\n"
     ]
    }
   ],
   "source": [
    "# Partition the dataset in train + validation sets\n",
    "from sklearn.model_selection import train_test_split\n",
    "\n",
    "X_train, X_test, y_train, y_test = train_test_split(X, Y, test_size = 0.2, random_state = 0)\n",
    "print(\"X_train : \" + str(X_train.shape))\n",
    "print(\"X_test : \" + str(X_test.shape))\n",
    "print(\"y_train : \" + str(y_train.shape))\n",
    "print(\"y_test : \" + str(y_test.shape))\n"
   ]
  },
  {
   "cell_type": "code",
   "execution_count": 30,
   "metadata": {},
   "outputs": [
    {
     "data": {
      "text/html": [
       "<div>\n",
       "<style scoped>\n",
       "    .dataframe tbody tr th:only-of-type {\n",
       "        vertical-align: middle;\n",
       "    }\n",
       "\n",
       "    .dataframe tbody tr th {\n",
       "        vertical-align: top;\n",
       "    }\n",
       "\n",
       "    .dataframe thead th {\n",
       "        text-align: right;\n",
       "    }\n",
       "</style>\n",
       "<table border=\"1\" class=\"dataframe\">\n",
       "  <thead>\n",
       "    <tr style=\"text-align: right;\">\n",
       "      <th></th>\n",
       "      <th>Age</th>\n",
       "      <th>Duration</th>\n",
       "      <th>Sex_male</th>\n",
       "      <th>Housing_own</th>\n",
       "      <th>Housing_rent</th>\n",
       "      <th>Saving accounts_moderate</th>\n",
       "      <th>Saving accounts_quite rich</th>\n",
       "      <th>Saving accounts_rich</th>\n",
       "      <th>Checking account_moderate</th>\n",
       "      <th>Checking account_rich</th>\n",
       "    </tr>\n",
       "  </thead>\n",
       "  <tbody>\n",
       "    <tr>\n",
       "      <th>739</th>\n",
       "      <td>26</td>\n",
       "      <td>30</td>\n",
       "      <td>0</td>\n",
       "      <td>0</td>\n",
       "      <td>1</td>\n",
       "      <td>1</td>\n",
       "      <td>0</td>\n",
       "      <td>0</td>\n",
       "      <td>1</td>\n",
       "      <td>0</td>\n",
       "    </tr>\n",
       "    <tr>\n",
       "      <th>54</th>\n",
       "      <td>57</td>\n",
       "      <td>36</td>\n",
       "      <td>1</td>\n",
       "      <td>0</td>\n",
       "      <td>0</td>\n",
       "      <td>0</td>\n",
       "      <td>0</td>\n",
       "      <td>0</td>\n",
       "      <td>1</td>\n",
       "      <td>0</td>\n",
       "    </tr>\n",
       "    <tr>\n",
       "      <th>759</th>\n",
       "      <td>35</td>\n",
       "      <td>12</td>\n",
       "      <td>1</td>\n",
       "      <td>1</td>\n",
       "      <td>0</td>\n",
       "      <td>0</td>\n",
       "      <td>0</td>\n",
       "      <td>0</td>\n",
       "      <td>0</td>\n",
       "      <td>0</td>\n",
       "    </tr>\n",
       "  </tbody>\n",
       "</table>\n",
       "</div>"
      ],
      "text/plain": [
       "     Age  Duration  Sex_male  Housing_own  Housing_rent  \\\n",
       "739   26        30         0            0             1   \n",
       "54    57        36         1            0             0   \n",
       "759   35        12         1            1             0   \n",
       "\n",
       "     Saving accounts_moderate  Saving accounts_quite rich  \\\n",
       "739                         1                           0   \n",
       "54                          0                           0   \n",
       "759                         0                           0   \n",
       "\n",
       "     Saving accounts_rich  Checking account_moderate  Checking account_rich  \n",
       "739                     0                          1                      0  \n",
       "54                      0                          1                      0  \n",
       "759                     0                          0                      0  "
      ]
     },
     "execution_count": 30,
     "metadata": {},
     "output_type": "execute_result"
    }
   ],
   "source": [
    "X_train = X_train.drop(ref_categories_lgd, axis=1)\n",
    "X_train.head(3)"
   ]
  },
  {
   "cell_type": "markdown",
   "metadata": {},
   "source": [
    "### 7.A- Stage 1- Logistic Regression"
   ]
  },
  {
   "cell_type": "code",
   "execution_count": 31,
   "metadata": {},
   "outputs": [],
   "source": [
    "# P values for sklearn logistic regression.\n",
    "\n",
    "# Class to display p-values for logistic regression in sklearn.\n",
    "\n",
    "from sklearn import linear_model\n",
    "import scipy.stats as stat\n",
    "\n",
    "class LogisticRegression_with_p_values:\n",
    "    \n",
    "    def __init__(self,*args,**kwargs):#,**kwargs):\n",
    "        self.model = linear_model.LogisticRegression(*args,**kwargs)#,**args)\n",
    "\n",
    "    def fit(self,X,y):\n",
    "        self.model.fit(X,y)\n",
    "        \n",
    "        #### Get p-values for the fitted model ####\n",
    "        denom = (2.0 * (1.0 + np.cosh(self.model.decision_function(X))))\n",
    "        denom = np.tile(denom,(X.shape[1],1)).T\n",
    "        F_ij = np.dot((X / denom).T,X) ## Fisher Information Matrix\n",
    "        Cramer_Rao = np.linalg.inv(F_ij) ## Inverse Information Matrix\n",
    "        sigma_estimates = np.sqrt(np.diagonal(Cramer_Rao))\n",
    "        z_scores = self.model.coef_[0] / sigma_estimates # z-score for eaach model coefficient\n",
    "        p_values = [stat.norm.sf(abs(x)) * 2 for x in z_scores] ### two tailed test for p-values\n",
    "        \n",
    "        self.coef_ = self.model.coef_\n",
    "        self.intercept_ = self.model.intercept_\n",
    "        #self.z_scores = z_scores\n",
    "        self.p_values = p_values\n",
    "        #self.sigma_estimates = sigma_estimates\n",
    "        #self.F_ij = F_ij"
   ]
  },
  {
   "cell_type": "code",
   "execution_count": 32,
   "metadata": {},
   "outputs": [],
   "source": [
    "reg = LogisticRegression_with_p_values()\n",
    "reg.fit(X_train, y_train)\n"
   ]
  },
  {
   "cell_type": "code",
   "execution_count": 33,
   "metadata": {},
   "outputs": [
    {
     "data": {
      "text/html": [
       "<div>\n",
       "<style scoped>\n",
       "    .dataframe tbody tr th:only-of-type {\n",
       "        vertical-align: middle;\n",
       "    }\n",
       "\n",
       "    .dataframe tbody tr th {\n",
       "        vertical-align: top;\n",
       "    }\n",
       "\n",
       "    .dataframe thead th {\n",
       "        text-align: right;\n",
       "    }\n",
       "</style>\n",
       "<table border=\"1\" class=\"dataframe\">\n",
       "  <thead>\n",
       "    <tr style=\"text-align: right;\">\n",
       "      <th></th>\n",
       "      <th>Feature name</th>\n",
       "      <th>Coefficients</th>\n",
       "      <th>p_values</th>\n",
       "    </tr>\n",
       "  </thead>\n",
       "  <tbody>\n",
       "    <tr>\n",
       "      <th>0</th>\n",
       "      <td>Intercept</td>\n",
       "      <td>1.24</td>\n",
       "      <td>nan</td>\n",
       "    </tr>\n",
       "    <tr>\n",
       "      <th>1</th>\n",
       "      <td>Age</td>\n",
       "      <td>-0.01</td>\n",
       "      <td>0.27</td>\n",
       "    </tr>\n",
       "    <tr>\n",
       "      <th>2</th>\n",
       "      <td>Duration</td>\n",
       "      <td>0.00</td>\n",
       "      <td>0.91</td>\n",
       "    </tr>\n",
       "    <tr>\n",
       "      <th>3</th>\n",
       "      <td>Sex_male</td>\n",
       "      <td>-0.11</td>\n",
       "      <td>0.75</td>\n",
       "    </tr>\n",
       "    <tr>\n",
       "      <th>4</th>\n",
       "      <td>Housing_own</td>\n",
       "      <td>0.02</td>\n",
       "      <td>0.96</td>\n",
       "    </tr>\n",
       "    <tr>\n",
       "      <th>5</th>\n",
       "      <td>Housing_rent</td>\n",
       "      <td>-0.53</td>\n",
       "      <td>0.18</td>\n",
       "    </tr>\n",
       "    <tr>\n",
       "      <th>6</th>\n",
       "      <td>Saving accounts_moderate</td>\n",
       "      <td>0.04</td>\n",
       "      <td>0.94</td>\n",
       "    </tr>\n",
       "    <tr>\n",
       "      <th>7</th>\n",
       "      <td>Saving accounts_quite rich</td>\n",
       "      <td>-0.69</td>\n",
       "      <td>0.46</td>\n",
       "    </tr>\n",
       "    <tr>\n",
       "      <th>8</th>\n",
       "      <td>Saving accounts_rich</td>\n",
       "      <td>0.80</td>\n",
       "      <td>0.53</td>\n",
       "    </tr>\n",
       "    <tr>\n",
       "      <th>9</th>\n",
       "      <td>Checking account_moderate</td>\n",
       "      <td>0.47</td>\n",
       "      <td>0.17</td>\n",
       "    </tr>\n",
       "    <tr>\n",
       "      <th>10</th>\n",
       "      <td>Checking account_rich</td>\n",
       "      <td>0.10</td>\n",
       "      <td>0.89</td>\n",
       "    </tr>\n",
       "  </tbody>\n",
       "</table>\n",
       "</div>"
      ],
      "text/plain": [
       "                  Feature name  Coefficients  p_values\n",
       "0                    Intercept          1.24       nan\n",
       "1                          Age         -0.01      0.27\n",
       "2                     Duration          0.00      0.91\n",
       "3                     Sex_male         -0.11      0.75\n",
       "4                  Housing_own          0.02      0.96\n",
       "5                 Housing_rent         -0.53      0.18\n",
       "6     Saving accounts_moderate          0.04      0.94\n",
       "7   Saving accounts_quite rich         -0.69      0.46\n",
       "8         Saving accounts_rich          0.80      0.53\n",
       "9    Checking account_moderate          0.47      0.17\n",
       "10       Checking account_rich          0.10      0.89"
      ]
     },
     "execution_count": 33,
     "metadata": {},
     "output_type": "execute_result"
    }
   ],
   "source": [
    "# Same as above.\n",
    "feature_name = X_train.columns.values\n",
    "summary_table = pd.DataFrame(columns = ['Feature name'], data = feature_name)\n",
    "summary_table['Coefficients'] = np.transpose(reg.coef_)\n",
    "summary_table.index = summary_table.index + 1\n",
    "summary_table.loc[0] = ['Intercept', reg.intercept_[0]]\n",
    "summary_table = summary_table.sort_index()\n",
    "\n",
    "\n",
    "# We add the 'p_values' here, just as we did before.\n",
    "p_values = reg.p_values\n",
    "p_values = np.append(np.nan,np.array(p_values))\n",
    "summary_table['p_values'] = p_values\n",
    "summary_table\n",
    "# Here we get the results for our final PD model."
   ]
  },
  {
   "cell_type": "code",
   "execution_count": 34,
   "metadata": {},
   "outputs": [],
   "source": [
    "X_test = X_test.drop(ref_categories_lgd, axis=1)"
   ]
  },
  {
   "cell_type": "code",
   "execution_count": 35,
   "metadata": {},
   "outputs": [
    {
     "data": {
      "text/plain": [
       "array([1, 1, 1, 1, 1, 1, 1, 1, 1, 1])"
      ]
     },
     "execution_count": 35,
     "metadata": {},
     "output_type": "execute_result"
    }
   ],
   "source": [
    "y_pred_test = reg.model.predict(X_test)\n",
    "y_pred_test[:10]"
   ]
  },
  {
   "cell_type": "code",
   "execution_count": 36,
   "metadata": {},
   "outputs": [
    {
     "data": {
      "text/plain": [
       "array([0.70415482, 0.84716441, 0.65819796, 0.74415087, 0.72823683,\n",
       "       0.80193392, 0.7352359 , 0.70044157, 0.72120222, 0.62434158])"
      ]
     },
     "execution_count": 36,
     "metadata": {},
     "output_type": "execute_result"
    }
   ],
   "source": [
    "y_proba_test = reg.model.predict_proba(X_test)\n",
    "y_proba_test = y_proba_test[: ][: , 1]\n",
    "y_proba_test[:10]"
   ]
  },
  {
   "cell_type": "code",
   "execution_count": 37,
   "metadata": {},
   "outputs": [
    {
     "data": {
      "text/html": [
       "<div>\n",
       "<style scoped>\n",
       "    .dataframe tbody tr th:only-of-type {\n",
       "        vertical-align: middle;\n",
       "    }\n",
       "\n",
       "    .dataframe tbody tr th {\n",
       "        vertical-align: top;\n",
       "    }\n",
       "\n",
       "    .dataframe thead th {\n",
       "        text-align: right;\n",
       "    }\n",
       "</style>\n",
       "<table border=\"1\" class=\"dataframe\">\n",
       "  <thead>\n",
       "    <tr style=\"text-align: right;\">\n",
       "      <th></th>\n",
       "      <th>Actual</th>\n",
       "      <th>Predicted_Prob</th>\n",
       "    </tr>\n",
       "  </thead>\n",
       "  <tbody>\n",
       "    <tr>\n",
       "      <th>840</th>\n",
       "      <td>0</td>\n",
       "      <td>0.70</td>\n",
       "    </tr>\n",
       "    <tr>\n",
       "      <th>721</th>\n",
       "      <td>1</td>\n",
       "      <td>0.85</td>\n",
       "    </tr>\n",
       "    <tr>\n",
       "      <th>268</th>\n",
       "      <td>1</td>\n",
       "      <td>0.66</td>\n",
       "    </tr>\n",
       "    <tr>\n",
       "      <th>610</th>\n",
       "      <td>1</td>\n",
       "      <td>0.74</td>\n",
       "    </tr>\n",
       "    <tr>\n",
       "      <th>603</th>\n",
       "      <td>1</td>\n",
       "      <td>0.73</td>\n",
       "    </tr>\n",
       "  </tbody>\n",
       "</table>\n",
       "</div>"
      ],
      "text/plain": [
       "     Actual  Predicted_Prob\n",
       "840       0            0.70\n",
       "721       1            0.85\n",
       "268       1            0.66\n",
       "610       1            0.74\n",
       "603       1            0.73"
      ]
     },
     "execution_count": 37,
     "metadata": {},
     "output_type": "execute_result"
    }
   ],
   "source": [
    "# We save the data frame into a temporary dataset and then reset the indices\n",
    "y_test_temp = y_test.copy()\n",
    "\n",
    "\n",
    "y_test_temp.reset_index(drop = True, inplace = True)\n",
    "# We reset the index of a dataframe.\n",
    "\n",
    "df_actual_pred = pd.concat([y_test_temp, pd.DataFrame(y_proba_test)], axis = 1)\n",
    "# Concatenates two dataframes.\n",
    "\n",
    "\n",
    "# We rename the columns here\n",
    "df_actual_pred.columns = ['Actual', 'Predicted_Prob']\n",
    "\n",
    "df_actual_pred.index = y_test.index\n",
    "# Makes the index of one dataframe equal to the index of another dataframe.\n",
    "\n",
    "df_actual_pred.head()"
   ]
  },
  {
   "cell_type": "markdown",
   "metadata": {},
   "source": [
    "### Estimating the Аccuracy of the Мodel\n",
    "\n",
    " We create a new column with an indicator,\n",
    " where every observation that has predicted probability greater than the threshold has a value of 1,\n",
    " and every observation that has predicted probability lower than the threshold has a value of 0."
   ]
  },
  {
   "cell_type": "code",
   "execution_count": 38,
   "metadata": {},
   "outputs": [],
   "source": [
    "tr = 0.5\n",
    "\n",
    "df_actual_pred['Predicted_class'] = np.where(df_actual_pred['Predicted_Prob'] > tr, 1, 0)\n",
    "\n"
   ]
  },
  {
   "cell_type": "code",
   "execution_count": 39,
   "metadata": {},
   "outputs": [
    {
     "data": {
      "text/html": [
       "<div>\n",
       "<style scoped>\n",
       "    .dataframe tbody tr th:only-of-type {\n",
       "        vertical-align: middle;\n",
       "    }\n",
       "\n",
       "    .dataframe tbody tr th {\n",
       "        vertical-align: top;\n",
       "    }\n",
       "\n",
       "    .dataframe thead th {\n",
       "        text-align: right;\n",
       "    }\n",
       "</style>\n",
       "<table border=\"1\" class=\"dataframe\">\n",
       "  <thead>\n",
       "    <tr style=\"text-align: right;\">\n",
       "      <th>Predicted</th>\n",
       "      <th>0</th>\n",
       "      <th>1</th>\n",
       "    </tr>\n",
       "    <tr>\n",
       "      <th>Actual</th>\n",
       "      <th></th>\n",
       "      <th></th>\n",
       "    </tr>\n",
       "  </thead>\n",
       "  <tbody>\n",
       "    <tr>\n",
       "      <th>0</th>\n",
       "      <td>0</td>\n",
       "      <td>14</td>\n",
       "    </tr>\n",
       "    <tr>\n",
       "      <th>1</th>\n",
       "      <td>1</td>\n",
       "      <td>39</td>\n",
       "    </tr>\n",
       "  </tbody>\n",
       "</table>\n",
       "</div>"
      ],
      "text/plain": [
       "Predicted  0   1\n",
       "Actual          \n",
       "0          0  14\n",
       "1          1  39"
      ]
     },
     "execution_count": 39,
     "metadata": {},
     "output_type": "execute_result"
    }
   ],
   "source": [
    "pd.crosstab(df_actual_pred['Actual'], df_actual_pred['Predicted_class'], rownames = ['Actual'], colnames = ['Predicted'])\n",
    "# Creates a cross-table where the actual values are displayed by rows and the predicted values by columns.\n",
    "# This table is known as a Confusion Matrix."
   ]
  },
  {
   "cell_type": "code",
   "execution_count": 40,
   "metadata": {},
   "outputs": [
    {
     "data": {
      "text/html": [
       "<div>\n",
       "<style scoped>\n",
       "    .dataframe tbody tr th:only-of-type {\n",
       "        vertical-align: middle;\n",
       "    }\n",
       "\n",
       "    .dataframe tbody tr th {\n",
       "        vertical-align: top;\n",
       "    }\n",
       "\n",
       "    .dataframe thead th {\n",
       "        text-align: right;\n",
       "    }\n",
       "</style>\n",
       "<table border=\"1\" class=\"dataframe\">\n",
       "  <thead>\n",
       "    <tr style=\"text-align: right;\">\n",
       "      <th>Predicted</th>\n",
       "      <th>0</th>\n",
       "      <th>1</th>\n",
       "    </tr>\n",
       "    <tr>\n",
       "      <th>Actual</th>\n",
       "      <th></th>\n",
       "      <th></th>\n",
       "    </tr>\n",
       "  </thead>\n",
       "  <tbody>\n",
       "    <tr>\n",
       "      <th>0</th>\n",
       "      <td>0.00</td>\n",
       "      <td>0.26</td>\n",
       "    </tr>\n",
       "    <tr>\n",
       "      <th>1</th>\n",
       "      <td>0.02</td>\n",
       "      <td>0.72</td>\n",
       "    </tr>\n",
       "  </tbody>\n",
       "</table>\n",
       "</div>"
      ],
      "text/plain": [
       "Predicted    0    1\n",
       "Actual             \n",
       "0         0.00 0.26\n",
       "1         0.02 0.72"
      ]
     },
     "execution_count": 40,
     "metadata": {},
     "output_type": "execute_result"
    }
   ],
   "source": [
    "pd.crosstab(df_actual_pred['Actual'], df_actual_pred['Predicted_class'], rownames = ['Actual'], colnames = ['Predicted']) / df_actual_pred.shape[0]\n",
    "# Here we divide each value of the table by the total number of observations,\n",
    "# thus getting percentages, or, rates."
   ]
  },
  {
   "cell_type": "code",
   "execution_count": 41,
   "metadata": {},
   "outputs": [
    {
     "data": {
      "text/plain": [
       "0.7222222222222222"
      ]
     },
     "execution_count": 41,
     "metadata": {},
     "output_type": "execute_result"
    }
   ],
   "source": [
    "(pd.crosstab(df_actual_pred['Actual'], df_actual_pred['Predicted_class'], rownames = ['Actual'], colnames = ['Predicted']) / df_actual_pred.shape[0]).iloc[0, 0] + (pd.crosstab(df_actual_pred['Actual'], df_actual_pred['Predicted_class'], rownames = ['Actual'], colnames = ['Predicted']) / df_actual_pred.shape[0]).iloc[1, 1]\n",
    "# Here we calculate Accuracy of the model, which is the sum of the diagonal rates."
   ]
  },
  {
   "cell_type": "code",
   "execution_count": 42,
   "metadata": {},
   "outputs": [
    {
     "name": "stdout",
     "output_type": "stream",
     "text": [
      "AUC Value:  0.54\n"
     ]
    },
    {
     "data": {
      "image/png": "[encoded data removed]",
      "text/plain": [
       "<Figure size 432x288 with 1 Axes>"
      ]
     },
     "metadata": {},
     "output_type": "display_data"
    }
   ],
   "source": [
    "# ROC Curve\n",
    "import matplotlib.pyplot as plt\n",
    "from sklearn.metrics import roc_auc_score, roc_curve\n",
    "\n",
    "# Keeping the predicted probabilities for outcome (1 or liver patient) only\n",
    "#y_pred_proba = final_model.predict_proba(X_test_std)[::,1]\n",
    "\n",
    "\n",
    "fpr, tpr, _ = roc_curve(y_test,  y_proba_test)\n",
    "auc = roc_auc_score(y_test, y_proba_test)\n",
    "auc = float(\"{:.2f}\".format(auc))\n",
    "print(\"AUC Value: \", auc)\n",
    "plt.plot(fpr,tpr,label=\"auc=\"+str(auc))\n",
    "plt.plot([0, 1], [0, 1],'r--')\n",
    "plt.title('Receiver Operating Characteristic')\n",
    "plt.ylabel('True Positive Rate')\n",
    "plt.xlabel('False Positive Rate')\n",
    "plt.legend(loc=8)\n",
    "plt.show()"
   ]
  },
  {
   "cell_type": "markdown",
   "metadata": {},
   "source": [
    "\n",
    "\n",
    "AUC is 54%; not that good. Anyways, it is more important to have a large proportion of correctly classified values that are greater than 0, than to have correctly classified 0s. This is becayse we use greater than 0s for our LGD model.\n",
    "\n",
    "Also, during the 2nd stage regression model, some of the values classified as greater than 1 may be estimated to be = 0, thus correcting the current misclassification\n"
   ]
  },
  {
   "cell_type": "code",
   "execution_count": 43,
   "metadata": {},
   "outputs": [],
   "source": [
    "import pickle\n",
    "pickle.dump(reg, open('reg_lgd.sav', 'wb'))\n",
    "# Here we export our model to a 'SAV' file with file name 'lgd_model_stage_1.sav'."
   ]
  },
  {
   "cell_type": "markdown",
   "metadata": {},
   "source": [
    "### 7.B- Stage 2- Linear Regression\n",
    "\n",
    "\n"
   ]
  },
  {
   "cell_type": "code",
   "execution_count": 44,
   "metadata": {},
   "outputs": [],
   "source": [
    "df_stage2 = df1[df1['recovery_rate_flag'] == 1]\n",
    "# Here we take only rows where the original recovery rate variable is greater than zero,\n",
    "# i.e. where the indicator variable we created is equal to 1."
   ]
  },
  {
   "cell_type": "code",
   "execution_count": 45,
   "metadata": {},
   "outputs": [
    {
     "name": "stdout",
     "output_type": "stream",
     "text": [
      "(269, 14)\n",
      "X_train1 : (152, 10)\n",
      "X_test1 : (39, 14)\n",
      "y_train1 : (152,)\n",
      "y_test1 : (39,)\n"
     ]
    }
   ],
   "source": [
    "df_stage2 = df_stage2.drop(['Job','Risk', 'Credit amount', 'Recovered_Principle','Recoveries','Purpose',\n",
    "                   'recovery_rate_flag', 'CCF'], axis=1)\n",
    "\n",
    "\n",
    "df_stage2 = pd.get_dummies(df_stage2, columns=['Sex', 'Housing', 'Saving accounts', 'Checking account' ])\n",
    "lgd_df.head(3)\n",
    "\n",
    "\n",
    "Y1 = df_stage2.loc[:, 'recovery_rate']\n",
    "df_stage2 = df_stage2.drop(['recovery_rate'], axis=1)\n",
    "X1 = df_stage2\n",
    "print(X.shape)\n",
    "\n",
    "\n",
    "# Partition the dataset in train + validation sets\n",
    "from sklearn.model_selection import train_test_split\n",
    "\n",
    "X_train1, X_test1, y_train1, y_test1 = train_test_split(X1, Y1, test_size = 0.2, random_state = 0)\n",
    "X_train1 = X_train1.drop(ref_categories_lgd, axis=1)\n",
    "\n",
    "print(\"X_train1 : \" + str(X_train1.shape))\n",
    "print(\"X_test1 : \" + str(X_test1.shape))\n",
    "print(\"y_train1 : \" + str(y_train1.shape))\n",
    "print(\"y_test1 : \" + str(y_test1.shape))"
   ]
  },
  {
   "cell_type": "code",
   "execution_count": 46,
   "metadata": {},
   "outputs": [
    {
     "data": {
      "text/plain": [
       "Index(['Age', 'Duration', 'Sex_male', 'Housing_own', 'Housing_rent',\n",
       "       'Saving accounts_moderate', 'Saving accounts_quite rich',\n",
       "       'Saving accounts_rich', 'Checking account_moderate',\n",
       "       'Checking account_rich'],\n",
       "      dtype='object')"
      ]
     },
     "execution_count": 46,
     "metadata": {},
     "output_type": "execute_result"
    }
   ],
   "source": [
    "X_train1.columns"
   ]
  },
  {
   "cell_type": "code",
   "execution_count": 47,
   "metadata": {},
   "outputs": [
    {
     "data": {
      "text/plain": [
       "['Sex_female',\n",
       " 'Housing_free',\n",
       " 'Saving accounts_little',\n",
       " 'Checking account_little']"
      ]
     },
     "execution_count": 47,
     "metadata": {},
     "output_type": "execute_result"
    }
   ],
   "source": [
    "ref_categories_lgd"
   ]
  },
  {
   "cell_type": "code",
   "execution_count": 48,
   "metadata": {},
   "outputs": [],
   "source": [
    "from sklearn import linear_model\n",
    "from sklearn.metrics import mean_squared_error, r2_score"
   ]
  },
  {
   "cell_type": "code",
   "execution_count": 49,
   "metadata": {},
   "outputs": [],
   "source": [
    "# Since the p-values are obtained through certain statistics, we need the 'stat' module from scipy.stats\n",
    "import scipy.stats as stat\n",
    "\n",
    "# Since we are using an object oriented language such as Python, we can simply define our own \n",
    "# LinearRegression class (the same one from sklearn)\n",
    "# By typing the code below we will ovewrite a part of the class with one that includes p-values\n",
    "# Here's the full source code of the ORIGINAL class: https://github.com/scikit-learn/scikit-learn/blob/7b136e9/sklearn/linear_model/base.py#L362\n",
    "\n",
    "\n",
    "class LinearRegression(linear_model.LinearRegression):\n",
    "    \"\"\"\n",
    "    LinearRegression class after sklearn's, but calculate t-statistics\n",
    "    and p-values for model coefficients (betas).\n",
    "    Additional attributes available after .fit()\n",
    "    are `t` and `p` which are of the shape (y.shape[1], X.shape[1])\n",
    "    which is (n_features, n_coefs)\n",
    "    This class sets the intercept to 0 by default, since usually we include it\n",
    "    in X.\n",
    "    \"\"\"\n",
    "    \n",
    "    # nothing changes in __init__\n",
    "    def __init__(self, fit_intercept=True, normalize=False, copy_X=True,\n",
    "                 n_jobs=1):\n",
    "        self.fit_intercept = fit_intercept\n",
    "        self.normalize = normalize\n",
    "        self.copy_X = copy_X\n",
    "        self.n_jobs = n_jobs\n",
    "\n",
    "    \n",
    "    def fit(self, X, y, n_jobs=1):\n",
    "        self = super(LinearRegression, self).fit(X, y, n_jobs)\n",
    "        \n",
    "        # Calculate SSE (sum of squared errors)\n",
    "        # and SE (standard error)\n",
    "        sse = np.sum((self.predict(X) - y) ** 2, axis=0) / float(X.shape[0] - X.shape[1])\n",
    "        se = np.array([np.sqrt(np.diagonal(sse * np.linalg.inv(np.dot(X.T, X))))])\n",
    "\n",
    "        # compute the t-statistic for each feature\n",
    "        self.t = self.coef_ / se\n",
    "        # find the p-value for each feature\n",
    "        self.p = np.squeeze(2 * (1 - stat.t.cdf(np.abs(self.t), y.shape[0] - X.shape[1])))\n",
    "        return self\n",
    "    "
   ]
  },
  {
   "cell_type": "code",
   "execution_count": 50,
   "metadata": {},
   "outputs": [],
   "source": [
    "import scipy.stats as stat\n",
    "\n",
    "class LinearRegression(linear_model.LinearRegression):\n",
    "    def __init__(self, fit_intercept=True, normalize=False, copy_X=True,\n",
    "                 n_jobs=1):\n",
    "        self.fit_intercept = fit_intercept\n",
    "        self.normalize = normalize\n",
    "        self.copy_X = copy_X\n",
    "        self.n_jobs = n_jobs\n",
    "    def fit(self, X, y, n_jobs=1):\n",
    "        self = super(LinearRegression, self).fit(X, y, n_jobs)\n",
    "        sse = np.sum((self.predict(X) - y) ** 2, axis=0) / float(X.shape[0] - X.shape[1])\n",
    "        se = np.array([np.sqrt(np.diagonal(sse * np.linalg.inv(np.dot(X.T, X))))])\n",
    "        self.t = self.coef_ / se\n",
    "        self.p = np.squeeze(2 * (1 - stat.t.cdf(np.abs(self.t), y.shape[0] - X.shape[1])))\n",
    "        return self\n",
    "    "
   ]
  },
  {
   "cell_type": "code",
   "execution_count": 51,
   "metadata": {},
   "outputs": [
    {
     "data": {
      "text/plain": [
       "LinearRegression(copy_X=True, fit_intercept=True, n_jobs=1, normalize=False)"
      ]
     },
     "execution_count": 51,
     "metadata": {},
     "output_type": "execute_result"
    }
   ],
   "source": [
    "reg_stage2 = LinearRegression()\n",
    "# We create an instance of an object from the 'LogisticRegression' class.\n",
    "reg_stage2.fit(X_train1, y_train1)\n",
    "# Estimates the coefficients of the object from the 'LogisticRegression' class\n",
    "# with inputs (independent variables) contained in the first dataframe\n",
    "# and targets (dependent variables) contained in the second dataframe."
   ]
  },
  {
   "cell_type": "code",
   "execution_count": 52,
   "metadata": {},
   "outputs": [
    {
     "data": {
      "text/html": [
       "<div>\n",
       "<style scoped>\n",
       "    .dataframe tbody tr th:only-of-type {\n",
       "        vertical-align: middle;\n",
       "    }\n",
       "\n",
       "    .dataframe tbody tr th {\n",
       "        vertical-align: top;\n",
       "    }\n",
       "\n",
       "    .dataframe thead th {\n",
       "        text-align: right;\n",
       "    }\n",
       "</style>\n",
       "<table border=\"1\" class=\"dataframe\">\n",
       "  <thead>\n",
       "    <tr style=\"text-align: right;\">\n",
       "      <th></th>\n",
       "      <th>Feature name</th>\n",
       "      <th>Coefficients</th>\n",
       "      <th>p_values</th>\n",
       "    </tr>\n",
       "  </thead>\n",
       "  <tbody>\n",
       "    <tr>\n",
       "      <th>0</th>\n",
       "      <td>Intercept</td>\n",
       "      <td>0.20</td>\n",
       "      <td>nan</td>\n",
       "    </tr>\n",
       "    <tr>\n",
       "      <th>1</th>\n",
       "      <td>Age</td>\n",
       "      <td>-0.00</td>\n",
       "      <td>0.15</td>\n",
       "    </tr>\n",
       "    <tr>\n",
       "      <th>2</th>\n",
       "      <td>Duration</td>\n",
       "      <td>0.00</td>\n",
       "      <td>0.62</td>\n",
       "    </tr>\n",
       "    <tr>\n",
       "      <th>3</th>\n",
       "      <td>Sex_male</td>\n",
       "      <td>-0.02</td>\n",
       "      <td>0.15</td>\n",
       "    </tr>\n",
       "    <tr>\n",
       "      <th>4</th>\n",
       "      <td>Housing_own</td>\n",
       "      <td>0.01</td>\n",
       "      <td>0.54</td>\n",
       "    </tr>\n",
       "    <tr>\n",
       "      <th>5</th>\n",
       "      <td>Housing_rent</td>\n",
       "      <td>-0.01</td>\n",
       "      <td>0.50</td>\n",
       "    </tr>\n",
       "    <tr>\n",
       "      <th>6</th>\n",
       "      <td>Saving accounts_moderate</td>\n",
       "      <td>-0.01</td>\n",
       "      <td>0.47</td>\n",
       "    </tr>\n",
       "    <tr>\n",
       "      <th>7</th>\n",
       "      <td>Saving accounts_quite rich</td>\n",
       "      <td>0.01</td>\n",
       "      <td>0.88</td>\n",
       "    </tr>\n",
       "    <tr>\n",
       "      <th>8</th>\n",
       "      <td>Saving accounts_rich</td>\n",
       "      <td>0.01</td>\n",
       "      <td>0.86</td>\n",
       "    </tr>\n",
       "    <tr>\n",
       "      <th>9</th>\n",
       "      <td>Checking account_moderate</td>\n",
       "      <td>0.02</td>\n",
       "      <td>0.15</td>\n",
       "    </tr>\n",
       "    <tr>\n",
       "      <th>10</th>\n",
       "      <td>Checking account_rich</td>\n",
       "      <td>0.01</td>\n",
       "      <td>0.66</td>\n",
       "    </tr>\n",
       "  </tbody>\n",
       "</table>\n",
       "</div>"
      ],
      "text/plain": [
       "                  Feature name  Coefficients  p_values\n",
       "0                    Intercept          0.20       nan\n",
       "1                          Age         -0.00      0.15\n",
       "2                     Duration          0.00      0.62\n",
       "3                     Sex_male         -0.02      0.15\n",
       "4                  Housing_own          0.01      0.54\n",
       "5                 Housing_rent         -0.01      0.50\n",
       "6     Saving accounts_moderate         -0.01      0.47\n",
       "7   Saving accounts_quite rich          0.01      0.88\n",
       "8         Saving accounts_rich          0.01      0.86\n",
       "9    Checking account_moderate          0.02      0.15\n",
       "10       Checking account_rich          0.01      0.66"
      ]
     },
     "execution_count": 52,
     "metadata": {},
     "output_type": "execute_result"
    }
   ],
   "source": [
    "feature_name1 = X_train1.columns.values\n",
    "summary_table1 = pd.DataFrame(columns = ['Feature name'], data = feature_name1)\n",
    "summary_table1['Coefficients'] = np.transpose(reg_stage2.coef_)\n",
    "summary_table1.index = summary_table1.index + 1\n",
    "summary_table1.loc[0] = ['Intercept', reg_stage2.intercept_]\n",
    "summary_table1 = summary_table1.sort_index()\n",
    "\n",
    "\n",
    "# We add the 'p_values' here, just as we did before.\n",
    "p_values1 = reg_stage2.p\n",
    "p_values1 = np.append(np.nan,np.array(p_values1))\n",
    "summary_table1['p_values'] = p_values1\n",
    "summary_table1\n",
    "# Here we get the results for our final PD model."
   ]
  },
  {
   "cell_type": "code",
   "execution_count": 53,
   "metadata": {},
   "outputs": [],
   "source": [
    "X_test1 = X_test1.drop(ref_categories_lgd, axis=1)"
   ]
  },
  {
   "cell_type": "code",
   "execution_count": 54,
   "metadata": {},
   "outputs": [
    {
     "data": {
      "text/plain": [
       "array([0.17101391, 0.17578054, 0.20343471, 0.19489367, 0.17847318,\n",
       "       0.20191868, 0.19767015, 0.21214482, 0.20508637, 0.18609313,\n",
       "       0.1771451 , 0.20293136, 0.19403617, 0.188491  , 0.18140685,\n",
       "       0.15223297, 0.19499659, 0.1791215 , 0.17093708, 0.18288584,\n",
       "       0.20393226, 0.15397207, 0.15124356, 0.20382933, 0.20046487,\n",
       "       0.18087881, 0.21541835, 0.2107145 , 0.19763584, 0.1791182 ,\n",
       "       0.17879564, 0.1695387 , 0.1722277 , 0.21099345, 0.18184846,\n",
       "       0.15864398, 0.17214707, 0.21811337, 0.18092922])"
      ]
     },
     "execution_count": 54,
     "metadata": {},
     "output_type": "execute_result"
    }
   ],
   "source": [
    "y_pred1 = reg_stage2.predict(X_test1)\n",
    "y_pred1"
   ]
  },
  {
   "cell_type": "code",
   "execution_count": 55,
   "metadata": {},
   "outputs": [
    {
     "data": {
      "text/plain": [
       "63    0.18\n",
       "543   0.20\n",
       "444   0.18\n",
       "446   0.18\n",
       "552   0.17\n",
       "      ... \n",
       "505   0.18\n",
       "333   0.19\n",
       "555   0.18\n",
       "236   0.17\n",
       "754   0.16\n",
       "Name: recovery_rate, Length: 152, dtype: float64"
      ]
     },
     "execution_count": 55,
     "metadata": {},
     "output_type": "execute_result"
    }
   ],
   "source": [
    "y_train1"
   ]
  },
  {
   "cell_type": "code",
   "execution_count": 56,
   "metadata": {},
   "outputs": [
    {
     "data": {
      "text/html": [
       "<div>\n",
       "<style scoped>\n",
       "    .dataframe tbody tr th:only-of-type {\n",
       "        vertical-align: middle;\n",
       "    }\n",
       "\n",
       "    .dataframe tbody tr th {\n",
       "        vertical-align: top;\n",
       "    }\n",
       "\n",
       "    .dataframe thead th {\n",
       "        text-align: right;\n",
       "    }\n",
       "</style>\n",
       "<table border=\"1\" class=\"dataframe\">\n",
       "  <thead>\n",
       "    <tr style=\"text-align: right;\">\n",
       "      <th></th>\n",
       "      <th>Actual</th>\n",
       "      <th>Predicted_reg</th>\n",
       "    </tr>\n",
       "  </thead>\n",
       "  <tbody>\n",
       "    <tr>\n",
       "      <th>535</th>\n",
       "      <td>0.22</td>\n",
       "      <td>0.17</td>\n",
       "    </tr>\n",
       "    <tr>\n",
       "      <th>368</th>\n",
       "      <td>0.18</td>\n",
       "      <td>0.18</td>\n",
       "    </tr>\n",
       "    <tr>\n",
       "      <th>721</th>\n",
       "      <td>0.17</td>\n",
       "      <td>0.20</td>\n",
       "    </tr>\n",
       "    <tr>\n",
       "      <th>474</th>\n",
       "      <td>0.19</td>\n",
       "      <td>0.19</td>\n",
       "    </tr>\n",
       "    <tr>\n",
       "      <th>598</th>\n",
       "      <td>0.17</td>\n",
       "      <td>0.18</td>\n",
       "    </tr>\n",
       "  </tbody>\n",
       "</table>\n",
       "</div>"
      ],
      "text/plain": [
       "     Actual  Predicted_reg\n",
       "535    0.22           0.17\n",
       "368    0.18           0.18\n",
       "721    0.17           0.20\n",
       "474    0.19           0.19\n",
       "598    0.17           0.18"
      ]
     },
     "execution_count": 56,
     "metadata": {},
     "output_type": "execute_result"
    }
   ],
   "source": [
    "# We save the data frame into a temporary dataset and then reset the indices\n",
    "y_test_temp1 = y_test1.copy()\n",
    "\n",
    "\n",
    "y_test_temp1.reset_index(drop = True, inplace = True)\n",
    "# We reset the index of a dataframe.\n",
    "\n",
    "df_reg_pred = pd.concat([y_test_temp1, pd.DataFrame(y_pred1)], axis = 1)\n",
    "# Concatenates two dataframes.\n",
    "\n",
    "\n",
    "# We rename the columns here\n",
    "df_reg_pred.columns = ['Actual', 'Predicted_reg']\n",
    "\n",
    "df_reg_pred.index = y_test1.index\n",
    "# Makes the index of one dataframe equal to the index of another dataframe.\n",
    "\n",
    "df_reg_pred.head()"
   ]
  },
  {
   "cell_type": "code",
   "execution_count": 57,
   "metadata": {},
   "outputs": [
    {
     "data": {
      "text/html": [
       "<div>\n",
       "<style scoped>\n",
       "    .dataframe tbody tr th:only-of-type {\n",
       "        vertical-align: middle;\n",
       "    }\n",
       "\n",
       "    .dataframe tbody tr th {\n",
       "        vertical-align: top;\n",
       "    }\n",
       "\n",
       "    .dataframe thead th {\n",
       "        text-align: right;\n",
       "    }\n",
       "</style>\n",
       "<table border=\"1\" class=\"dataframe\">\n",
       "  <thead>\n",
       "    <tr style=\"text-align: right;\">\n",
       "      <th></th>\n",
       "      <th>recovery_rate</th>\n",
       "      <th>0</th>\n",
       "    </tr>\n",
       "  </thead>\n",
       "  <tbody>\n",
       "    <tr>\n",
       "      <th>recovery_rate</th>\n",
       "      <td>1.00</td>\n",
       "      <td>0.03</td>\n",
       "    </tr>\n",
       "    <tr>\n",
       "      <th>0</th>\n",
       "      <td>0.03</td>\n",
       "      <td>1.00</td>\n",
       "    </tr>\n",
       "  </tbody>\n",
       "</table>\n",
       "</div>"
      ],
      "text/plain": [
       "               recovery_rate    0\n",
       "recovery_rate           1.00 0.03\n",
       "0                       0.03 1.00"
      ]
     },
     "execution_count": 57,
     "metadata": {},
     "output_type": "execute_result"
    }
   ],
   "source": [
    "\n",
    "pd.concat([y_test_temp1, pd.DataFrame(y_pred1)], axis = 1).corr()\n",
    "# We calculate the correlation between actual and predicted values estimate whether our model is good enough\n"
   ]
  },
  {
   "cell_type": "code",
   "execution_count": 58,
   "metadata": {},
   "outputs": [
    {
     "data": {
      "image/png": "[encoded data removed]",
      "text/plain": [
       "<Figure size 432x288 with 1 Axes>"
      ]
     },
     "metadata": {},
     "output_type": "display_data"
    }
   ],
   "source": [
    "sns.distplot(y_test_temp1 - y_pred1)\n",
    "plt.show()\n",
    "# We plot the distribution of the residuals."
   ]
  },
  {
   "cell_type": "code",
   "execution_count": 59,
   "metadata": {},
   "outputs": [],
   "source": [
    "\n",
    "pickle.dump(reg_stage2, open('lgd_model_stage_2.sav', 'wb'))\n",
    "# Here we export our model to a 'SAV' file with file name 'lgd_model_stage_1.sav'.\n"
   ]
  },
  {
   "cell_type": "markdown",
   "metadata": {},
   "source": [
    "### 7.C- Combining Stage 1 &  2"
   ]
  },
  {
   "cell_type": "markdown",
   "metadata": {},
   "source": [
    "Recovery rates above, estimated by linear regression, no matter if they were predicted to be 0 or 1 by the 1st stage"
   ]
  },
  {
   "cell_type": "code",
   "execution_count": 60,
   "metadata": {},
   "outputs": [
    {
     "data": {
      "text/plain": [
       "array([0.18331664, 0.20343471, 0.1695387 , 0.18760166, 0.20125042,\n",
       "       0.20249838, 0.1913895 , 0.17574222, 0.1748263 , 0.16851891,\n",
       "       0.17062584, 0.20046487, 0.18202   , 0.15397207, 0.18426156,\n",
       "       0.18621514, 0.18529147, 0.16570331, 0.18419208, 0.1802809 ,\n",
       "       0.1863422 , 0.1860779 , 0.18422725, 0.17178163, 0.16042699,\n",
       "       0.19279153, 0.17841979, 0.20393226, 0.19894824, 0.17684367,\n",
       "       0.19957925, 0.18202   , 0.20508637, 0.18414817, 0.20031682,\n",
       "       0.16522498, 0.16387088, 0.18545727, 0.20298952, 0.17086846,\n",
       "       0.1715854 , 0.19865715, 0.18292015, 0.19663277, 0.19403617,\n",
       "       0.18951918, 0.18240907, 0.19760068, 0.21811337, 0.20293136,\n",
       "       0.16410144, 0.1628899 , 0.17898426, 0.17143014])"
      ]
     },
     "execution_count": 60,
     "metadata": {},
     "output_type": "execute_result"
    }
   ],
   "source": [
    "y_pred_all = reg_stage2.predict(X_test)\n",
    "y_pred_all"
   ]
  },
  {
   "cell_type": "markdown",
   "metadata": {},
   "source": [
    "\n",
    "\n",
    "We can get the predicted recovery rates by multiplying the model from stage 1 and stage 2. Think about it. Wherever there is a 0 predicted by the first model, all values predicted by the second model are multiplied by it will remain 0, and wherever there is 1 , all valued predicted by the 2nd model are multiplied by 1 so they'll remain the same."
   ]
  },
  {
   "cell_type": "code",
   "execution_count": 61,
   "metadata": {},
   "outputs": [
    {
     "data": {
      "text/html": [
       "<div>\n",
       "<style scoped>\n",
       "    .dataframe tbody tr th:only-of-type {\n",
       "        vertical-align: middle;\n",
       "    }\n",
       "\n",
       "    .dataframe tbody tr th {\n",
       "        vertical-align: top;\n",
       "    }\n",
       "\n",
       "    .dataframe thead th {\n",
       "        text-align: right;\n",
       "    }\n",
       "</style>\n",
       "<table border=\"1\" class=\"dataframe\">\n",
       "  <thead>\n",
       "    <tr style=\"text-align: right;\">\n",
       "      <th></th>\n",
       "      <th>0</th>\n",
       "    </tr>\n",
       "  </thead>\n",
       "  <tbody>\n",
       "    <tr>\n",
       "      <th>count</th>\n",
       "      <td>54.00</td>\n",
       "    </tr>\n",
       "    <tr>\n",
       "      <th>mean</th>\n",
       "      <td>0.18</td>\n",
       "    </tr>\n",
       "    <tr>\n",
       "      <th>std</th>\n",
       "      <td>0.03</td>\n",
       "    </tr>\n",
       "    <tr>\n",
       "      <th>min</th>\n",
       "      <td>0.00</td>\n",
       "    </tr>\n",
       "    <tr>\n",
       "      <th>25%</th>\n",
       "      <td>0.17</td>\n",
       "    </tr>\n",
       "    <tr>\n",
       "      <th>50%</th>\n",
       "      <td>0.18</td>\n",
       "    </tr>\n",
       "    <tr>\n",
       "      <th>75%</th>\n",
       "      <td>0.20</td>\n",
       "    </tr>\n",
       "    <tr>\n",
       "      <th>max</th>\n",
       "      <td>0.22</td>\n",
       "    </tr>\n",
       "  </tbody>\n",
       "</table>\n",
       "</div>"
      ],
      "text/plain": [
       "          0\n",
       "count 54.00\n",
       "mean   0.18\n",
       "std    0.03\n",
       "min    0.00\n",
       "25%    0.17\n",
       "50%    0.18\n",
       "75%    0.20\n",
       "max    0.22"
      ]
     },
     "execution_count": 61,
     "metadata": {},
     "output_type": "execute_result"
    }
   ],
   "source": [
    "y_pred_lgd_final = y_pred_all * y_pred_test\n",
    "pd.DataFrame(y_pred_lgd_final).describe()"
   ]
  },
  {
   "cell_type": "code",
   "execution_count": 62,
   "metadata": {},
   "outputs": [],
   "source": [
    "y_pred_lgd_final = np.where(y_pred_lgd_final < 0, 0, y_pred_lgd_final)\n",
    "y_pred_lgd_final = np.where(y_pred_lgd_final > 1, 1, y_pred_lgd_final)\n",
    "# We set predicted values that are greater than 1 to 1 and predicted values that are less than 0 to 0."
   ]
  },
  {
   "cell_type": "markdown",
   "metadata": {},
   "source": [
    "\n",
    "## 8. EAD Model\n",
    "\n",
    "Estimation and Interpretation"
   ]
  },
  {
   "cell_type": "code",
   "execution_count": 63,
   "metadata": {},
   "outputs": [
    {
     "name": "stdout",
     "output_type": "stream",
     "text": [
      "(269, 14)\n",
      "X_train2 : (215, 10)\n",
      "X_test2 : (54, 14)\n",
      "y_train2 : (215,)\n",
      "y_test2 : (54,)\n"
     ]
    }
   ],
   "source": [
    "df_ead = df1.drop(['Job','Risk', 'Credit amount', 'Recovered_Principle','Recoveries','Purpose',\n",
    "                   'recovery_rate_flag', 'recovery_rate'], axis=1)\n",
    "\n",
    "\n",
    "df_ead = pd.get_dummies(df_ead, columns=['Sex', 'Housing', 'Saving accounts', 'Checking account' ])\n",
    "\n",
    "\n",
    "Y2 = df_ead.loc[:, 'CCF']\n",
    "df_ead = df_ead.drop(['CCF'], axis=1)\n",
    "X2 = df_ead\n",
    "print(X2.shape)\n",
    "\n",
    "\n",
    "# Partition the dataset in train + validation sets\n",
    "from sklearn.model_selection import train_test_split\n",
    "\n",
    "X_train2, X_test2, y_train2, y_test2 = train_test_split(X2, Y2, test_size = 0.2, random_state = 0)\n",
    "\n",
    "X_train2 = X_train2.drop(ref_categories_lgd, axis=1)\n",
    "\n",
    "print(\"X_train2 : \" + str(X_train2.shape))\n",
    "print(\"X_test2 : \" + str(X_test2.shape))\n",
    "print(\"y_train2 : \" + str(y_train2.shape))\n",
    "print(\"y_test2 : \" + str(y_test2.shape))"
   ]
  },
  {
   "cell_type": "code",
   "execution_count": 64,
   "metadata": {},
   "outputs": [
    {
     "data": {
      "text/plain": [
       "LinearRegression(copy_X=True, fit_intercept=True, n_jobs=1, normalize=False)"
      ]
     },
     "execution_count": 64,
     "metadata": {},
     "output_type": "execute_result"
    }
   ],
   "source": [
    "\n",
    "reg_ead = LinearRegression()\n",
    "# We create an instance of an object from the 'LogisticRegression' class.\n",
    "reg_ead.fit(X_train2, y_train2)\n",
    "# Estimates the coefficients of the object from the 'LogisticRegression' class\n",
    "# with inputs (independent variables) contained in the first dataframe\n",
    "# and targets (dependent variables) contained in the second dataframe.\n"
   ]
  },
  {
   "cell_type": "code",
   "execution_count": 65,
   "metadata": {},
   "outputs": [
    {
     "data": {
      "text/html": [
       "<div>\n",
       "<style scoped>\n",
       "    .dataframe tbody tr th:only-of-type {\n",
       "        vertical-align: middle;\n",
       "    }\n",
       "\n",
       "    .dataframe tbody tr th {\n",
       "        vertical-align: top;\n",
       "    }\n",
       "\n",
       "    .dataframe thead th {\n",
       "        text-align: right;\n",
       "    }\n",
       "</style>\n",
       "<table border=\"1\" class=\"dataframe\">\n",
       "  <thead>\n",
       "    <tr style=\"text-align: right;\">\n",
       "      <th></th>\n",
       "      <th>Feature name</th>\n",
       "      <th>Coefficients</th>\n",
       "      <th>p_values</th>\n",
       "    </tr>\n",
       "  </thead>\n",
       "  <tbody>\n",
       "    <tr>\n",
       "      <th>0</th>\n",
       "      <td>Intercept</td>\n",
       "      <td>0.96</td>\n",
       "      <td>nan</td>\n",
       "    </tr>\n",
       "    <tr>\n",
       "      <th>1</th>\n",
       "      <td>Age</td>\n",
       "      <td>0.00</td>\n",
       "      <td>0.13</td>\n",
       "    </tr>\n",
       "    <tr>\n",
       "      <th>2</th>\n",
       "      <td>Duration</td>\n",
       "      <td>-0.00</td>\n",
       "      <td>0.00</td>\n",
       "    </tr>\n",
       "    <tr>\n",
       "      <th>3</th>\n",
       "      <td>Sex_male</td>\n",
       "      <td>0.01</td>\n",
       "      <td>0.22</td>\n",
       "    </tr>\n",
       "    <tr>\n",
       "      <th>4</th>\n",
       "      <td>Housing_own</td>\n",
       "      <td>0.00</td>\n",
       "      <td>0.68</td>\n",
       "    </tr>\n",
       "    <tr>\n",
       "      <th>5</th>\n",
       "      <td>Housing_rent</td>\n",
       "      <td>0.00</td>\n",
       "      <td>0.70</td>\n",
       "    </tr>\n",
       "    <tr>\n",
       "      <th>6</th>\n",
       "      <td>Saving accounts_moderate</td>\n",
       "      <td>0.01</td>\n",
       "      <td>0.58</td>\n",
       "    </tr>\n",
       "    <tr>\n",
       "      <th>7</th>\n",
       "      <td>Saving accounts_quite rich</td>\n",
       "      <td>0.00</td>\n",
       "      <td>0.93</td>\n",
       "    </tr>\n",
       "    <tr>\n",
       "      <th>8</th>\n",
       "      <td>Saving accounts_rich</td>\n",
       "      <td>0.00</td>\n",
       "      <td>0.93</td>\n",
       "    </tr>\n",
       "    <tr>\n",
       "      <th>9</th>\n",
       "      <td>Checking account_moderate</td>\n",
       "      <td>-0.01</td>\n",
       "      <td>0.23</td>\n",
       "    </tr>\n",
       "    <tr>\n",
       "      <th>10</th>\n",
       "      <td>Checking account_rich</td>\n",
       "      <td>-0.01</td>\n",
       "      <td>0.58</td>\n",
       "    </tr>\n",
       "  </tbody>\n",
       "</table>\n",
       "</div>"
      ],
      "text/plain": [
       "                  Feature name  Coefficients  p_values\n",
       "0                    Intercept          0.96       nan\n",
       "1                          Age          0.00      0.13\n",
       "2                     Duration         -0.00      0.00\n",
       "3                     Sex_male          0.01      0.22\n",
       "4                  Housing_own          0.00      0.68\n",
       "5                 Housing_rent          0.00      0.70\n",
       "6     Saving accounts_moderate          0.01      0.58\n",
       "7   Saving accounts_quite rich          0.00      0.93\n",
       "8         Saving accounts_rich          0.00      0.93\n",
       "9    Checking account_moderate         -0.01      0.23\n",
       "10       Checking account_rich         -0.01      0.58"
      ]
     },
     "execution_count": 65,
     "metadata": {},
     "output_type": "execute_result"
    }
   ],
   "source": [
    "feature_name2 = X_train2.columns.values\n",
    "summary_table2 = pd.DataFrame(columns = ['Feature name'], data = feature_name2)\n",
    "summary_table2['Coefficients'] = np.transpose(reg_ead.coef_)\n",
    "summary_table2.index = summary_table2.index + 1\n",
    "summary_table2.loc[0] = ['Intercept', reg_ead.intercept_]\n",
    "summary_table2 = summary_table2.sort_index()\n",
    "\n",
    "\n",
    "# We add the 'p_values' here, just as we did before.\n",
    "p_values2 = reg_ead.p\n",
    "p_values2 = np.append(np.nan,np.array(p_values2))\n",
    "summary_table2['p_values'] = p_values2\n",
    "summary_table2\n",
    "# Here we get the results for our final PD model."
   ]
  },
  {
   "cell_type": "markdown",
   "metadata": {},
   "source": [
    "### Model Validation"
   ]
  },
  {
   "cell_type": "code",
   "execution_count": 66,
   "metadata": {},
   "outputs": [
    {
     "data": {
      "text/plain": [
       "array([0.95740652, 0.96374692, 0.98574961, 0.97492679, 0.94524805,\n",
       "       0.95426563, 0.94647933, 0.97310974, 0.95680802, 0.95022114,\n",
       "       0.95614955, 0.96009309, 0.96791823, 0.98586042, 0.96400102,\n",
       "       0.95510018, 0.97162256, 0.96704587, 0.97289982, 0.96930204,\n",
       "       0.94961472, 0.96468935, 0.96639832, 0.96848766, 0.99206826,\n",
       "       0.97567875, 0.95903882, 0.93416473, 0.91902901, 0.9663134 ,\n",
       "       0.94870351, 0.96791823, 0.96972731, 0.95922073, 0.94652152,\n",
       "       0.9712857 , 0.99169794, 0.9313589 , 0.94386425, 0.98627151,\n",
       "       0.97622106, 0.96627148, 0.96493785, 0.9636729 , 0.94189751,\n",
       "       0.9640626 , 0.96060453, 0.96000214, 0.94395223, 0.96063101,\n",
       "       0.9588405 , 0.98314009, 0.97981375, 0.97819822])"
      ]
     },
     "execution_count": 66,
     "metadata": {},
     "output_type": "execute_result"
    }
   ],
   "source": [
    "X_test2 = X_test2.drop(ref_categories_lgd, axis=1)\n",
    "y_pred_ead = reg_ead.predict(X_test2)\n",
    "y_pred_ead"
   ]
  },
  {
   "cell_type": "code",
   "execution_count": 67,
   "metadata": {},
   "outputs": [
    {
     "data": {
      "text/html": [
       "<div>\n",
       "<style scoped>\n",
       "    .dataframe tbody tr th:only-of-type {\n",
       "        vertical-align: middle;\n",
       "    }\n",
       "\n",
       "    .dataframe tbody tr th {\n",
       "        vertical-align: top;\n",
       "    }\n",
       "\n",
       "    .dataframe thead th {\n",
       "        text-align: right;\n",
       "    }\n",
       "</style>\n",
       "<table border=\"1\" class=\"dataframe\">\n",
       "  <thead>\n",
       "    <tr style=\"text-align: right;\">\n",
       "      <th></th>\n",
       "      <th>Actual</th>\n",
       "      <th>Predicted_reg</th>\n",
       "    </tr>\n",
       "  </thead>\n",
       "  <tbody>\n",
       "    <tr>\n",
       "      <th>840</th>\n",
       "      <td>0.99</td>\n",
       "      <td>0.96</td>\n",
       "    </tr>\n",
       "    <tr>\n",
       "      <th>721</th>\n",
       "      <td>0.95</td>\n",
       "      <td>0.96</td>\n",
       "    </tr>\n",
       "    <tr>\n",
       "      <th>268</th>\n",
       "      <td>0.96</td>\n",
       "      <td>0.99</td>\n",
       "    </tr>\n",
       "    <tr>\n",
       "      <th>610</th>\n",
       "      <td>0.95</td>\n",
       "      <td>0.97</td>\n",
       "    </tr>\n",
       "    <tr>\n",
       "      <th>603</th>\n",
       "      <td>0.96</td>\n",
       "      <td>0.95</td>\n",
       "    </tr>\n",
       "  </tbody>\n",
       "</table>\n",
       "</div>"
      ],
      "text/plain": [
       "     Actual  Predicted_reg\n",
       "840    0.99           0.96\n",
       "721    0.95           0.96\n",
       "268    0.96           0.99\n",
       "610    0.95           0.97\n",
       "603    0.96           0.95"
      ]
     },
     "execution_count": 67,
     "metadata": {},
     "output_type": "execute_result"
    }
   ],
   "source": [
    "# We save the data frame into a temporary dataset and then reset the indices\n",
    "y_test_temp2 = y_test2.copy()\n",
    "\n",
    "\n",
    "y_test_temp2.reset_index(drop = True, inplace = True)\n",
    "# We reset the index of a dataframe.\n",
    "\n",
    "df_ead_pred = pd.concat([y_test_temp2, pd.DataFrame(y_pred_ead)], axis = 1)\n",
    "# Concatenates two dataframes.\n",
    "\n",
    "\n",
    "# We rename the columns here\n",
    "df_ead_pred.columns = ['Actual', 'Predicted_reg']\n",
    "\n",
    "df_ead_pred.index = y_test2.index\n",
    "# Makes the index of one dataframe equal to the index of another dataframe.\n",
    "\n",
    "df_ead_pred.head()"
   ]
  },
  {
   "cell_type": "code",
   "execution_count": 68,
   "metadata": {},
   "outputs": [
    {
     "data": {
      "text/html": [
       "<div>\n",
       "<style scoped>\n",
       "    .dataframe tbody tr th:only-of-type {\n",
       "        vertical-align: middle;\n",
       "    }\n",
       "\n",
       "    .dataframe tbody tr th {\n",
       "        vertical-align: top;\n",
       "    }\n",
       "\n",
       "    .dataframe thead th {\n",
       "        text-align: right;\n",
       "    }\n",
       "</style>\n",
       "<table border=\"1\" class=\"dataframe\">\n",
       "  <thead>\n",
       "    <tr style=\"text-align: right;\">\n",
       "      <th></th>\n",
       "      <th>CCF</th>\n",
       "      <th>0</th>\n",
       "    </tr>\n",
       "  </thead>\n",
       "  <tbody>\n",
       "    <tr>\n",
       "      <th>CCF</th>\n",
       "      <td>1.00</td>\n",
       "      <td>-0.04</td>\n",
       "    </tr>\n",
       "    <tr>\n",
       "      <th>0</th>\n",
       "      <td>-0.04</td>\n",
       "      <td>1.00</td>\n",
       "    </tr>\n",
       "  </tbody>\n",
       "</table>\n",
       "</div>"
      ],
      "text/plain": [
       "      CCF     0\n",
       "CCF  1.00 -0.04\n",
       "0   -0.04  1.00"
      ]
     },
     "execution_count": 68,
     "metadata": {},
     "output_type": "execute_result"
    }
   ],
   "source": [
    "pd.concat([y_test_temp2, pd.DataFrame(y_pred_ead)], axis = 1).corr()\n",
    "# We calculate the correlation between actual and predicted values."
   ]
  },
  {
   "cell_type": "code",
   "execution_count": 69,
   "metadata": {},
   "outputs": [
    {
     "data": {
      "image/png": "[encoded data removed]",
      "text/plain": [
       "<Figure size 432x288 with 1 Axes>"
      ]
     },
     "metadata": {},
     "output_type": "display_data"
    }
   ],
   "source": [
    "# Linear regression residuals are symmetrically distributed around the mean zero. It looks like a good model.\n",
    "\n",
    "sns.distplot(y_test_temp2 - y_pred_ead)\n",
    "plt.show()\n",
    "# We plot the distribution of the residuals.\n",
    "\n"
   ]
  },
  {
   "cell_type": "markdown",
   "metadata": {},
   "source": [
    "\n",
    "\n",
    "Predicted EAD cant be greater than 1 or less than 1. We can greater than 1 if linear regression is not constraint to give values between 0-1 despite being trained on a variable that had values between 0-1.\n",
    "\n",
    "In such a scenario, we replace values less than 0 to 0 and all the values greater than 1 to 1.\n"
   ]
  },
  {
   "cell_type": "code",
   "execution_count": 70,
   "metadata": {},
   "outputs": [
    {
     "data": {
      "text/html": [
       "<div>\n",
       "<style scoped>\n",
       "    .dataframe tbody tr th:only-of-type {\n",
       "        vertical-align: middle;\n",
       "    }\n",
       "\n",
       "    .dataframe tbody tr th {\n",
       "        vertical-align: top;\n",
       "    }\n",
       "\n",
       "    .dataframe thead th {\n",
       "        text-align: right;\n",
       "    }\n",
       "</style>\n",
       "<table border=\"1\" class=\"dataframe\">\n",
       "  <thead>\n",
       "    <tr style=\"text-align: right;\">\n",
       "      <th></th>\n",
       "      <th>0</th>\n",
       "    </tr>\n",
       "  </thead>\n",
       "  <tbody>\n",
       "    <tr>\n",
       "      <th>count</th>\n",
       "      <td>54.00</td>\n",
       "    </tr>\n",
       "    <tr>\n",
       "      <th>mean</th>\n",
       "      <td>0.96</td>\n",
       "    </tr>\n",
       "    <tr>\n",
       "      <th>std</th>\n",
       "      <td>0.01</td>\n",
       "    </tr>\n",
       "    <tr>\n",
       "      <th>min</th>\n",
       "      <td>0.92</td>\n",
       "    </tr>\n",
       "    <tr>\n",
       "      <th>25%</th>\n",
       "      <td>0.96</td>\n",
       "    </tr>\n",
       "    <tr>\n",
       "      <th>50%</th>\n",
       "      <td>0.96</td>\n",
       "    </tr>\n",
       "    <tr>\n",
       "      <th>75%</th>\n",
       "      <td>0.97</td>\n",
       "    </tr>\n",
       "    <tr>\n",
       "      <th>max</th>\n",
       "      <td>0.99</td>\n",
       "    </tr>\n",
       "  </tbody>\n",
       "</table>\n",
       "</div>"
      ],
      "text/plain": [
       "          0\n",
       "count 54.00\n",
       "mean   0.96\n",
       "std    0.01\n",
       "min    0.92\n",
       "25%    0.96\n",
       "50%    0.96\n",
       "75%    0.97\n",
       "max    0.99"
      ]
     },
     "execution_count": 70,
     "metadata": {},
     "output_type": "execute_result"
    }
   ],
   "source": [
    "pd.DataFrame(y_pred_ead).describe()\n",
    "# Shows some descriptive statisics for the values of a column."
   ]
  },
  {
   "cell_type": "markdown",
   "metadata": {},
   "source": [
    "\n",
    "## 8. Expected Loss\n",
    "\n",
    "Banks/NBFCs really dont care about expected loss from an individual borrower. That's why we find the total expected loss across all the borrowers or in portfolio.\n",
    "\n",
    "Below, we make the prediction for LGD where LGD = 1 - recovery rate. Then we calculate EAD where EAD = CCF * Funded Amount. Then finally, we merged our train and test to calculate PD model\n",
    "\n",
    "     LGD = 1 - recovery rate\n",
    "     EAD = CCF * Funded Amount\n",
    "     EL = PD * LGD * EAD\n",
    "\n"
   ]
  },
  {
   "cell_type": "code",
   "execution_count": 71,
   "metadata": {},
   "outputs": [
    {
     "data": {
      "text/html": [
       "<div>\n",
       "<style scoped>\n",
       "    .dataframe tbody tr th:only-of-type {\n",
       "        vertical-align: middle;\n",
       "    }\n",
       "\n",
       "    .dataframe tbody tr th {\n",
       "        vertical-align: top;\n",
       "    }\n",
       "\n",
       "    .dataframe thead th {\n",
       "        text-align: right;\n",
       "    }\n",
       "</style>\n",
       "<table border=\"1\" class=\"dataframe\">\n",
       "  <thead>\n",
       "    <tr style=\"text-align: right;\">\n",
       "      <th></th>\n",
       "      <th>Age</th>\n",
       "      <th>Duration</th>\n",
       "      <th>Credit amount</th>\n",
       "      <th>Recovered_Principle</th>\n",
       "      <th>Recoveries</th>\n",
       "      <th>recovery_rate</th>\n",
       "      <th>CCF</th>\n",
       "      <th>recovery_rate_flag</th>\n",
       "      <th>Sex_male</th>\n",
       "      <th>Housing_own</th>\n",
       "      <th>Housing_rent</th>\n",
       "      <th>Saving accounts_moderate</th>\n",
       "      <th>Saving accounts_quite rich</th>\n",
       "      <th>Saving accounts_rich</th>\n",
       "      <th>Checking account_moderate</th>\n",
       "      <th>Checking account_rich</th>\n",
       "    </tr>\n",
       "  </thead>\n",
       "  <tbody>\n",
       "    <tr>\n",
       "      <th>1</th>\n",
       "      <td>22</td>\n",
       "      <td>48</td>\n",
       "      <td>11000</td>\n",
       "      <td>9942.67</td>\n",
       "      <td>0.00</td>\n",
       "      <td>0.00</td>\n",
       "      <td>0.10</td>\n",
       "      <td>0</td>\n",
       "      <td>0</td>\n",
       "      <td>1</td>\n",
       "      <td>0</td>\n",
       "      <td>0</td>\n",
       "      <td>0</td>\n",
       "      <td>0</td>\n",
       "      <td>1</td>\n",
       "      <td>0</td>\n",
       "    </tr>\n",
       "    <tr>\n",
       "      <th>4</th>\n",
       "      <td>53</td>\n",
       "      <td>24</td>\n",
       "      <td>7000</td>\n",
       "      <td>167.56</td>\n",
       "      <td>0.00</td>\n",
       "      <td>0.00</td>\n",
       "      <td>0.98</td>\n",
       "      <td>0</td>\n",
       "      <td>1</td>\n",
       "      <td>0</td>\n",
       "      <td>0</td>\n",
       "      <td>0</td>\n",
       "      <td>0</td>\n",
       "      <td>0</td>\n",
       "      <td>0</td>\n",
       "      <td>0</td>\n",
       "    </tr>\n",
       "    <tr>\n",
       "      <th>9</th>\n",
       "      <td>28</td>\n",
       "      <td>30</td>\n",
       "      <td>10000</td>\n",
       "      <td>235.76</td>\n",
       "      <td>0.00</td>\n",
       "      <td>0.00</td>\n",
       "      <td>0.98</td>\n",
       "      <td>0</td>\n",
       "      <td>1</td>\n",
       "      <td>1</td>\n",
       "      <td>0</td>\n",
       "      <td>0</td>\n",
       "      <td>0</td>\n",
       "      <td>0</td>\n",
       "      <td>1</td>\n",
       "      <td>0</td>\n",
       "    </tr>\n",
       "  </tbody>\n",
       "</table>\n",
       "</div>"
      ],
      "text/plain": [
       "   Age  Duration  Credit amount  Recovered_Principle  Recoveries  \\\n",
       "1   22        48          11000              9942.67        0.00   \n",
       "4   53        24           7000               167.56        0.00   \n",
       "9   28        30          10000               235.76        0.00   \n",
       "\n",
       "   recovery_rate  CCF  recovery_rate_flag  Sex_male  Housing_own  \\\n",
       "1           0.00 0.10                   0         0            1   \n",
       "4           0.00 0.98                   0         1            0   \n",
       "9           0.00 0.98                   0         1            1   \n",
       "\n",
       "   Housing_rent  Saving accounts_moderate  Saving accounts_quite rich  \\\n",
       "1             0                         0                           0   \n",
       "4             0                         0                           0   \n",
       "9             0                         0                           0   \n",
       "\n",
       "   Saving accounts_rich  Checking account_moderate  Checking account_rich  \n",
       "1                     0                          1                      0  \n",
       "4                     0                          0                      0  \n",
       "9                     0                          1                      0  "
      ]
     },
     "execution_count": 71,
     "metadata": {},
     "output_type": "execute_result"
    }
   ],
   "source": [
    "df_EL = df1.copy()\n",
    "\n",
    "# Here we take only the accounts that were charged-off (written-off)\n",
    "df_EL = df_EL[df_EL['Risk'].isin(['bad'])]\n",
    "df_EL = df_EL.drop(['Job', 'Purpose', 'Risk'], axis=1)\n",
    "\n",
    "df_EL = pd.get_dummies(df_EL, columns=['Sex', 'Housing', 'Saving accounts', 'Checking account'])\n",
    "df_EL = df_EL.drop(ref_categories_lgd, axis=1)\n",
    "df_EL.head(3)\n"
   ]
  },
  {
   "cell_type": "code",
   "execution_count": 72,
   "metadata": {},
   "outputs": [
    {
     "data": {
      "text/plain": [
       "Index(['Age', 'Duration', 'recovery_rate_flag', 'Sex_male', 'Housing_own',\n",
       "       'Housing_rent', 'Saving accounts_moderate',\n",
       "       'Saving accounts_quite rich', 'Saving accounts_rich',\n",
       "       'Checking account_moderate', 'Checking account_rich'],\n",
       "      dtype='object')"
      ]
     },
     "execution_count": 72,
     "metadata": {},
     "output_type": "execute_result"
    }
   ],
   "source": [
    "df_EL1 = df_EL.copy()\n",
    "df_EL1 = df_EL1.drop(['Credit amount', 'Recovered_Principle', 'Recoveries', 'recovery_rate', 'CCF'], axis=1)\n",
    "df_EL1.columns"
   ]
  },
  {
   "cell_type": "code",
   "execution_count": 73,
   "metadata": {},
   "outputs": [
    {
     "data": {
      "text/plain": [
       "Index(['Age', 'Duration', 'Sex_male', 'Housing_own', 'Housing_rent',\n",
       "       'Saving accounts_moderate', 'Saving accounts_quite rich',\n",
       "       'Saving accounts_rich', 'Checking account_moderate',\n",
       "       'Checking account_rich'],\n",
       "      dtype='object')"
      ]
     },
     "execution_count": 73,
     "metadata": {},
     "output_type": "execute_result"
    }
   ],
   "source": [
    "X_train.columns"
   ]
  },
  {
   "cell_type": "code",
   "execution_count": 74,
   "metadata": {},
   "outputs": [],
   "source": [
    "\n",
    "Y_EL1 = df_EL1.loc[:, 'recovery_rate_flag']\n",
    "X_EL1 = df_EL1.drop(['recovery_rate_flag'], axis=1)\n"
   ]
  },
  {
   "cell_type": "code",
   "execution_count": 75,
   "metadata": {},
   "outputs": [
    {
     "data": {
      "text/plain": [
       "array([1, 1, 1, 1, 1])"
      ]
     },
     "execution_count": 75,
     "metadata": {},
     "output_type": "execute_result"
    }
   ],
   "source": [
    "recovery_rate_stage1 = reg.model.predict(X_EL1)\n",
    "recovery_rate_stage1[:5]"
   ]
  },
  {
   "cell_type": "code",
   "execution_count": 76,
   "metadata": {},
   "outputs": [
    {
     "name": "stdout",
     "output_type": "stream",
     "text": [
      "['Age' 'Duration' 'Sex_male' 'Housing_own' 'Housing_rent'\n",
      " 'Saving accounts_moderate' 'Saving accounts_quite rich'\n",
      " 'Saving accounts_rich' 'Checking account_moderate'\n",
      " 'Checking account_rich']\n"
     ]
    }
   ],
   "source": [
    "#df_EL1 = df_EL1[df_EL1['recovery_rate_flag'] == 1]\n",
    "\"\"\"# Here we do not take only rows where the original recovery rate variable is greater than zero, i.e. where the\n",
    "indicator variable we created is equal to 1. Even if predict a value, it wuld be multiplied by predictd \n",
    "probabiltiy (0) and would become zero.\"\"\"\n",
    "\n",
    "# we add a variable recovery rate in the df_EL1\n",
    "df_EL1['recovery_rate'] = df_EL['recovery_rate']\n",
    "\n",
    "\n",
    "Y2 = df_EL1.loc[:, 'recovery_rate']\n",
    "df_EL1 = df_EL1.drop(['recovery_rate', 'recovery_rate_flag'], axis=1)\n",
    "X2 = df_EL1.copy()\n",
    "print(X2.columns.values)"
   ]
  },
  {
   "cell_type": "code",
   "execution_count": 77,
   "metadata": {},
   "outputs": [
    {
     "data": {
      "text/plain": [
       "array([0.22476454, 0.15942798, 0.2002482 , 0.19760154, 0.18796946])"
      ]
     },
     "execution_count": 77,
     "metadata": {},
     "output_type": "execute_result"
    }
   ],
   "source": [
    "recovery_rate_stage2 = reg_stage2.predict(X2)\n",
    "recovery_rate_stage2[:5]"
   ]
  },
  {
   "cell_type": "code",
   "execution_count": 78,
   "metadata": {},
   "outputs": [
    {
     "data": {
      "text/plain": [
       "count   269.00\n",
       "mean      0.18\n",
       "std       0.02\n",
       "min       0.00\n",
       "25%       0.17\n",
       "50%       0.18\n",
       "75%       0.20\n",
       "max       0.22\n",
       "Name: Final Recovery rate, dtype: float64"
      ]
     },
     "execution_count": 78,
     "metadata": {},
     "output_type": "execute_result"
    }
   ],
   "source": [
    "# Final recovery rate should be between \n",
    "df_EL1['Final Recovery rate'] = recovery_rate_stage1 * recovery_rate_stage2\n",
    "df_EL1['Final Recovery rate'].describe()\n"
   ]
  },
  {
   "cell_type": "code",
   "execution_count": 79,
   "metadata": {},
   "outputs": [
    {
     "data": {
      "text/plain": [
       "count   269.00\n",
       "mean      0.82\n",
       "std       0.02\n",
       "min       0.78\n",
       "25%       0.80\n",
       "50%       0.82\n",
       "75%       0.83\n",
       "max       1.00\n",
       "Name: LGD, dtype: float64"
      ]
     },
     "execution_count": 79,
     "metadata": {},
     "output_type": "execute_result"
    }
   ],
   "source": [
    "df_EL1['LGD'] = 1 - df_EL1['Final Recovery rate']\n",
    "# We calculate estimated LGD. Estimated LGD equals 1 - estimated recovery rate.\n",
    "df_EL1['LGD'].describe()"
   ]
  },
  {
   "cell_type": "code",
   "execution_count": 80,
   "metadata": {},
   "outputs": [
    {
     "data": {
      "text/plain": [
       "count   269.00\n",
       "mean      0.96\n",
       "std       0.02\n",
       "min       0.92\n",
       "25%       0.95\n",
       "50%       0.96\n",
       "75%       0.97\n",
       "max       0.99\n",
       "Name: CCF, dtype: float64"
      ]
     },
     "execution_count": 80,
     "metadata": {},
     "output_type": "execute_result"
    }
   ],
   "source": [
    "df_EL1['CCF'] = reg_ead.predict(X2)\n",
    "# We apply the EAD model to calculate estimated credit conversion factor.\n",
    "df_EL1['CCF'].describe()"
   ]
  },
  {
   "cell_type": "code",
   "execution_count": 81,
   "metadata": {},
   "outputs": [
    {
     "data": {
      "text/plain": [
       "count     269.00\n",
       "mean    13209.14\n",
       "std      6934.90\n",
       "min      2010.76\n",
       "25%      7736.37\n",
       "50%     11735.45\n",
       "75%     19138.91\n",
       "max     33702.96\n",
       "Name: EAD_amt, dtype: float64"
      ]
     },
     "execution_count": 81,
     "metadata": {},
     "output_type": "execute_result"
    }
   ],
   "source": [
    "df_EL1['EAD_amt'] = df_EL1['CCF'] * df_EL['Credit amount']\n",
    "# We calculate estimated EAD. Estimated EAD equals estimated CCF multiplied by funded amount.\n",
    "df_EL1['EAD_amt'].describe()"
   ]
  },
  {
   "cell_type": "markdown",
   "metadata": {},
   "source": [
    "## 6. Uploading the Original Dataset for PD\n",
    "\n",
    "So far, we have been able to calculate LGD & EAD for all observations. \n",
    "\n",
    "Now, we need PD as well. For that, we would load original dataset. Then bin it according the binning we did in the 1st file script. Then we would load the PD model we built in the 2nd file script. Then we would predict PD on this dataset."
   ]
  },
  {
   "cell_type": "code",
   "execution_count": 82,
   "metadata": {},
   "outputs": [
    {
     "data": {
      "text/html": [
       "<div>\n",
       "<style scoped>\n",
       "    .dataframe tbody tr th:only-of-type {\n",
       "        vertical-align: middle;\n",
       "    }\n",
       "\n",
       "    .dataframe tbody tr th {\n",
       "        vertical-align: top;\n",
       "    }\n",
       "\n",
       "    .dataframe thead th {\n",
       "        text-align: right;\n",
       "    }\n",
       "</style>\n",
       "<table border=\"1\" class=\"dataframe\">\n",
       "  <thead>\n",
       "    <tr style=\"text-align: right;\">\n",
       "      <th></th>\n",
       "      <th>Unnamed: 0</th>\n",
       "      <th>Age</th>\n",
       "      <th>Duration</th>\n",
       "      <th>Risk</th>\n",
       "      <th>Credit amount</th>\n",
       "      <th>Recovered_Principle</th>\n",
       "      <th>Recoveries</th>\n",
       "      <th>default</th>\n",
       "      <th>Sex_female</th>\n",
       "      <th>Sex_male</th>\n",
       "      <th>...</th>\n",
       "      <th>Duration:7-14</th>\n",
       "      <th>Duration:14-21</th>\n",
       "      <th>Duration:21-36</th>\n",
       "      <th>Duration:&gt;= 36</th>\n",
       "      <th>Loan:&lt;3500</th>\n",
       "      <th>Loan:3.5k-8k</th>\n",
       "      <th>Loan:8k-12k</th>\n",
       "      <th>Loan:12k-20k</th>\n",
       "      <th>Loan:20-26k</th>\n",
       "      <th>Loan:&gt;= 26k</th>\n",
       "    </tr>\n",
       "  </thead>\n",
       "  <tbody>\n",
       "    <tr>\n",
       "      <th>0</th>\n",
       "      <td>0</td>\n",
       "      <td>67</td>\n",
       "      <td>6</td>\n",
       "      <td>good</td>\n",
       "      <td>17000</td>\n",
       "      <td>17000.00</td>\n",
       "      <td>0.00</td>\n",
       "      <td>0</td>\n",
       "      <td>0</td>\n",
       "      <td>1</td>\n",
       "      <td>...</td>\n",
       "      <td>0</td>\n",
       "      <td>0</td>\n",
       "      <td>0</td>\n",
       "      <td>0</td>\n",
       "      <td>0</td>\n",
       "      <td>0</td>\n",
       "      <td>0</td>\n",
       "      <td>1</td>\n",
       "      <td>1</td>\n",
       "      <td>0</td>\n",
       "    </tr>\n",
       "    <tr>\n",
       "      <th>1</th>\n",
       "      <td>1</td>\n",
       "      <td>22</td>\n",
       "      <td>48</td>\n",
       "      <td>bad</td>\n",
       "      <td>11000</td>\n",
       "      <td>9942.67</td>\n",
       "      <td>0.00</td>\n",
       "      <td>1</td>\n",
       "      <td>1</td>\n",
       "      <td>0</td>\n",
       "      <td>...</td>\n",
       "      <td>0</td>\n",
       "      <td>0</td>\n",
       "      <td>0</td>\n",
       "      <td>1</td>\n",
       "      <td>0</td>\n",
       "      <td>0</td>\n",
       "      <td>1</td>\n",
       "      <td>1</td>\n",
       "      <td>1</td>\n",
       "      <td>0</td>\n",
       "    </tr>\n",
       "    <tr>\n",
       "      <th>2</th>\n",
       "      <td>2</td>\n",
       "      <td>49</td>\n",
       "      <td>12</td>\n",
       "      <td>good</td>\n",
       "      <td>32200</td>\n",
       "      <td>32200.00</td>\n",
       "      <td>0.00</td>\n",
       "      <td>0</td>\n",
       "      <td>0</td>\n",
       "      <td>1</td>\n",
       "      <td>...</td>\n",
       "      <td>1</td>\n",
       "      <td>0</td>\n",
       "      <td>0</td>\n",
       "      <td>0</td>\n",
       "      <td>0</td>\n",
       "      <td>0</td>\n",
       "      <td>0</td>\n",
       "      <td>0</td>\n",
       "      <td>0</td>\n",
       "      <td>1</td>\n",
       "    </tr>\n",
       "    <tr>\n",
       "      <th>3</th>\n",
       "      <td>3</td>\n",
       "      <td>45</td>\n",
       "      <td>42</td>\n",
       "      <td>good</td>\n",
       "      <td>12000</td>\n",
       "      <td>12000.00</td>\n",
       "      <td>0.00</td>\n",
       "      <td>0</td>\n",
       "      <td>0</td>\n",
       "      <td>1</td>\n",
       "      <td>...</td>\n",
       "      <td>0</td>\n",
       "      <td>0</td>\n",
       "      <td>0</td>\n",
       "      <td>1</td>\n",
       "      <td>0</td>\n",
       "      <td>0</td>\n",
       "      <td>0</td>\n",
       "      <td>1</td>\n",
       "      <td>1</td>\n",
       "      <td>0</td>\n",
       "    </tr>\n",
       "    <tr>\n",
       "      <th>4</th>\n",
       "      <td>4</td>\n",
       "      <td>53</td>\n",
       "      <td>24</td>\n",
       "      <td>bad</td>\n",
       "      <td>7000</td>\n",
       "      <td>167.56</td>\n",
       "      <td>0.00</td>\n",
       "      <td>1</td>\n",
       "      <td>0</td>\n",
       "      <td>1</td>\n",
       "      <td>...</td>\n",
       "      <td>0</td>\n",
       "      <td>0</td>\n",
       "      <td>1</td>\n",
       "      <td>0</td>\n",
       "      <td>0</td>\n",
       "      <td>1</td>\n",
       "      <td>1</td>\n",
       "      <td>1</td>\n",
       "      <td>1</td>\n",
       "      <td>0</td>\n",
       "    </tr>\n",
       "  </tbody>\n",
       "</table>\n",
       "<p>5 rows × 48 columns</p>\n",
       "</div>"
      ],
      "text/plain": [
       "   Unnamed: 0  Age  Duration  Risk  Credit amount  Recovered_Principle  \\\n",
       "0           0   67         6  good          17000             17000.00   \n",
       "1           1   22        48   bad          11000              9942.67   \n",
       "2           2   49        12  good          32200             32200.00   \n",
       "3           3   45        42  good          12000             12000.00   \n",
       "4           4   53        24   bad           7000               167.56   \n",
       "\n",
       "   Recoveries  default  Sex_female  Sex_male  ...  Duration:7-14  \\\n",
       "0        0.00        0           0         1  ...              0   \n",
       "1        0.00        1           1         0  ...              0   \n",
       "2        0.00        0           0         1  ...              1   \n",
       "3        0.00        0           0         1  ...              0   \n",
       "4        0.00        1           0         1  ...              0   \n",
       "\n",
       "   Duration:14-21  Duration:21-36  Duration:>= 36  Loan:<3500  Loan:3.5k-8k  \\\n",
       "0               0               0               0           0             0   \n",
       "1               0               0               1           0             0   \n",
       "2               0               0               0           0             0   \n",
       "3               0               0               1           0             0   \n",
       "4               0               1               0           0             1   \n",
       "\n",
       "   Loan:8k-12k  Loan:12k-20k  Loan:20-26k  Loan:>= 26k  \n",
       "0            0             1            1            0  \n",
       "1            1             1            1            0  \n",
       "2            0             0            0            1  \n",
       "3            0             1            1            0  \n",
       "4            1             1            1            0  \n",
       "\n",
       "[5 rows x 48 columns]"
      ]
     },
     "execution_count": 82,
     "metadata": {},
     "output_type": "execute_result"
    }
   ],
   "source": [
    "df3 = pd.read_excel(\"German binned_data.xlsx\", sheet_name= 'Sheet1', date_parser=True)\n",
    "df3.head()"
   ]
  },
  {
   "cell_type": "code",
   "execution_count": 83,
   "metadata": {},
   "outputs": [
    {
     "data": {
      "text/html": [
       "<div>\n",
       "<style scoped>\n",
       "    .dataframe tbody tr th:only-of-type {\n",
       "        vertical-align: middle;\n",
       "    }\n",
       "\n",
       "    .dataframe tbody tr th {\n",
       "        vertical-align: top;\n",
       "    }\n",
       "\n",
       "    .dataframe thead th {\n",
       "        text-align: right;\n",
       "    }\n",
       "</style>\n",
       "<table border=\"1\" class=\"dataframe\">\n",
       "  <thead>\n",
       "    <tr style=\"text-align: right;\">\n",
       "      <th></th>\n",
       "      <th>Sex_female</th>\n",
       "      <th>Sex_male</th>\n",
       "      <th>Housing_free</th>\n",
       "      <th>Housing_own</th>\n",
       "      <th>Housing_rent</th>\n",
       "      <th>Saving accounts_little</th>\n",
       "      <th>Saving accounts_moderate</th>\n",
       "      <th>Saving accounts_quite rich</th>\n",
       "      <th>Saving accounts_rich</th>\n",
       "      <th>Checking account_little</th>\n",
       "      <th>...</th>\n",
       "      <th>Duration:7-14</th>\n",
       "      <th>Duration:14-21</th>\n",
       "      <th>Duration:21-36</th>\n",
       "      <th>Duration:&gt;= 36</th>\n",
       "      <th>Loan:&lt;3500</th>\n",
       "      <th>Loan:3.5k-8k</th>\n",
       "      <th>Loan:8k-12k</th>\n",
       "      <th>Loan:12k-20k</th>\n",
       "      <th>Loan:20-26k</th>\n",
       "      <th>Loan:&gt;= 26k</th>\n",
       "    </tr>\n",
       "  </thead>\n",
       "  <tbody>\n",
       "    <tr>\n",
       "      <th>0</th>\n",
       "      <td>0</td>\n",
       "      <td>1</td>\n",
       "      <td>0</td>\n",
       "      <td>1</td>\n",
       "      <td>0</td>\n",
       "      <td>1</td>\n",
       "      <td>0</td>\n",
       "      <td>0</td>\n",
       "      <td>0</td>\n",
       "      <td>1</td>\n",
       "      <td>...</td>\n",
       "      <td>0</td>\n",
       "      <td>0</td>\n",
       "      <td>0</td>\n",
       "      <td>0</td>\n",
       "      <td>0</td>\n",
       "      <td>0</td>\n",
       "      <td>0</td>\n",
       "      <td>1</td>\n",
       "      <td>1</td>\n",
       "      <td>0</td>\n",
       "    </tr>\n",
       "    <tr>\n",
       "      <th>1</th>\n",
       "      <td>1</td>\n",
       "      <td>0</td>\n",
       "      <td>0</td>\n",
       "      <td>1</td>\n",
       "      <td>0</td>\n",
       "      <td>1</td>\n",
       "      <td>0</td>\n",
       "      <td>0</td>\n",
       "      <td>0</td>\n",
       "      <td>0</td>\n",
       "      <td>...</td>\n",
       "      <td>0</td>\n",
       "      <td>0</td>\n",
       "      <td>0</td>\n",
       "      <td>1</td>\n",
       "      <td>0</td>\n",
       "      <td>0</td>\n",
       "      <td>1</td>\n",
       "      <td>1</td>\n",
       "      <td>1</td>\n",
       "      <td>0</td>\n",
       "    </tr>\n",
       "  </tbody>\n",
       "</table>\n",
       "<p>2 rows × 28 columns</p>\n",
       "</div>"
      ],
      "text/plain": [
       "   Sex_female  Sex_male  Housing_free  Housing_own  Housing_rent  \\\n",
       "0           0         1             0            1             0   \n",
       "1           1         0             0            1             0   \n",
       "\n",
       "   Saving accounts_little  Saving accounts_moderate  \\\n",
       "0                       1                         0   \n",
       "1                       1                         0   \n",
       "\n",
       "   Saving accounts_quite rich  Saving accounts_rich  Checking account_little  \\\n",
       "0                           0                     0                        1   \n",
       "1                           0                     0                        0   \n",
       "\n",
       "   ...  Duration:7-14  Duration:14-21  Duration:21-36  Duration:>= 36  \\\n",
       "0  ...              0               0               0               0   \n",
       "1  ...              0               0               0               1   \n",
       "\n",
       "   Loan:<3500  Loan:3.5k-8k  Loan:8k-12k  Loan:12k-20k  Loan:20-26k  \\\n",
       "0           0             0            0             1            1   \n",
       "1           0             0            1             1            1   \n",
       "\n",
       "   Loan:>= 26k  \n",
       "0            0  \n",
       "1            0  \n",
       "\n",
       "[2 rows x 28 columns]"
      ]
     },
     "execution_count": 83,
     "metadata": {},
     "output_type": "execute_result"
    }
   ],
   "source": [
    "df3 = df3.drop(['Unnamed: 0', 'Age', 'Duration', 'Risk', 'Credit amount', 'Recovered_Principle', 'Recoveries',\n",
    "                'default', 'Job_0', 'Job_1', 'Job_2', 'Job_3', 'Purpose_business', 'Purpose_car',\n",
    "                'Purpose_domestic appliances', 'Purpose_education', 'Purpose_furniture/equipment',\n",
    "                'Purpose_radio/TV', 'Purpose_repairs', 'Purpose_vacation/others',], axis=1)\n",
    "\n",
    "df3.head(2)"
   ]
  },
  {
   "cell_type": "code",
   "execution_count": 84,
   "metadata": {},
   "outputs": [
    {
     "data": {
      "text/plain": [
       "array(['Sex_male', 'Housing_own', 'Housing_rent',\n",
       "       'Saving accounts_moderate', 'Saving accounts_quite rich',\n",
       "       'Saving accounts_rich', 'Checking account_moderate',\n",
       "       'Checking account_rich', 'Age:25-35', 'Age:35-45', 'Age:45-50',\n",
       "       'Age:>= 50', 'Duration:7-14', 'Duration:14-21', 'Duration:21-36',\n",
       "       'Duration:>= 36', 'Loan:3.5k-8k', 'Loan:8k-12k', 'Loan:12k-20k',\n",
       "       'Loan:20-26k', 'Loan:>= 26k'], dtype=object)"
      ]
     },
     "execution_count": 84,
     "metadata": {},
     "output_type": "execute_result"
    }
   ],
   "source": [
    "ref_categ = ['Sex_female', 'Housing_free', 'Saving accounts_little',  'Checking account_little',\n",
    "                         'Age:<25', 'Duration:<7', 'Loan:<3500']\n",
    "\n",
    "df3 = df3.drop(ref_categ, axis=1)\n",
    "df3.columns.values"
   ]
  },
  {
   "cell_type": "code",
   "execution_count": 85,
   "metadata": {},
   "outputs": [
    {
     "data": {
      "text/plain": [
       "<__main__.LogisticRegression_with_p_values at 0x2ad44b250c8>"
      ]
     },
     "execution_count": 85,
     "metadata": {},
     "output_type": "execute_result"
    }
   ],
   "source": [
    "import pickle\n",
    "\n",
    "reg_pd = pickle.load(open('pd_model.sav', 'rb'))\n",
    "# We import the PD model, stored in the 'pd_model.sav' file.\n",
    "reg_pd"
   ]
  },
  {
   "cell_type": "code",
   "execution_count": 86,
   "metadata": {},
   "outputs": [
    {
     "data": {
      "text/plain": [
       "count   901.00\n",
       "mean      0.31\n",
       "std       0.17\n",
       "min       0.02\n",
       "25%       0.18\n",
       "50%       0.29\n",
       "75%       0.42\n",
       "max       0.84\n",
       "Name: PD, dtype: float64"
      ]
     },
     "execution_count": 86,
     "metadata": {},
     "output_type": "execute_result"
    }
   ],
   "source": [
    "df['PD'] = reg_pd.model.predict_proba(df3)[: ][: , 1]\n",
    "# We apply the PD model to caclulate estimated default probabilities.\n",
    "\n",
    "df['PD'].describe()"
   ]
  },
  {
   "cell_type": "code",
   "execution_count": 87,
   "metadata": {},
   "outputs": [
    {
     "data": {
      "text/plain": [
       "count     269.00\n",
       "mean    13209.14\n",
       "std      6934.90\n",
       "min      2010.76\n",
       "25%      7736.37\n",
       "50%     11735.45\n",
       "75%     19138.91\n",
       "max     33702.96\n",
       "Name: EAD_amt, dtype: float64"
      ]
     },
     "execution_count": 87,
     "metadata": {},
     "output_type": "execute_result"
    }
   ],
   "source": [
    "df['EAD_amt'] = df_EL1['EAD_amt']\n",
    "df['EAD_amt'].describe()"
   ]
  },
  {
   "cell_type": "code",
   "execution_count": 88,
   "metadata": {},
   "outputs": [
    {
     "data": {
      "text/plain": [
       "count   269.00\n",
       "mean      0.82\n",
       "std       0.02\n",
       "min       0.78\n",
       "25%       0.80\n",
       "50%       0.82\n",
       "75%       0.83\n",
       "max       1.00\n",
       "Name: LGD, dtype: float64"
      ]
     },
     "execution_count": 88,
     "metadata": {},
     "output_type": "execute_result"
    }
   ],
   "source": [
    "df['LGD'] = df_EL1['LGD']\n",
    "df['LGD'].describe()"
   ]
  },
  {
   "cell_type": "code",
   "execution_count": 89,
   "metadata": {},
   "outputs": [
    {
     "data": {
      "text/plain": [
       "count     269.00\n",
       "mean     4446.76\n",
       "std      3192.70\n",
       "min       192.53\n",
       "25%      2220.40\n",
       "50%      3557.94\n",
       "75%      6183.58\n",
       "max     14944.01\n",
       "Name: EL, dtype: float64"
      ]
     },
     "execution_count": 89,
     "metadata": {},
     "output_type": "execute_result"
    }
   ],
   "source": [
    "df['EL'] = df['PD'] * df['LGD'] * df['EAD_amt']\n",
    "# We calculate Expected Loss. EL = PD * LGD * EAD.\n",
    "\n",
    "df['EL'].describe()\n",
    "# Shows some descriptive statisics for the values of a column."
   ]
  },
  {
   "cell_type": "code",
   "execution_count": 90,
   "metadata": {},
   "outputs": [
    {
     "data": {
      "text/html": [
       "<div>\n",
       "<style scoped>\n",
       "    .dataframe tbody tr th:only-of-type {\n",
       "        vertical-align: middle;\n",
       "    }\n",
       "\n",
       "    .dataframe tbody tr th {\n",
       "        vertical-align: top;\n",
       "    }\n",
       "\n",
       "    .dataframe thead th {\n",
       "        text-align: right;\n",
       "    }\n",
       "</style>\n",
       "<table border=\"1\" class=\"dataframe\">\n",
       "  <thead>\n",
       "    <tr style=\"text-align: right;\">\n",
       "      <th></th>\n",
       "      <th>Credit amount</th>\n",
       "      <th>PD</th>\n",
       "      <th>LGD</th>\n",
       "      <th>EAD_amt</th>\n",
       "      <th>EL</th>\n",
       "    </tr>\n",
       "  </thead>\n",
       "  <tbody>\n",
       "    <tr>\n",
       "      <th>0</th>\n",
       "      <td>17000</td>\n",
       "      <td>0.14</td>\n",
       "      <td>nan</td>\n",
       "      <td>nan</td>\n",
       "      <td>nan</td>\n",
       "    </tr>\n",
       "    <tr>\n",
       "      <th>1</th>\n",
       "      <td>11000</td>\n",
       "      <td>0.72</td>\n",
       "      <td>0.78</td>\n",
       "      <td>10116.70</td>\n",
       "      <td>5665.26</td>\n",
       "    </tr>\n",
       "    <tr>\n",
       "      <th>2</th>\n",
       "      <td>32200</td>\n",
       "      <td>0.04</td>\n",
       "      <td>nan</td>\n",
       "      <td>nan</td>\n",
       "      <td>nan</td>\n",
       "    </tr>\n",
       "    <tr>\n",
       "      <th>3</th>\n",
       "      <td>12000</td>\n",
       "      <td>0.49</td>\n",
       "      <td>nan</td>\n",
       "      <td>nan</td>\n",
       "      <td>nan</td>\n",
       "    </tr>\n",
       "    <tr>\n",
       "      <th>4</th>\n",
       "      <td>7000</td>\n",
       "      <td>0.44</td>\n",
       "      <td>0.84</td>\n",
       "      <td>6831.29</td>\n",
       "      <td>2543.81</td>\n",
       "    </tr>\n",
       "  </tbody>\n",
       "</table>\n",
       "</div>"
      ],
      "text/plain": [
       "   Credit amount   PD  LGD  EAD_amt      EL\n",
       "0          17000 0.14  nan      nan     nan\n",
       "1          11000 0.72 0.78 10116.70 5665.26\n",
       "2          32200 0.04  nan      nan     nan\n",
       "3          12000 0.49  nan      nan     nan\n",
       "4           7000 0.44 0.84  6831.29 2543.81"
      ]
     },
     "execution_count": 90,
     "metadata": {},
     "output_type": "execute_result"
    }
   ],
   "source": [
    "df[['Credit amount', 'PD', 'LGD', 'EAD_amt', 'EL']].head()"
   ]
  },
  {
   "cell_type": "code",
   "execution_count": 91,
   "metadata": {},
   "outputs": [
    {
     "data": {
      "text/plain": [
       "1196177.7873870172"
      ]
     },
     "execution_count": 91,
     "metadata": {},
     "output_type": "execute_result"
    }
   ],
   "source": [
    "df['EL'].sum()\n",
    "# Total Expected Loss for all loans."
   ]
  },
  {
   "cell_type": "code",
   "execution_count": 92,
   "metadata": {},
   "outputs": [
    {
     "data": {
      "text/plain": [
       "0.0948222376931353"
      ]
     },
     "execution_count": 92,
     "metadata": {},
     "output_type": "execute_result"
    }
   ],
   "source": [
    "df['EL'].sum() / df['Credit amount'].sum()"
   ]
  },
  {
   "cell_type": "markdown",
   "metadata": {},
   "source": [
    "Typically banks keep 10% of their capital as assets. So, Expected loss of 9.5% of the total loan portfolio doesnt actually sound that bad. But bank should do cautious lending."
   ]
  },
  {
   "cell_type": "code",
   "execution_count": null,
   "metadata": {},
   "outputs": [],
   "source": []
  }
 ],
 "metadata": {
  "kernelspec": {
   "display_name": "Python 3",
   "language": "python",
   "name": "python3"
  },
  "language_info": {
   "codemirror_mode": {
    "name": "ipython",
    "version": 3
   },
   "file_extension": ".py",
   "mimetype": "text/x-python",
   "name": "python",
   "nbconvert_exporter": "python",
   "pygments_lexer": "ipython3",
   "version": "3.7.6"
  }
 },
 "nbformat": 4,
 "nbformat_minor": 4
}
