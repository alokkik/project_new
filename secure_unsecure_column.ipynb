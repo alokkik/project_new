{
 "cells": [
  {
   "cell_type": "code",
   "execution_count": 13,
   "id": "7238cf14",
   "metadata": {},
   "outputs": [],
   "source": [
    "import pandas as pd\n",
    "import os\n",
    "import numpy as np\n",
    "\n",
    "path = r\"C://Users/Alok169231/Downloads/project_new/project_new-master/\"\n",
    "\n",
    "all_loan_typedf = pd.read_excel(os.path.join(path,\"all_loans_sec_unsec.xlsx\"))\n",
    "loan_typedf = pd.read_csv(os.path.join(path,\"loan_type.csv\"))\n",
    "all_loan_typedf = all_loan_typedf.set_index('Name')\n",
    "\n",
    "def map_values(all_loan_typedf, row):\n",
    "    try:\n",
    "        return all_loan_typedf.loc[row][0].strip()\n",
    "    except:\n",
    "        return np.nan\n",
    "\n",
    "loan_typedf['secured/unsecured'] = loan_typedf.name.apply(lambda row:map_values(all_loan_typedf, row))"
   ]
  },
  {
   "cell_type": "code",
   "execution_count": 15,
   "id": "5b3e07f1",
   "metadata": {},
   "outputs": [],
   "source": [
    "# below are the loans which are neither secured nor unsecured\n",
    "#loan_typedf = loan_typedf[loan_typedf['secured/unsecured'].isnull()]\n",
    "\n",
    "# lets assume the worst case and classify them risky or unsecured\n",
    "loan_typedf['secured/unsecured']=loan_typedf['secured/unsecured'].fillna('Unsecured')"
   ]
  },
  {
   "cell_type": "code",
   "execution_count": 19,
   "id": "9dc9c4ba",
   "metadata": {},
   "outputs": [],
   "source": [
    "loan_typedf.to_csv(os.path.join(path,\"loan_type_sec_unsec.csv\"), index=False)"
   ]
  },
  {
   "cell_type": "code",
   "execution_count": null,
   "id": "baed1bd0",
   "metadata": {},
   "outputs": [],
   "source": []
  }
 ],
 "metadata": {
  "kernelspec": {
   "display_name": "Python 3 (ipykernel)",
   "language": "python",
   "name": "python3"
  },
  "language_info": {
   "codemirror_mode": {
    "name": "ipython",
    "version": 3
   },
   "file_extension": ".py",
   "mimetype": "text/x-python",
   "name": "python",
   "nbconvert_exporter": "python",
   "pygments_lexer": "ipython3",
   "version": "3.9.7"
  }
 },
 "nbformat": 4,
 "nbformat_minor": 5
}
